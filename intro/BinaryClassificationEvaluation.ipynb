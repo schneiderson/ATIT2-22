{
  "nbformat": 4,
  "nbformat_minor": 0,
  "metadata": {
    "colab": {
      "name": "BinaryClassificationEvaluation.ipynb",
      "provenance": [],
      "authorship_tag": "ABX9TyPy60l9dyWP9DuIrcU98r4p",
      "include_colab_link": true
    },
    "kernelspec": {
      "name": "python3",
      "display_name": "Python 3"
    }
  },
  "cells": [
    {
      "cell_type": "markdown",
      "metadata": {
        "id": "view-in-github",
        "colab_type": "text"
      },
      "source": [
        "<a href=\"https://colab.research.google.com/github/schneiderson/ATIT2-20/blob/main/intro/BinaryClassificationEvaluation.ipynb\" target=\"_parent\"><img src=\"https://colab.research.google.com/assets/colab-badge.svg\" alt=\"Open In Colab\"/></a>"
      ]
    },
    {
      "cell_type": "markdown",
      "metadata": {
        "id": "EF_-_dRFwna7"
      },
      "source": [
        "# Logistic Regression - Evaluation\n",
        "\n",
        "(based on Article: https://machinelearningmastery.com/roc-curves-and-precision-recall-curves-for-classification-in-python/)\n"
      ]
    },
    {
      "cell_type": "code",
      "metadata": {
        "id": "b_YNJOGIwmS6",
        "outputId": "4903333f-60f1-4e1f-864d-a37c9de885e0",
        "colab": {
          "base_uri": "https://localhost:8080/",
          "height": 36
        }
      },
      "source": [
        "import numpy as np\n",
        "import seaborn as sns\n",
        "import matplotlib.pyplot as plt\n",
        "from sklearn.datasets import make_classification\n",
        "from sklearn.linear_model import LogisticRegression\n",
        "from sklearn.model_selection import train_test_split\n",
        "from sklearn.metrics import roc_curve, roc_auc_score, accuracy_score, precision_score, recall_score, confusion_matrix\n",
        "\n",
        "# generate 2 class dataset\n",
        "X, y = make_classification(n_samples=1000, n_classes=2, random_state=1)\n",
        "\n",
        "X.shape"
      ],
      "execution_count": 61,
      "outputs": [
        {
          "output_type": "execute_result",
          "data": {
            "text/plain": [
              "(1000, 20)"
            ]
          },
          "metadata": {
            "tags": []
          },
          "execution_count": 61
        }
      ]
    },
    {
      "cell_type": "code",
      "metadata": {
        "id": "9tjLWfCZHW7j",
        "outputId": "201bc0f6-45ad-478a-8e32-02eb30f7ea6a",
        "colab": {
          "base_uri": "https://localhost:8080/",
          "height": 36
        }
      },
      "source": [
        "np.bincount(y)\n",
        "# this means there are 501 instances of class 0 and 499 instances of class 1\n",
        "# hence the majority class is 0"
      ],
      "execution_count": 62,
      "outputs": [
        {
          "output_type": "execute_result",
          "data": {
            "text/plain": [
              "array([501, 499])"
            ]
          },
          "metadata": {
            "tags": []
          },
          "execution_count": 62
        }
      ]
    },
    {
      "cell_type": "code",
      "metadata": {
        "id": "TfE45biFGpFc",
        "outputId": "ba4e0598-9b57-4c8c-b397-2af231663cfc",
        "colab": {
          "base_uri": "https://localhost:8080/",
          "height": 36
        }
      },
      "source": [
        "trainX, testX, trainy, testy = train_test_split(X, y, test_size=0.5, random_state=2)\n",
        "# generate a no skill prediction (majority class)\n",
        "ns_preds = [0 for _ in range(len(testy))]\n",
        "\n",
        "# fit a model\n",
        "model = LogisticRegression(solver='lbfgs')\n",
        "model.fit(trainX, trainy)\n",
        "\n",
        "# predict probabilities\n",
        "lr_probs = model.predict_proba(testX)\n",
        "\n",
        "lr_probs[0]"
      ],
      "execution_count": 63,
      "outputs": [
        {
          "output_type": "execute_result",
          "data": {
            "text/plain": [
              "array([0.00402732, 0.99597268])"
            ]
          },
          "metadata": {
            "tags": []
          },
          "execution_count": 63
        }
      ]
    },
    {
      "cell_type": "code",
      "metadata": {
        "id": "IucxY_9QHQT1",
        "outputId": "8b802fea-84e0-4cae-a2ab-9d2edadec705",
        "colab": {
          "base_uri": "https://localhost:8080/",
          "height": 36
        }
      },
      "source": [
        "# keep probabilities for the positive outcome only\n",
        "lr_probs = lr_probs[:, 1]\n",
        "lr_probs[0]"
      ],
      "execution_count": 64,
      "outputs": [
        {
          "output_type": "execute_result",
          "data": {
            "text/plain": [
              "0.9959726848561301"
            ]
          },
          "metadata": {
            "tags": []
          },
          "execution_count": 64
        }
      ]
    },
    {
      "cell_type": "code",
      "metadata": {
        "id": "QEuPn4GJPoeM"
      },
      "source": [
        "# You can play with this threshold to see how it effects the performance metrics\n",
        "threshold = 0.5                 # threshold/decision boundary\n",
        "lr_preds = lr_probs > threshold\n",
        "\n",
        "# You can play with this threshold to see how it effects the performance metrics\n",
        "threshold2 = 0.8                 # threshold/decision boundary\n",
        "lr_preds2 = lr_probs > threshold2"
      ],
      "execution_count": 99,
      "outputs": []
    },
    {
      "cell_type": "markdown",
      "metadata": {
        "id": "e4epHReYxHWZ"
      },
      "source": [
        "\n",
        "\n",
        "\n",
        "---\n",
        "\n",
        "\n",
        "\n",
        "---\n",
        "\n",
        "\n",
        "\n",
        "## Confusion matrix"
      ]
    },
    {
      "cell_type": "markdown",
      "metadata": {
        "id": "vG19GbVGJTyv"
      },
      "source": [
        "#### Majority classifier"
      ]
    },
    {
      "cell_type": "code",
      "metadata": {
        "id": "p1eErOIRxQo_",
        "outputId": "608aa8c5-885b-4f9c-a680-9a017b76fe87",
        "colab": {
          "base_uri": "https://localhost:8080/",
          "height": 298
        }
      },
      "source": [
        "maj_conf_mat = confusion_matrix(testy, ns_preds)\n",
        "\n",
        "ax = plt.subplot()\n",
        "sns.heatmap(maj_conf_mat, annot=True, cmap=\"YlGnBu\", ax = ax, fmt=\"d\")\n",
        "ax.set(ylabel=\"Actual\", xlabel=\"Predicted\")"
      ],
      "execution_count": 92,
      "outputs": [
        {
          "output_type": "execute_result",
          "data": {
            "text/plain": [
              "[Text(33.0, 0.5, 'Actual'), Text(0.5, 15.0, 'Predicted')]"
            ]
          },
          "metadata": {
            "tags": []
          },
          "execution_count": 92
        },
        {
          "output_type": "display_data",
          "data": {
            "image/png": "[encoded data removed]",
            "text/plain": [
              "<Figure size 432x288 with 2 Axes>"
            ]
          },
          "metadata": {
            "tags": [],
            "needs_background": "light"
          }
        }
      ]
    },
    {
      "cell_type": "markdown",
      "metadata": {
        "id": "WYAMddYPJZpQ"
      },
      "source": [
        "#### Logistic Regression\n"
      ]
    },
    {
      "cell_type": "code",
      "metadata": {
        "id": "KRorivxtJhjJ",
        "outputId": "2ad5180c-ea40-440f-aefa-7bb85f9abc8b",
        "colab": {
          "base_uri": "https://localhost:8080/",
          "height": 369
        }
      },
      "source": [
        "lin_reg_conf_mat = confusion_matrix(testy, lr_preds)\n",
        "lin_reg_conf_mat2 = confusion_matrix(testy, lr_preds2)\n",
        "\n",
        "f, ax = plt.subplots(1,2, figsize=(14, 5))\n",
        "sns.heatmap(lin_reg_conf_mat, annot=True, cmap=\"YlGnBu\", ax = ax[0], fmt=\"d\")\n",
        "ax[0].set(ylabel=\"Actual\", xlabel=\"Predicted\")\n",
        "ax[0].set_title(\"Threshold 1\")\n",
        "\n",
        "sns.heatmap(lin_reg_conf_mat2, annot=True, cmap=\"YlGnBu\", ax = ax[1], fmt=\"d\")\n",
        "ax[1].set(ylabel=\"Actual\", xlabel=\"Predicted\")\n",
        "ax[1].set_title(\"Threshold 2\")"
      ],
      "execution_count": 115,
      "outputs": [
        {
          "output_type": "execute_result",
          "data": {
            "text/plain": [
              "Text(0.5, 1.0, 'Threshold 2')"
            ]
          },
          "metadata": {
            "tags": []
          },
          "execution_count": 115
        },
        {
          "output_type": "display_data",
          "data": {
            "image/png": "[encoded data removed]",
            "text/plain": [
              "<Figure size 1008x360 with 4 Axes>"
            ]
          },
          "metadata": {
            "tags": [],
            "needs_background": "light"
          }
        }
      ]
    },
    {
      "cell_type": "markdown",
      "metadata": {
        "id": "0KiPR49Aw_ir"
      },
      "source": [
        "\n",
        "\n",
        "\n",
        "---\n",
        "\n",
        "\n",
        "\n",
        "---\n",
        "\n",
        "\n",
        "\n",
        "## Accuracy\n"
      ]
    },
    {
      "cell_type": "markdown",
      "metadata": {
        "id": "meCLnDt7M0OQ"
      },
      "source": [
        "#### Majority classifier"
      ]
    },
    {
      "cell_type": "code",
      "metadata": {
        "id": "CidnMIbKxQ4m",
        "outputId": "9503e05c-b334-4c08-df22-28bc9ab3cae1",
        "colab": {
          "base_uri": "https://localhost:8080/",
          "height": 36
        }
      },
      "source": [
        "maj_acc = accuracy_score(testy, ns_preds)\n",
        "maj_acc"
      ],
      "execution_count": 120,
      "outputs": [
        {
          "output_type": "execute_result",
          "data": {
            "text/plain": [
              "0.48"
            ]
          },
          "metadata": {
            "tags": []
          },
          "execution_count": 120
        }
      ]
    },
    {
      "cell_type": "markdown",
      "metadata": {
        "id": "cDbCW1YTM4GF"
      },
      "source": [
        "#### Logistic Regression"
      ]
    },
    {
      "cell_type": "code",
      "metadata": {
        "id": "fomiesFeM67j",
        "outputId": "0aaa7b2c-6c1e-4128-e4b2-b1173fffebab",
        "colab": {
          "base_uri": "https://localhost:8080/",
          "height": 36
        }
      },
      "source": [
        "lr_acc = accuracy_score(testy, lr_preds)\n",
        "lr_acc2 = accuracy_score(testy, lr_preds2)\n",
        "lr_acc"
      ],
      "execution_count": 121,
      "outputs": [
        {
          "output_type": "execute_result",
          "data": {
            "text/plain": [
              "0.834"
            ]
          },
          "metadata": {
            "tags": []
          },
          "execution_count": 121
        }
      ]
    },
    {
      "cell_type": "markdown",
      "metadata": {
        "id": "hDrrtIpSNo5L"
      },
      "source": [
        "comparison:"
      ]
    },
    {
      "cell_type": "code",
      "metadata": {
        "id": "zZi2a7E-NoV-",
        "outputId": "a3ff759b-447b-41f3-84ce-9aa757134d79",
        "colab": {
          "base_uri": "https://localhost:8080/",
          "height": 265
        }
      },
      "source": [
        "plt.bar([0, 1, 2], [maj_acc, lr_acc, lr_acc2])\n",
        "plt.xticks([0,1,2], (\"majority\", \"Logistic Reg\", \"Logistic Reg 2\"))\n",
        "plt.show()"
      ],
      "execution_count": 123,
      "outputs": [
        {
          "output_type": "display_data",
          "data": {
            "image/png": "[encoded data removed]",
            "text/plain": [
              "<Figure size 432x288 with 1 Axes>"
            ]
          },
          "metadata": {
            "tags": [],
            "needs_background": "light"
          }
        }
      ]
    },
    {
      "cell_type": "markdown",
      "metadata": {
        "id": "YZ4RmHmfxCKR"
      },
      "source": [
        "\n",
        "\n",
        "\n",
        "\n",
        "---\n",
        "\n",
        "\n",
        "\n",
        "---\n",
        "\n",
        "\n",
        "\n",
        "## Precision"
      ]
    },
    {
      "cell_type": "markdown",
      "metadata": {
        "id": "xk-cmgsQOYa3"
      },
      "source": [
        "#### Majority classifier"
      ]
    },
    {
      "cell_type": "code",
      "metadata": {
        "id": "URqyxYaWxF37",
        "outputId": "671e87d0-6ecb-4d39-e6e0-f9b3b039a92f",
        "colab": {
          "base_uri": "https://localhost:8080/",
          "height": 93
        }
      },
      "source": [
        "maj_prec = precision_score(testy, ns_preds)\n",
        "maj_prec"
      ],
      "execution_count": 124,
      "outputs": [
        {
          "output_type": "stream",
          "text": [
            "/usr/local/lib/python3.6/dist-packages/sklearn/metrics/_classification.py:1272: UndefinedMetricWarning: Precision is ill-defined and being set to 0.0 due to no predicted samples. Use `zero_division` parameter to control this behavior.\n",
            "  _warn_prf(average, modifier, msg_start, len(result))\n"
          ],
          "name": "stderr"
        },
        {
          "output_type": "execute_result",
          "data": {
            "text/plain": [
              "0.0"
            ]
          },
          "metadata": {
            "tags": []
          },
          "execution_count": 124
        }
      ]
    },
    {
      "cell_type": "markdown",
      "metadata": {
        "id": "dsLpCP8LOZM6"
      },
      "source": [
        "#### Logistic Regression"
      ]
    },
    {
      "cell_type": "code",
      "metadata": {
        "id": "LWi1CtueOZnR",
        "outputId": "abcc3a9e-7c3a-4951-dbc8-b1e29b464e2f",
        "colab": {
          "base_uri": "https://localhost:8080/",
          "height": 36
        }
      },
      "source": [
        "lr_prec = precision_score(testy, lr_preds)\n",
        "lr_prec2 = precision_score(testy, lr_preds2)\n",
        "lr_prec\n",
        "\n"
      ],
      "execution_count": 125,
      "outputs": [
        {
          "output_type": "execute_result",
          "data": {
            "text/plain": [
              "0.8365019011406845"
            ]
          },
          "metadata": {
            "tags": []
          },
          "execution_count": 125
        }
      ]
    },
    {
      "cell_type": "markdown",
      "metadata": {
        "id": "I-fuDRtvPIad"
      },
      "source": [
        "Comparison"
      ]
    },
    {
      "cell_type": "code",
      "metadata": {
        "id": "0eFtnjwvPH1X",
        "outputId": "0d5af880-3f82-4baf-9da6-8e9c378dd188",
        "colab": {
          "base_uri": "https://localhost:8080/",
          "height": 265
        }
      },
      "source": [
        "plt.bar([0, 1, 2], [maj_prec, lr_prec, lr_prec2])\n",
        "plt.xticks([0,1,2], (\"majority\", \"Logistic Reg 1\", \"Logistic Reg 2\"))\n",
        "plt.show()"
      ],
      "execution_count": 126,
      "outputs": [
        {
          "output_type": "display_data",
          "data": {
            "image/png": "[encoded data removed]",
            "text/plain": [
              "<Figure size 432x288 with 1 Axes>"
            ]
          },
          "metadata": {
            "tags": [],
            "needs_background": "light"
          }
        }
      ]
    },
    {
      "cell_type": "markdown",
      "metadata": {
        "id": "8RjQfR0rOVcd"
      },
      "source": [
        "\n",
        "\n",
        "\n",
        "---\n",
        "\n",
        "\n",
        "\n",
        "---\n",
        "\n",
        "\n",
        "\n",
        "## Recall"
      ]
    },
    {
      "cell_type": "markdown",
      "metadata": {
        "id": "W-Q7mzVaOVRZ"
      },
      "source": [
        "#### Majority classifier"
      ]
    },
    {
      "cell_type": "code",
      "metadata": {
        "id": "kyVNc2e4OVA-",
        "outputId": "8a8c5258-9a68-4fb0-b197-aa6a7414681b",
        "colab": {
          "base_uri": "https://localhost:8080/",
          "height": 36
        }
      },
      "source": [
        "maj_rec = recall_score(testy, ns_preds)\n",
        "maj_rec"
      ],
      "execution_count": 80,
      "outputs": [
        {
          "output_type": "execute_result",
          "data": {
            "text/plain": [
              "0.0"
            ]
          },
          "metadata": {
            "tags": []
          },
          "execution_count": 80
        }
      ]
    },
    {
      "cell_type": "markdown",
      "metadata": {
        "id": "Eviy13vMObvn"
      },
      "source": [
        "#### Logistic Regression"
      ]
    },
    {
      "cell_type": "code",
      "metadata": {
        "id": "SZRHhzKkOU6K",
        "outputId": "c3600697-f7cc-45ea-cdb8-1353631470d5",
        "colab": {
          "base_uri": "https://localhost:8080/",
          "height": 36
        }
      },
      "source": [
        "lr_rec = recall_score(testy, lr_preds)\n",
        "lr_rec2 = recall_score(testy, lr_preds2)\n",
        "lr_rec"
      ],
      "execution_count": 127,
      "outputs": [
        {
          "output_type": "execute_result",
          "data": {
            "text/plain": [
              "0.8461538461538461"
            ]
          },
          "metadata": {
            "tags": []
          },
          "execution_count": 127
        }
      ]
    },
    {
      "cell_type": "markdown",
      "metadata": {
        "id": "ptrV4RMyQfzd"
      },
      "source": [
        "comparison"
      ]
    },
    {
      "cell_type": "code",
      "metadata": {
        "id": "_qocm1x3QgRp",
        "outputId": "7e232f34-da11-4cc2-f9b7-a0e298988b88",
        "colab": {
          "base_uri": "https://localhost:8080/",
          "height": 265
        }
      },
      "source": [
        "plt.bar([0, 1, 2], [maj_rec, lr_rec, lr_rec2])\n",
        "plt.xticks([0,1,2], (\"majority\", \"Logistic Reg\", \"Logistic Reg 2\"))\n",
        "plt.show()"
      ],
      "execution_count": 128,
      "outputs": [
        {
          "output_type": "display_data",
          "data": {
            "image/png": "[encoded data removed]",
            "text/plain": [
              "<Figure size 432x288 with 1 Axes>"
            ]
          },
          "metadata": {
            "tags": [],
            "needs_background": "light"
          }
        }
      ]
    },
    {
      "cell_type": "markdown",
      "metadata": {
        "id": "xjJVOygKxGYK"
      },
      "source": [
        "\n",
        "\n",
        "\n",
        "---\n",
        "\n",
        "\n",
        "\n",
        "---\n",
        "\n",
        "\n",
        "\n",
        "## ROC & AUC\n"
      ]
    },
    {
      "cell_type": "markdown",
      "metadata": {
        "id": "IauXOQ6mOdNV"
      },
      "source": [
        "#### Majority classifier"
      ]
    },
    {
      "cell_type": "code",
      "metadata": {
        "id": "O6aHkNZWxPvI",
        "outputId": "0a144aff-1cc5-4e09-809f-4a17f9243301",
        "colab": {
          "base_uri": "https://localhost:8080/",
          "height": 36
        }
      },
      "source": [
        "# calculate scores\n",
        "ns_auc = roc_auc_score(testy, ns_probs)\n",
        "ns_fpr, ns_tpr, _ = roc_curve(testy, ns_probs)\n",
        "ns_auc"
      ],
      "execution_count": 130,
      "outputs": [
        {
          "output_type": "execute_result",
          "data": {
            "text/plain": [
              "0.5"
            ]
          },
          "metadata": {
            "tags": []
          },
          "execution_count": 130
        }
      ]
    },
    {
      "cell_type": "markdown",
      "metadata": {
        "id": "kPGRbtQ5Odm5"
      },
      "source": [
        "#### Logistic Regression"
      ]
    },
    {
      "cell_type": "code",
      "metadata": {
        "id": "yxPfvDl5Ohv4",
        "outputId": "addccc31-c284-414f-a247-39980de0fddd",
        "colab": {
          "base_uri": "https://localhost:8080/",
          "height": 36
        }
      },
      "source": [
        "lr_auc = roc_auc_score(testy, lr_probs)\n",
        "lr_fpr, lr_tpr, _ = roc_curve(testy, lr_probs)\n",
        "lr_auc"
      ],
      "execution_count": 131,
      "outputs": [
        {
          "output_type": "execute_result",
          "data": {
            "text/plain": [
              "0.9028205128205128"
            ]
          },
          "metadata": {
            "tags": []
          },
          "execution_count": 131
        }
      ]
    },
    {
      "cell_type": "markdown",
      "metadata": {
        "id": "2Q_HlugaV-W4"
      },
      "source": [
        "comparison\n"
      ]
    },
    {
      "cell_type": "code",
      "metadata": {
        "id": "D-rg7xwWOlE4",
        "outputId": "ef655536-b40e-4465-9a4b-36d53e19deee",
        "colab": {
          "base_uri": "https://localhost:8080/",
          "height": 279
        }
      },
      "source": [
        "# plot the roc curve for the model\n",
        "pyplot.plot(ns_fpr, ns_tpr, linestyle='--', label='Majority')\n",
        "pyplot.plot(lr_fpr, lr_tpr, marker='.', label='Logistic')\n",
        "# axis labels\n",
        "pyplot.xlabel('False Positive Rate')\n",
        "pyplot.ylabel('True Positive Rate')\n",
        "# show the legend\n",
        "pyplot.legend()\n",
        "# show the plot\n",
        "pyplot.show()"
      ],
      "execution_count": 133,
      "outputs": [
        {
          "output_type": "display_data",
          "data": {
            "image/png": "[encoded data removed]",
            "text/plain": [
              "<Figure size 432x288 with 1 Axes>"
            ]
          },
          "metadata": {
            "tags": [],
            "needs_background": "light"
          }
        }
      ]
    },
    {
      "cell_type": "code",
      "metadata": {
        "id": "F8ZRzqx3V_3B"
      },
      "source": [
        ""
      ],
      "execution_count": null,
      "outputs": []
    }
  ]
}