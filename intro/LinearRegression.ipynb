{
 "cells": [
  {
   "cell_type": "code",
   "execution_count": 4,
   "metadata": {},
   "outputs": [
    {
     "data": {
      "text/html": [
       "\n",
       "    <div class=\"bk-root\">\n",
       "        <a href=\"https://bokeh.org\" target=\"_blank\" class=\"bk-logo bk-logo-small bk-logo-notebook\"></a>\n",
       "        <span id=\"1001\">Loading BokehJS ...</span>\n",
       "    </div>"
      ]
     },
     "metadata": {},
     "output_type": "display_data"
    },
    {
     "data": {
      "application/javascript": [
       "\n",
       "(function(root) {\n",
       "  function now() {\n",
       "    return new Date();\n",
       "  }\n",
       "\n",
       "  var force = true;\n",
       "\n",
       "  if (typeof root._bokeh_onload_callbacks === \"undefined\" || force === true) {\n",
       "    root._bokeh_onload_callbacks = [];\n",
       "    root._bokeh_is_loading = undefined;\n",
       "  }\n",
       "\n",
       "  var JS_MIME_TYPE = 'application/javascript';\n",
       "  var HTML_MIME_TYPE = 'text/html';\n",
       "  var EXEC_MIME_TYPE = 'application/vnd.bokehjs_exec.v0+json';\n",
       "  var CLASS_NAME = 'output_bokeh rendered_html';\n",
       "\n",
       "  /**\n",
       "   * Render data to the DOM node\n",
       "   */\n",
       "  function render(props, node) {\n",
       "    var script = document.createElement(\"script\");\n",
       "    node.appendChild(script);\n",
       "  }\n",
       "\n",
       "  /**\n",
       "   * Handle when an output is cleared or removed\n",
       "   */\n",
       "  function handleClearOutput(event, handle) {\n",
       "    var cell = handle.cell;\n",
       "\n",
       "    var id = cell.output_area._bokeh_element_id;\n",
       "    var server_id = cell.output_area._bokeh_server_id;\n",
       "    // Clean up Bokeh references\n",
       "    if (id != null && id in Bokeh.index) {\n",
       "      Bokeh.index[id].model.document.clear();\n",
       "      delete Bokeh.index[id];\n",
       "    }\n",
       "\n",
       "    if (server_id !== undefined) {\n",
       "      // Clean up Bokeh references\n",
       "      var cmd = \"from bokeh.io.state import curstate; print(curstate().uuid_to_server['\" + server_id + \"'].get_sessions()[0].document.roots[0]._id)\";\n",
       "      cell.notebook.kernel.execute(cmd, {\n",
       "        iopub: {\n",
       "          output: function(msg) {\n",
       "            var id = msg.content.text.trim();\n",
       "            if (id in Bokeh.index) {\n",
       "              Bokeh.index[id].model.document.clear();\n",
       "              delete Bokeh.index[id];\n",
       "            }\n",
       "          }\n",
       "        }\n",
       "      });\n",
       "      // Destroy server and session\n",
       "      var cmd = \"import bokeh.io.notebook as ion; ion.destroy_server('\" + server_id + \"')\";\n",
       "      cell.notebook.kernel.execute(cmd);\n",
       "    }\n",
       "  }\n",
       "\n",
       "  /**\n",
       "   * Handle when a new output is added\n",
       "   */\n",
       "  function handleAddOutput(event, handle) {\n",
       "    var output_area = handle.output_area;\n",
       "    var output = handle.output;\n",
       "\n",
       "    // limit handleAddOutput to display_data with EXEC_MIME_TYPE content only\n",
       "    if ((output.output_type != \"display_data\") || (!output.data.hasOwnProperty(EXEC_MIME_TYPE))) {\n",
       "      return\n",
       "    }\n",
       "\n",
       "    var toinsert = output_area.element.find(\".\" + CLASS_NAME.split(' ')[0]);\n",
       "\n",
       "    if (output.metadata[EXEC_MIME_TYPE][\"id\"] !== undefined) {\n",
       "      toinsert[toinsert.length - 1].firstChild.textContent = output.data[JS_MIME_TYPE];\n",
       "      // store reference to embed id on output_area\n",
       "      output_area._bokeh_element_id = output.metadata[EXEC_MIME_TYPE][\"id\"];\n",
       "    }\n",
       "    if (output.metadata[EXEC_MIME_TYPE][\"server_id\"] !== undefined) {\n",
       "      var bk_div = document.createElement(\"div\");\n",
       "      bk_div.innerHTML = output.data[HTML_MIME_TYPE];\n",
       "      var script_attrs = bk_div.children[0].attributes;\n",
       "      for (var i = 0; i < script_attrs.length; i++) {\n",
       "        toinsert[toinsert.length - 1].firstChild.setAttribute(script_attrs[i].name, script_attrs[i].value);\n",
       "      }\n",
       "      // store reference to server id on output_area\n",
       "      output_area._bokeh_server_id = output.metadata[EXEC_MIME_TYPE][\"server_id\"];\n",
       "    }\n",
       "  }\n",
       "\n",
       "  function register_renderer(events, OutputArea) {\n",
       "\n",
       "    function append_mime(data, metadata, element) {\n",
       "      // create a DOM node to render to\n",
       "      var toinsert = this.create_output_subarea(\n",
       "        metadata,\n",
       "        CLASS_NAME,\n",
       "        EXEC_MIME_TYPE\n",
       "      );\n",
       "      this.keyboard_manager.register_events(toinsert);\n",
       "      // Render to node\n",
       "      var props = {data: data, metadata: metadata[EXEC_MIME_TYPE]};\n",
       "      render(props, toinsert[toinsert.length - 1]);\n",
       "      element.append(toinsert);\n",
       "      return toinsert\n",
       "    }\n",
       "\n",
       "    /* Handle when an output is cleared or removed */\n",
       "    events.on('clear_output.CodeCell', handleClearOutput);\n",
       "    events.on('delete.Cell', handleClearOutput);\n",
       "\n",
       "    /* Handle when a new output is added */\n",
       "    events.on('output_added.OutputArea', handleAddOutput);\n",
       "\n",
       "    /**\n",
       "     * Register the mime type and append_mime function with output_area\n",
       "     */\n",
       "    OutputArea.prototype.register_mime_type(EXEC_MIME_TYPE, append_mime, {\n",
       "      /* Is output safe? */\n",
       "      safe: true,\n",
       "      /* Index of renderer in `output_area.display_order` */\n",
       "      index: 0\n",
       "    });\n",
       "  }\n",
       "\n",
       "  // register the mime type if in Jupyter Notebook environment and previously unregistered\n",
       "  if (root.Jupyter !== undefined) {\n",
       "    var events = require('base/js/events');\n",
       "    var OutputArea = require('notebook/js/outputarea').OutputArea;\n",
       "\n",
       "    if (OutputArea.prototype.mime_types().indexOf(EXEC_MIME_TYPE) == -1) {\n",
       "      register_renderer(events, OutputArea);\n",
       "    }\n",
       "  }\n",
       "\n",
       "  \n",
       "  if (typeof (root._bokeh_timeout) === \"undefined\" || force === true) {\n",
       "    root._bokeh_timeout = Date.now() + 5000;\n",
       "    root._bokeh_failed_load = false;\n",
       "  }\n",
       "\n",
       "  var NB_LOAD_WARNING = {'data': {'text/html':\n",
       "     \"<div style='background-color: #fdd'>\\n\"+\n",
       "     \"<p>\\n\"+\n",
       "     \"BokehJS does not appear to have successfully loaded. If loading BokehJS from CDN, this \\n\"+\n",
       "     \"may be due to a slow or bad network connection. Possible fixes:\\n\"+\n",
       "     \"</p>\\n\"+\n",
       "     \"<ul>\\n\"+\n",
       "     \"<li>re-rerun `output_notebook()` to attempt to load from CDN again, or</li>\\n\"+\n",
       "     \"<li>use INLINE resources instead, as so:</li>\\n\"+\n",
       "     \"</ul>\\n\"+\n",
       "     \"<code>\\n\"+\n",
       "     \"from bokeh.resources import INLINE\\n\"+\n",
       "     \"output_notebook(resources=INLINE)\\n\"+\n",
       "     \"</code>\\n\"+\n",
       "     \"</div>\"}};\n",
       "\n",
       "  function display_loaded() {\n",
       "    var el = document.getElementById(\"1001\");\n",
       "    if (el != null) {\n",
       "      el.textContent = \"BokehJS is loading...\";\n",
       "    }\n",
       "    if (root.Bokeh !== undefined) {\n",
       "      if (el != null) {\n",
       "        el.textContent = \"BokehJS \" + root.Bokeh.version + \" successfully loaded.\";\n",
       "      }\n",
       "    } else if (Date.now() < root._bokeh_timeout) {\n",
       "      setTimeout(display_loaded, 100)\n",
       "    }\n",
       "  }\n",
       "\n",
       "\n",
       "  function run_callbacks() {\n",
       "    try {\n",
       "      root._bokeh_onload_callbacks.forEach(function(callback) {\n",
       "        if (callback != null)\n",
       "          callback();\n",
       "      });\n",
       "    } finally {\n",
       "      delete root._bokeh_onload_callbacks\n",
       "    }\n",
       "    console.debug(\"Bokeh: all callbacks have finished\");\n",
       "  }\n",
       "\n",
       "  function load_libs(css_urls, js_urls, callback) {\n",
       "    if (css_urls == null) css_urls = [];\n",
       "    if (js_urls == null) js_urls = [];\n",
       "\n",
       "    root._bokeh_onload_callbacks.push(callback);\n",
       "    if (root._bokeh_is_loading > 0) {\n",
       "      console.debug(\"Bokeh: BokehJS is being loaded, scheduling callback at\", now());\n",
       "      return null;\n",
       "    }\n",
       "    if (js_urls == null || js_urls.length === 0) {\n",
       "      run_callbacks();\n",
       "      return null;\n",
       "    }\n",
       "    console.debug(\"Bokeh: BokehJS not loaded, scheduling load and callback at\", now());\n",
       "    root._bokeh_is_loading = css_urls.length + js_urls.length;\n",
       "\n",
       "    function on_load() {\n",
       "      root._bokeh_is_loading--;\n",
       "      if (root._bokeh_is_loading === 0) {\n",
       "        console.debug(\"Bokeh: all BokehJS libraries/stylesheets loaded\");\n",
       "        run_callbacks()\n",
       "      }\n",
       "    }\n",
       "\n",
       "    function on_error() {\n",
       "      console.error(\"failed to load \" + url);\n",
       "    }\n",
       "\n",
       "    for (var i = 0; i < css_urls.length; i++) {\n",
       "      var url = css_urls[i];\n",
       "      const element = document.createElement(\"link\");\n",
       "      element.onload = on_load;\n",
       "      element.onerror = on_error;\n",
       "      element.rel = \"stylesheet\";\n",
       "      element.type = \"text/css\";\n",
       "      element.href = url;\n",
       "      console.debug(\"Bokeh: injecting link tag for BokehJS stylesheet: \", url);\n",
       "      document.body.appendChild(element);\n",
       "    }\n",
       "\n",
       "    for (var i = 0; i < js_urls.length; i++) {\n",
       "      var url = js_urls[i];\n",
       "      var element = document.createElement('script');\n",
       "      element.onload = on_load;\n",
       "      element.onerror = on_error;\n",
       "      element.async = false;\n",
       "      element.src = url;\n",
       "      console.debug(\"Bokeh: injecting script tag for BokehJS library: \", url);\n",
       "      document.head.appendChild(element);\n",
       "    }\n",
       "  };var element = document.getElementById(\"1001\");\n",
       "  if (element == null) {\n",
       "    console.error(\"Bokeh: ERROR: autoload.js configured with elementid '1001' but no matching script tag was found. \")\n",
       "    return false;\n",
       "  }\n",
       "\n",
       "  function inject_raw_css(css) {\n",
       "    const element = document.createElement(\"style\");\n",
       "    element.appendChild(document.createTextNode(css));\n",
       "    document.body.appendChild(element);\n",
       "  }\n",
       "\n",
       "  \n",
       "  var js_urls = [\"https://cdn.pydata.org/bokeh/release/bokeh-1.4.0.min.js\", \"https://cdn.pydata.org/bokeh/release/bokeh-widgets-1.4.0.min.js\", \"https://cdn.pydata.org/bokeh/release/bokeh-tables-1.4.0.min.js\", \"https://cdn.pydata.org/bokeh/release/bokeh-gl-1.4.0.min.js\"];\n",
       "  var css_urls = [];\n",
       "  \n",
       "\n",
       "  var inline_js = [\n",
       "    function(Bokeh) {\n",
       "      Bokeh.set_log_level(\"info\");\n",
       "    },\n",
       "    function(Bokeh) {\n",
       "    \n",
       "    \n",
       "    }\n",
       "  ];\n",
       "\n",
       "  function run_inline_js() {\n",
       "    \n",
       "    if (root.Bokeh !== undefined || force === true) {\n",
       "      \n",
       "    for (var i = 0; i < inline_js.length; i++) {\n",
       "      inline_js[i].call(root, root.Bokeh);\n",
       "    }\n",
       "    if (force === true) {\n",
       "        display_loaded();\n",
       "      }} else if (Date.now() < root._bokeh_timeout) {\n",
       "      setTimeout(run_inline_js, 100);\n",
       "    } else if (!root._bokeh_failed_load) {\n",
       "      console.log(\"Bokeh: BokehJS failed to load within specified timeout.\");\n",
       "      root._bokeh_failed_load = true;\n",
       "    } else if (force !== true) {\n",
       "      var cell = $(document.getElementById(\"1001\")).parents('.cell').data().cell;\n",
       "      cell.output_area.append_execute_result(NB_LOAD_WARNING)\n",
       "    }\n",
       "\n",
       "  }\n",
       "\n",
       "  if (root._bokeh_is_loading === 0) {\n",
       "    console.debug(\"Bokeh: BokehJS loaded, going straight to plotting\");\n",
       "    run_inline_js();\n",
       "  } else {\n",
       "    load_libs(css_urls, js_urls, function() {\n",
       "      console.debug(\"Bokeh: BokehJS plotting callback run at\", now());\n",
       "      run_inline_js();\n",
       "    });\n",
       "  }\n",
       "}(window));"
      ],
      "application/vnd.bokehjs_load.v0+json": "\n(function(root) {\n  function now() {\n    return new Date();\n  }\n\n  var force = true;\n\n  if (typeof root._bokeh_onload_callbacks === \"undefined\" || force === true) {\n    root._bokeh_onload_callbacks = [];\n    root._bokeh_is_loading = undefined;\n  }\n\n  \n\n  \n  if (typeof (root._bokeh_timeout) === \"undefined\" || force === true) {\n    root._bokeh_timeout = Date.now() + 5000;\n    root._bokeh_failed_load = false;\n  }\n\n  var NB_LOAD_WARNING = {'data': {'text/html':\n     \"<div style='background-color: #fdd'>\\n\"+\n     \"<p>\\n\"+\n     \"BokehJS does not appear to have successfully loaded. If loading BokehJS from CDN, this \\n\"+\n     \"may be due to a slow or bad network connection. Possible fixes:\\n\"+\n     \"</p>\\n\"+\n     \"<ul>\\n\"+\n     \"<li>re-rerun `output_notebook()` to attempt to load from CDN again, or</li>\\n\"+\n     \"<li>use INLINE resources instead, as so:</li>\\n\"+\n     \"</ul>\\n\"+\n     \"<code>\\n\"+\n     \"from bokeh.resources import INLINE\\n\"+\n     \"output_notebook(resources=INLINE)\\n\"+\n     \"</code>\\n\"+\n     \"</div>\"}};\n\n  function display_loaded() {\n    var el = document.getElementById(\"1001\");\n    if (el != null) {\n      el.textContent = \"BokehJS is loading...\";\n    }\n    if (root.Bokeh !== undefined) {\n      if (el != null) {\n        el.textContent = \"BokehJS \" + root.Bokeh.version + \" successfully loaded.\";\n      }\n    } else if (Date.now() < root._bokeh_timeout) {\n      setTimeout(display_loaded, 100)\n    }\n  }\n\n\n  function run_callbacks() {\n    try {\n      root._bokeh_onload_callbacks.forEach(function(callback) {\n        if (callback != null)\n          callback();\n      });\n    } finally {\n      delete root._bokeh_onload_callbacks\n    }\n    console.debug(\"Bokeh: all callbacks have finished\");\n  }\n\n  function load_libs(css_urls, js_urls, callback) {\n    if (css_urls == null) css_urls = [];\n    if (js_urls == null) js_urls = [];\n\n    root._bokeh_onload_callbacks.push(callback);\n    if (root._bokeh_is_loading > 0) {\n      console.debug(\"Bokeh: BokehJS is being loaded, scheduling callback at\", now());\n      return null;\n    }\n    if (js_urls == null || js_urls.length === 0) {\n      run_callbacks();\n      return null;\n    }\n    console.debug(\"Bokeh: BokehJS not loaded, scheduling load and callback at\", now());\n    root._bokeh_is_loading = css_urls.length + js_urls.length;\n\n    function on_load() {\n      root._bokeh_is_loading--;\n      if (root._bokeh_is_loading === 0) {\n        console.debug(\"Bokeh: all BokehJS libraries/stylesheets loaded\");\n        run_callbacks()\n      }\n    }\n\n    function on_error() {\n      console.error(\"failed to load \" + url);\n    }\n\n    for (var i = 0; i < css_urls.length; i++) {\n      var url = css_urls[i];\n      const element = document.createElement(\"link\");\n      element.onload = on_load;\n      element.onerror = on_error;\n      element.rel = \"stylesheet\";\n      element.type = \"text/css\";\n      element.href = url;\n      console.debug(\"Bokeh: injecting link tag for BokehJS stylesheet: \", url);\n      document.body.appendChild(element);\n    }\n\n    for (var i = 0; i < js_urls.length; i++) {\n      var url = js_urls[i];\n      var element = document.createElement('script');\n      element.onload = on_load;\n      element.onerror = on_error;\n      element.async = false;\n      element.src = url;\n      console.debug(\"Bokeh: injecting script tag for BokehJS library: \", url);\n      document.head.appendChild(element);\n    }\n  };var element = document.getElementById(\"1001\");\n  if (element == null) {\n    console.error(\"Bokeh: ERROR: autoload.js configured with elementid '1001' but no matching script tag was found. \")\n    return false;\n  }\n\n  function inject_raw_css(css) {\n    const element = document.createElement(\"style\");\n    element.appendChild(document.createTextNode(css));\n    document.body.appendChild(element);\n  }\n\n  \n  var js_urls = [\"https://cdn.pydata.org/bokeh/release/bokeh-1.4.0.min.js\", \"https://cdn.pydata.org/bokeh/release/bokeh-widgets-1.4.0.min.js\", \"https://cdn.pydata.org/bokeh/release/bokeh-tables-1.4.0.min.js\", \"https://cdn.pydata.org/bokeh/release/bokeh-gl-1.4.0.min.js\"];\n  var css_urls = [];\n  \n\n  var inline_js = [\n    function(Bokeh) {\n      Bokeh.set_log_level(\"info\");\n    },\n    function(Bokeh) {\n    \n    \n    }\n  ];\n\n  function run_inline_js() {\n    \n    if (root.Bokeh !== undefined || force === true) {\n      \n    for (var i = 0; i < inline_js.length; i++) {\n      inline_js[i].call(root, root.Bokeh);\n    }\n    if (force === true) {\n        display_loaded();\n      }} else if (Date.now() < root._bokeh_timeout) {\n      setTimeout(run_inline_js, 100);\n    } else if (!root._bokeh_failed_load) {\n      console.log(\"Bokeh: BokehJS failed to load within specified timeout.\");\n      root._bokeh_failed_load = true;\n    } else if (force !== true) {\n      var cell = $(document.getElementById(\"1001\")).parents('.cell').data().cell;\n      cell.output_area.append_execute_result(NB_LOAD_WARNING)\n    }\n\n  }\n\n  if (root._bokeh_is_loading === 0) {\n    console.debug(\"Bokeh: BokehJS loaded, going straight to plotting\");\n    run_inline_js();\n  } else {\n    load_libs(css_urls, js_urls, function() {\n      console.debug(\"Bokeh: BokehJS plotting callback run at\", now());\n      run_inline_js();\n    });\n  }\n}(window));"
     },
     "metadata": {},
     "output_type": "display_data"
    }
   ],
   "source": [
    "import numpy as np\n",
    "from sklearn.linear_model import LinearRegression\n",
    "from bokeh.plotting import figure, output_notebook, show\n",
    "output_notebook()"
   ]
  },
  {
   "cell_type": "code",
   "execution_count": 5,
   "metadata": {},
   "outputs": [],
   "source": [
    "x = np.array([5, 15, 25, 35, 45, 55])\n",
    "y = np.array([5, 20, 14, 32, 22, 38])"
   ]
  },
  {
   "cell_type": "code",
   "execution_count": null,
   "metadata": {},
   "outputs": [],
   "source": []
  },
  {
   "cell_type": "code",
   "execution_count": 6,
   "metadata": {},
   "outputs": [],
   "source": [
    "p = figure(plot_width = 600, plot_height = 400)"
   ]
  },
  {
   "cell_type": "code",
   "execution_count": 7,
   "metadata": {},
   "outputs": [],
   "source": [
    "y_line = np.array([20] * x.shape[0])"
   ]
  },
  {
   "cell_type": "code",
   "execution_count": 8,
   "metadata": {},
   "outputs": [
    {
     "data": {
      "text/html": [
       "<div style=\"display: table;\"><div style=\"display: table-row;\"><div style=\"display: table-cell;\"><b title=\"bokeh.models.renderers.GlyphRenderer\">GlyphRenderer</b>(</div><div style=\"display: table-cell;\">id&nbsp;=&nbsp;'1042', <span id=\"1045\" style=\"cursor: pointer;\">&hellip;)</span></div></div><div class=\"1044\" style=\"display: none;\"><div style=\"display: table-cell;\"></div><div style=\"display: table-cell;\">data_source&nbsp;=&nbsp;ColumnDataSource(id='1039', ...),</div></div><div class=\"1044\" style=\"display: none;\"><div style=\"display: table-cell;\"></div><div style=\"display: table-cell;\">glyph&nbsp;=&nbsp;Line(id='1040', ...),</div></div><div class=\"1044\" style=\"display: none;\"><div style=\"display: table-cell;\"></div><div style=\"display: table-cell;\">hover_glyph&nbsp;=&nbsp;None,</div></div><div class=\"1044\" style=\"display: none;\"><div style=\"display: table-cell;\"></div><div style=\"display: table-cell;\">js_event_callbacks&nbsp;=&nbsp;{},</div></div><div class=\"1044\" style=\"display: none;\"><div style=\"display: table-cell;\"></div><div style=\"display: table-cell;\">js_property_callbacks&nbsp;=&nbsp;{},</div></div><div class=\"1044\" style=\"display: none;\"><div style=\"display: table-cell;\"></div><div style=\"display: table-cell;\">level&nbsp;=&nbsp;'glyph',</div></div><div class=\"1044\" style=\"display: none;\"><div style=\"display: table-cell;\"></div><div style=\"display: table-cell;\">muted&nbsp;=&nbsp;False,</div></div><div class=\"1044\" style=\"display: none;\"><div style=\"display: table-cell;\"></div><div style=\"display: table-cell;\">muted_glyph&nbsp;=&nbsp;None,</div></div><div class=\"1044\" style=\"display: none;\"><div style=\"display: table-cell;\"></div><div style=\"display: table-cell;\">name&nbsp;=&nbsp;None,</div></div><div class=\"1044\" style=\"display: none;\"><div style=\"display: table-cell;\"></div><div style=\"display: table-cell;\">nonselection_glyph&nbsp;=&nbsp;Line(id='1041', ...),</div></div><div class=\"1044\" style=\"display: none;\"><div style=\"display: table-cell;\"></div><div style=\"display: table-cell;\">selection_glyph&nbsp;=&nbsp;None,</div></div><div class=\"1044\" style=\"display: none;\"><div style=\"display: table-cell;\"></div><div style=\"display: table-cell;\">subscribed_events&nbsp;=&nbsp;[],</div></div><div class=\"1044\" style=\"display: none;\"><div style=\"display: table-cell;\"></div><div style=\"display: table-cell;\">tags&nbsp;=&nbsp;[],</div></div><div class=\"1044\" style=\"display: none;\"><div style=\"display: table-cell;\"></div><div style=\"display: table-cell;\">view&nbsp;=&nbsp;CDSView(id='1043', ...),</div></div><div class=\"1044\" style=\"display: none;\"><div style=\"display: table-cell;\"></div><div style=\"display: table-cell;\">visible&nbsp;=&nbsp;True,</div></div><div class=\"1044\" style=\"display: none;\"><div style=\"display: table-cell;\"></div><div style=\"display: table-cell;\">x_range_name&nbsp;=&nbsp;'default',</div></div><div class=\"1044\" style=\"display: none;\"><div style=\"display: table-cell;\"></div><div style=\"display: table-cell;\">y_range_name&nbsp;=&nbsp;'default')</div></div></div>\n",
       "<script>\n",
       "(function() {\n",
       "  var expanded = false;\n",
       "  var ellipsis = document.getElementById(\"1045\");\n",
       "  ellipsis.addEventListener(\"click\", function() {\n",
       "    var rows = document.getElementsByClassName(\"1044\");\n",
       "    for (var i = 0; i < rows.length; i++) {\n",
       "      var el = rows[i];\n",
       "      el.style.display = expanded ? \"none\" : \"table-row\";\n",
       "    }\n",
       "    ellipsis.innerHTML = expanded ? \"&hellip;)\" : \"&lsaquo;&lsaquo;&lsaquo;\";\n",
       "    expanded = !expanded;\n",
       "  });\n",
       "})();\n",
       "</script>\n"
      ],
      "text/plain": [
       "GlyphRenderer(id='1042', ...)"
      ]
     },
     "execution_count": 8,
     "metadata": {},
     "output_type": "execute_result"
    }
   ],
   "source": [
    "p.circle(x, y, size=10)\n",
    "p.line(x, y_line.flatten(), color='red', line_width=2)"
   ]
  },
  {
   "cell_type": "code",
   "execution_count": 9,
   "metadata": {},
   "outputs": [
    {
     "data": {
      "text/html": [
       "\n",
       "\n",
       "\n",
       "\n",
       "\n",
       "\n",
       "  <div class=\"bk-root\" id=\"8bcf31fb-2f09-48a6-9811-10e05ea9aff1\" data-root-id=\"1002\"></div>\n"
      ]
     },
     "metadata": {},
     "output_type": "display_data"
    },
    {
     "data": {
      "application/javascript": [
       "(function(root) {\n",
       "  function embed_document(root) {\n",
       "    \n",
       "  var docs_json = {\"f37f9656-a6c7-4977-97e6-acffd691b793\":{\"roots\":{\"references\":[{\"attributes\":{\"below\":[{\"id\":\"1011\",\"type\":\"LinearAxis\"}],\"center\":[{\"id\":\"1015\",\"type\":\"Grid\"},{\"id\":\"1020\",\"type\":\"Grid\"}],\"left\":[{\"id\":\"1016\",\"type\":\"LinearAxis\"}],\"plot_height\":400,\"renderers\":[{\"id\":\"1037\",\"type\":\"GlyphRenderer\"},{\"id\":\"1042\",\"type\":\"GlyphRenderer\"}],\"title\":{\"id\":\"1046\",\"type\":\"Title\"},\"toolbar\":{\"id\":\"1027\",\"type\":\"Toolbar\"},\"x_range\":{\"id\":\"1003\",\"type\":\"DataRange1d\"},\"x_scale\":{\"id\":\"1007\",\"type\":\"LinearScale\"},\"y_range\":{\"id\":\"1005\",\"type\":\"DataRange1d\"},\"y_scale\":{\"id\":\"1009\",\"type\":\"LinearScale\"}},\"id\":\"1002\",\"subtype\":\"Figure\",\"type\":\"Plot\"},{\"attributes\":{\"ticker\":{\"id\":\"1012\",\"type\":\"BasicTicker\"}},\"id\":\"1015\",\"type\":\"Grid\"},{\"attributes\":{\"source\":{\"id\":\"1039\",\"type\":\"ColumnDataSource\"}},\"id\":\"1043\",\"type\":\"CDSView\"},{\"attributes\":{\"formatter\":{\"id\":\"1048\",\"type\":\"BasicTickFormatter\"},\"ticker\":{\"id\":\"1017\",\"type\":\"BasicTicker\"}},\"id\":\"1016\",\"type\":\"LinearAxis\"},{\"attributes\":{\"callback\":null,\"data\":{\"x\":{\"__ndarray__\":\"BQAAAA8AAAAZAAAAIwAAAC0AAAA3AAAA\",\"dtype\":\"int32\",\"shape\":[6]},\"y\":{\"__ndarray__\":\"FAAAABQAAAAUAAAAFAAAABQAAAAUAAAA\",\"dtype\":\"int32\",\"shape\":[6]}},\"selected\":{\"id\":\"1055\",\"type\":\"Selection\"},\"selection_policy\":{\"id\":\"1054\",\"type\":\"UnionRenderers\"}},\"id\":\"1039\",\"type\":\"ColumnDataSource\"},{\"attributes\":{\"callback\":null,\"data\":{\"x\":{\"__ndarray__\":\"BQAAAA8AAAAZAAAAIwAAAC0AAAA3AAAA\",\"dtype\":\"int32\",\"shape\":[6]},\"y\":{\"__ndarray__\":\"BQAAABQAAAAOAAAAIAAAABYAAAAmAAAA\",\"dtype\":\"int32\",\"shape\":[6]}},\"selected\":{\"id\":\"1053\",\"type\":\"Selection\"},\"selection_policy\":{\"id\":\"1052\",\"type\":\"UnionRenderers\"}},\"id\":\"1034\",\"type\":\"ColumnDataSource\"},{\"attributes\":{\"callback\":null},\"id\":\"1005\",\"type\":\"DataRange1d\"},{\"attributes\":{},\"id\":\"1054\",\"type\":\"UnionRenderers\"},{\"attributes\":{},\"id\":\"1017\",\"type\":\"BasicTicker\"},{\"attributes\":{\"fill_color\":{\"value\":\"#1f77b4\"},\"line_color\":{\"value\":\"#1f77b4\"},\"size\":{\"units\":\"screen\",\"value\":10},\"x\":{\"field\":\"x\"},\"y\":{\"field\":\"y\"}},\"id\":\"1035\",\"type\":\"Circle\"},{\"attributes\":{},\"id\":\"1007\",\"type\":\"LinearScale\"},{\"attributes\":{},\"id\":\"1012\",\"type\":\"BasicTicker\"},{\"attributes\":{},\"id\":\"1009\",\"type\":\"LinearScale\"},{\"attributes\":{\"bottom_units\":\"screen\",\"fill_alpha\":{\"value\":0.5},\"fill_color\":{\"value\":\"lightgrey\"},\"left_units\":\"screen\",\"level\":\"overlay\",\"line_alpha\":{\"value\":1.0},\"line_color\":{\"value\":\"black\"},\"line_dash\":[4,4],\"line_width\":{\"value\":2},\"render_mode\":\"css\",\"right_units\":\"screen\",\"top_units\":\"screen\"},\"id\":\"1056\",\"type\":\"BoxAnnotation\"},{\"attributes\":{},\"id\":\"1022\",\"type\":\"WheelZoomTool\"},{\"attributes\":{\"fill_alpha\":{\"value\":0.1},\"fill_color\":{\"value\":\"#1f77b4\"},\"line_alpha\":{\"value\":0.1},\"line_color\":{\"value\":\"#1f77b4\"},\"size\":{\"units\":\"screen\",\"value\":10},\"x\":{\"field\":\"x\"},\"y\":{\"field\":\"y\"}},\"id\":\"1036\",\"type\":\"Circle\"},{\"attributes\":{},\"id\":\"1024\",\"type\":\"SaveTool\"},{\"attributes\":{\"data_source\":{\"id\":\"1034\",\"type\":\"ColumnDataSource\"},\"glyph\":{\"id\":\"1035\",\"type\":\"Circle\"},\"hover_glyph\":null,\"muted_glyph\":null,\"nonselection_glyph\":{\"id\":\"1036\",\"type\":\"Circle\"},\"selection_glyph\":null,\"view\":{\"id\":\"1038\",\"type\":\"CDSView\"}},\"id\":\"1037\",\"type\":\"GlyphRenderer\"},{\"attributes\":{},\"id\":\"1055\",\"type\":\"Selection\"},{\"attributes\":{\"dimension\":1,\"ticker\":{\"id\":\"1017\",\"type\":\"BasicTicker\"}},\"id\":\"1020\",\"type\":\"Grid\"},{\"attributes\":{\"callback\":null},\"id\":\"1003\",\"type\":\"DataRange1d\"},{\"attributes\":{\"formatter\":{\"id\":\"1050\",\"type\":\"BasicTickFormatter\"},\"ticker\":{\"id\":\"1012\",\"type\":\"BasicTicker\"}},\"id\":\"1011\",\"type\":\"LinearAxis\"},{\"attributes\":{\"active_drag\":\"auto\",\"active_inspect\":\"auto\",\"active_multi\":null,\"active_scroll\":\"auto\",\"active_tap\":\"auto\",\"tools\":[{\"id\":\"1021\",\"type\":\"PanTool\"},{\"id\":\"1022\",\"type\":\"WheelZoomTool\"},{\"id\":\"1023\",\"type\":\"BoxZoomTool\"},{\"id\":\"1024\",\"type\":\"SaveTool\"},{\"id\":\"1025\",\"type\":\"ResetTool\"},{\"id\":\"1026\",\"type\":\"HelpTool\"}]},\"id\":\"1027\",\"type\":\"Toolbar\"},{\"attributes\":{},\"id\":\"1052\",\"type\":\"UnionRenderers\"},{\"attributes\":{\"overlay\":{\"id\":\"1056\",\"type\":\"BoxAnnotation\"}},\"id\":\"1023\",\"type\":\"BoxZoomTool\"},{\"attributes\":{},\"id\":\"1025\",\"type\":\"ResetTool\"},{\"attributes\":{\"source\":{\"id\":\"1034\",\"type\":\"ColumnDataSource\"}},\"id\":\"1038\",\"type\":\"CDSView\"},{\"attributes\":{\"line_color\":\"red\",\"line_width\":2,\"x\":{\"field\":\"x\"},\"y\":{\"field\":\"y\"}},\"id\":\"1040\",\"type\":\"Line\"},{\"attributes\":{},\"id\":\"1053\",\"type\":\"Selection\"},{\"attributes\":{},\"id\":\"1048\",\"type\":\"BasicTickFormatter\"},{\"attributes\":{},\"id\":\"1026\",\"type\":\"HelpTool\"},{\"attributes\":{},\"id\":\"1021\",\"type\":\"PanTool\"},{\"attributes\":{},\"id\":\"1050\",\"type\":\"BasicTickFormatter\"},{\"attributes\":{\"line_alpha\":0.1,\"line_color\":\"#1f77b4\",\"line_width\":2,\"x\":{\"field\":\"x\"},\"y\":{\"field\":\"y\"}},\"id\":\"1041\",\"type\":\"Line\"},{\"attributes\":{\"text\":\"\"},\"id\":\"1046\",\"type\":\"Title\"},{\"attributes\":{\"data_source\":{\"id\":\"1039\",\"type\":\"ColumnDataSource\"},\"glyph\":{\"id\":\"1040\",\"type\":\"Line\"},\"hover_glyph\":null,\"muted_glyph\":null,\"nonselection_glyph\":{\"id\":\"1041\",\"type\":\"Line\"},\"selection_glyph\":null,\"view\":{\"id\":\"1043\",\"type\":\"CDSView\"}},\"id\":\"1042\",\"type\":\"GlyphRenderer\"}],\"root_ids\":[\"1002\"]},\"title\":\"Bokeh Application\",\"version\":\"1.4.0\"}};\n",
       "  var render_items = [{\"docid\":\"f37f9656-a6c7-4977-97e6-acffd691b793\",\"roots\":{\"1002\":\"8bcf31fb-2f09-48a6-9811-10e05ea9aff1\"}}];\n",
       "  root.Bokeh.embed.embed_items_notebook(docs_json, render_items);\n",
       "\n",
       "  }\n",
       "  if (root.Bokeh !== undefined) {\n",
       "    embed_document(root);\n",
       "  } else {\n",
       "    var attempts = 0;\n",
       "    var timer = setInterval(function(root) {\n",
       "      if (root.Bokeh !== undefined) {\n",
       "        clearInterval(timer);\n",
       "        embed_document(root);\n",
       "      } else {\n",
       "        attempts++;\n",
       "        if (attempts > 100) {\n",
       "          clearInterval(timer);\n",
       "          console.log(\"Bokeh: ERROR: Unable to run BokehJS code because BokehJS library is missing\");\n",
       "        }\n",
       "      }\n",
       "    }, 10, root)\n",
       "  }\n",
       "})(window);"
      ],
      "application/vnd.bokehjs_exec.v0+json": ""
     },
     "metadata": {
      "application/vnd.bokehjs_exec.v0+json": {
       "id": "1002"
      }
     },
     "output_type": "display_data"
    }
   ],
   "source": [
    "show(p)"
   ]
  },
  {
   "cell_type": "code",
   "execution_count": 10,
   "metadata": {},
   "outputs": [],
   "source": [
    "for i, x_i in enumerate(x):\n",
    "    p.line([x_i, x_i], [y[i], y_line[i]], color='green', line_width=2)"
   ]
  },
  {
   "cell_type": "code",
   "execution_count": 11,
   "metadata": {},
   "outputs": [
    {
     "data": {
      "text/html": [
       "\n",
       "\n",
       "\n",
       "\n",
       "\n",
       "\n",
       "  <div class=\"bk-root\" id=\"671b8d78-db8e-48f3-ae46-9940133a91fa\" data-root-id=\"1002\"></div>\n"
      ]
     },
     "metadata": {},
     "output_type": "display_data"
    },
    {
     "data": {
      "application/javascript": [
       "(function(root) {\n",
       "  function embed_document(root) {\n",
       "    \n",
       "  var docs_json = {\"66e9ddb9-c4dc-4d1c-8642-fa0fa157b5ad\":{\"roots\":{\"references\":[{\"attributes\":{\"below\":[{\"id\":\"1011\",\"type\":\"LinearAxis\"}],\"center\":[{\"id\":\"1015\",\"type\":\"Grid\"},{\"id\":\"1020\",\"type\":\"Grid\"}],\"left\":[{\"id\":\"1016\",\"type\":\"LinearAxis\"}],\"plot_height\":400,\"renderers\":[{\"id\":\"1037\",\"type\":\"GlyphRenderer\"},{\"id\":\"1042\",\"type\":\"GlyphRenderer\"},{\"id\":\"1126\",\"type\":\"GlyphRenderer\"},{\"id\":\"1144\",\"type\":\"GlyphRenderer\"},{\"id\":\"1164\",\"type\":\"GlyphRenderer\"},{\"id\":\"1186\",\"type\":\"GlyphRenderer\"},{\"id\":\"1210\",\"type\":\"GlyphRenderer\"},{\"id\":\"1236\",\"type\":\"GlyphRenderer\"}],\"title\":{\"id\":\"1046\",\"type\":\"Title\"},\"toolbar\":{\"id\":\"1027\",\"type\":\"Toolbar\"},\"x_range\":{\"id\":\"1003\",\"type\":\"DataRange1d\"},\"x_scale\":{\"id\":\"1007\",\"type\":\"LinearScale\"},\"y_range\":{\"id\":\"1005\",\"type\":\"DataRange1d\"},\"y_scale\":{\"id\":\"1009\",\"type\":\"LinearScale\"}},\"id\":\"1002\",\"subtype\":\"Figure\",\"type\":\"Plot\"},{\"attributes\":{\"formatter\":{\"id\":\"1048\",\"type\":\"BasicTickFormatter\"},\"ticker\":{\"id\":\"1017\",\"type\":\"BasicTicker\"}},\"id\":\"1016\",\"type\":\"LinearAxis\"},{\"attributes\":{\"line_color\":\"green\",\"line_width\":2,\"x\":{\"field\":\"x\"},\"y\":{\"field\":\"y\"}},\"id\":\"1184\",\"type\":\"Line\"},{\"attributes\":{},\"id\":\"1054\",\"type\":\"UnionRenderers\"},{\"attributes\":{},\"id\":\"1017\",\"type\":\"BasicTicker\"},{\"attributes\":{\"line_alpha\":0.1,\"line_color\":\"#1f77b4\",\"line_width\":2,\"x\":{\"field\":\"x\"},\"y\":{\"field\":\"y\"}},\"id\":\"1185\",\"type\":\"Line\"},{\"attributes\":{\"data_source\":{\"id\":\"1183\",\"type\":\"ColumnDataSource\"},\"glyph\":{\"id\":\"1184\",\"type\":\"Line\"},\"hover_glyph\":null,\"muted_glyph\":null,\"nonselection_glyph\":{\"id\":\"1185\",\"type\":\"Line\"},\"selection_glyph\":null,\"view\":{\"id\":\"1187\",\"type\":\"CDSView\"}},\"id\":\"1186\",\"type\":\"GlyphRenderer\"},{\"attributes\":{},\"id\":\"1204\",\"type\":\"UnionRenderers\"},{\"attributes\":{\"dimension\":1,\"ticker\":{\"id\":\"1017\",\"type\":\"BasicTicker\"}},\"id\":\"1020\",\"type\":\"Grid\"},{\"attributes\":{\"callback\":null},\"id\":\"1003\",\"type\":\"DataRange1d\"},{\"attributes\":{\"formatter\":{\"id\":\"1050\",\"type\":\"BasicTickFormatter\"},\"ticker\":{\"id\":\"1012\",\"type\":\"BasicTicker\"}},\"id\":\"1011\",\"type\":\"LinearAxis\"},{\"attributes\":{\"source\":{\"id\":\"1183\",\"type\":\"ColumnDataSource\"}},\"id\":\"1187\",\"type\":\"CDSView\"},{\"attributes\":{},\"id\":\"1205\",\"type\":\"Selection\"},{\"attributes\":{\"line_color\":\"green\",\"line_width\":2,\"x\":{\"field\":\"x\"},\"y\":{\"field\":\"y\"}},\"id\":\"1208\",\"type\":\"Line\"},{\"attributes\":{\"callback\":null,\"data\":{\"x\":[45,45],\"y\":[22,20]},\"selected\":{\"id\":\"1231\",\"type\":\"Selection\"},\"selection_policy\":{\"id\":\"1230\",\"type\":\"UnionRenderers\"}},\"id\":\"1207\",\"type\":\"ColumnDataSource\"},{\"attributes\":{\"data_source\":{\"id\":\"1207\",\"type\":\"ColumnDataSource\"},\"glyph\":{\"id\":\"1208\",\"type\":\"Line\"},\"hover_glyph\":null,\"muted_glyph\":null,\"nonselection_glyph\":{\"id\":\"1209\",\"type\":\"Line\"},\"selection_glyph\":null,\"view\":{\"id\":\"1211\",\"type\":\"CDSView\"}},\"id\":\"1210\",\"type\":\"GlyphRenderer\"},{\"attributes\":{\"line_alpha\":0.1,\"line_color\":\"#1f77b4\",\"line_width\":2,\"x\":{\"field\":\"x\"},\"y\":{\"field\":\"y\"}},\"id\":\"1209\",\"type\":\"Line\"},{\"attributes\":{\"ticker\":{\"id\":\"1012\",\"type\":\"BasicTicker\"}},\"id\":\"1015\",\"type\":\"Grid\"},{\"attributes\":{\"source\":{\"id\":\"1207\",\"type\":\"ColumnDataSource\"}},\"id\":\"1211\",\"type\":\"CDSView\"},{\"attributes\":{},\"id\":\"1180\",\"type\":\"UnionRenderers\"},{\"attributes\":{},\"id\":\"1012\",\"type\":\"BasicTicker\"},{\"attributes\":{},\"id\":\"1231\",\"type\":\"Selection\"},{\"attributes\":{\"bottom_units\":\"screen\",\"fill_alpha\":{\"value\":0.5},\"fill_color\":{\"value\":\"lightgrey\"},\"left_units\":\"screen\",\"level\":\"overlay\",\"line_alpha\":{\"value\":1.0},\"line_color\":{\"value\":\"black\"},\"line_dash\":[4,4],\"line_width\":{\"value\":2},\"render_mode\":\"css\",\"right_units\":\"screen\",\"top_units\":\"screen\"},\"id\":\"1056\",\"type\":\"BoxAnnotation\"},{\"attributes\":{\"callback\":null,\"data\":{\"x\":[15,15],\"y\":[20,20]},\"selected\":{\"id\":\"1159\",\"type\":\"Selection\"},\"selection_policy\":{\"id\":\"1158\",\"type\":\"UnionRenderers\"}},\"id\":\"1141\",\"type\":\"ColumnDataSource\"},{\"attributes\":{},\"id\":\"1022\",\"type\":\"WheelZoomTool\"},{\"attributes\":{},\"id\":\"1024\",\"type\":\"SaveTool\"},{\"attributes\":{},\"id\":\"1230\",\"type\":\"UnionRenderers\"},{\"attributes\":{},\"id\":\"1055\",\"type\":\"Selection\"},{\"attributes\":{},\"id\":\"1052\",\"type\":\"UnionRenderers\"},{\"attributes\":{\"overlay\":{\"id\":\"1056\",\"type\":\"BoxAnnotation\"}},\"id\":\"1023\",\"type\":\"BoxZoomTool\"},{\"attributes\":{},\"id\":\"1259\",\"type\":\"Selection\"},{\"attributes\":{},\"id\":\"1053\",\"type\":\"Selection\"},{\"attributes\":{},\"id\":\"1048\",\"type\":\"BasicTickFormatter\"},{\"attributes\":{},\"id\":\"1021\",\"type\":\"PanTool\"},{\"attributes\":{},\"id\":\"1181\",\"type\":\"Selection\"},{\"attributes\":{},\"id\":\"1050\",\"type\":\"BasicTickFormatter\"},{\"attributes\":{\"text\":\"\"},\"id\":\"1046\",\"type\":\"Title\"},{\"attributes\":{\"line_color\":\"green\",\"line_width\":2,\"x\":{\"field\":\"x\"},\"y\":{\"field\":\"y\"}},\"id\":\"1124\",\"type\":\"Line\"},{\"attributes\":{\"callback\":null,\"data\":{\"x\":[35,35],\"y\":[32,20]},\"selected\":{\"id\":\"1205\",\"type\":\"Selection\"},\"selection_policy\":{\"id\":\"1204\",\"type\":\"UnionRenderers\"}},\"id\":\"1183\",\"type\":\"ColumnDataSource\"},{\"attributes\":{\"callback\":null,\"data\":{\"x\":{\"__ndarray__\":\"BQAAAA8AAAAZAAAAIwAAAC0AAAA3AAAA\",\"dtype\":\"int32\",\"shape\":[6]},\"y\":{\"__ndarray__\":\"FAAAABQAAAAUAAAAFAAAABQAAAAUAAAA\",\"dtype\":\"int32\",\"shape\":[6]}},\"selected\":{\"id\":\"1055\",\"type\":\"Selection\"},\"selection_policy\":{\"id\":\"1054\",\"type\":\"UnionRenderers\"}},\"id\":\"1039\",\"type\":\"ColumnDataSource\"},{\"attributes\":{\"callback\":null,\"data\":{\"x\":{\"__ndarray__\":\"BQAAAA8AAAAZAAAAIwAAAC0AAAA3AAAA\",\"dtype\":\"int32\",\"shape\":[6]},\"y\":{\"__ndarray__\":\"BQAAABQAAAAOAAAAIAAAABYAAAAmAAAA\",\"dtype\":\"int32\",\"shape\":[6]}},\"selected\":{\"id\":\"1053\",\"type\":\"Selection\"},\"selection_policy\":{\"id\":\"1052\",\"type\":\"UnionRenderers\"}},\"id\":\"1034\",\"type\":\"ColumnDataSource\"},{\"attributes\":{\"source\":{\"id\":\"1161\",\"type\":\"ColumnDataSource\"}},\"id\":\"1165\",\"type\":\"CDSView\"},{\"attributes\":{\"callback\":null},\"id\":\"1005\",\"type\":\"DataRange1d\"},{\"attributes\":{\"fill_color\":{\"value\":\"#1f77b4\"},\"line_color\":{\"value\":\"#1f77b4\"},\"size\":{\"units\":\"screen\",\"value\":10},\"x\":{\"field\":\"x\"},\"y\":{\"field\":\"y\"}},\"id\":\"1035\",\"type\":\"Circle\"},{\"attributes\":{},\"id\":\"1007\",\"type\":\"LinearScale\"},{\"attributes\":{\"callback\":null,\"data\":{\"x\":[5,5],\"y\":[5,20]},\"selected\":{\"id\":\"1139\",\"type\":\"Selection\"},\"selection_policy\":{\"id\":\"1138\",\"type\":\"UnionRenderers\"}},\"id\":\"1123\",\"type\":\"ColumnDataSource\"},{\"attributes\":{},\"id\":\"1009\",\"type\":\"LinearScale\"},{\"attributes\":{\"source\":{\"id\":\"1123\",\"type\":\"ColumnDataSource\"}},\"id\":\"1127\",\"type\":\"CDSView\"},{\"attributes\":{\"fill_alpha\":{\"value\":0.1},\"fill_color\":{\"value\":\"#1f77b4\"},\"line_alpha\":{\"value\":0.1},\"line_color\":{\"value\":\"#1f77b4\"},\"size\":{\"units\":\"screen\",\"value\":10},\"x\":{\"field\":\"x\"},\"y\":{\"field\":\"y\"}},\"id\":\"1036\",\"type\":\"Circle\"},{\"attributes\":{\"data_source\":{\"id\":\"1034\",\"type\":\"ColumnDataSource\"},\"glyph\":{\"id\":\"1035\",\"type\":\"Circle\"},\"hover_glyph\":null,\"muted_glyph\":null,\"nonselection_glyph\":{\"id\":\"1036\",\"type\":\"Circle\"},\"selection_glyph\":null,\"view\":{\"id\":\"1038\",\"type\":\"CDSView\"}},\"id\":\"1037\",\"type\":\"GlyphRenderer\"},{\"attributes\":{\"active_drag\":\"auto\",\"active_inspect\":\"auto\",\"active_multi\":null,\"active_scroll\":\"auto\",\"active_tap\":\"auto\",\"tools\":[{\"id\":\"1021\",\"type\":\"PanTool\"},{\"id\":\"1022\",\"type\":\"WheelZoomTool\"},{\"id\":\"1023\",\"type\":\"BoxZoomTool\"},{\"id\":\"1024\",\"type\":\"SaveTool\"},{\"id\":\"1025\",\"type\":\"ResetTool\"},{\"id\":\"1026\",\"type\":\"HelpTool\"}]},\"id\":\"1027\",\"type\":\"Toolbar\"},{\"attributes\":{},\"id\":\"1025\",\"type\":\"ResetTool\"},{\"attributes\":{\"source\":{\"id\":\"1034\",\"type\":\"ColumnDataSource\"}},\"id\":\"1038\",\"type\":\"CDSView\"},{\"attributes\":{\"line_color\":\"red\",\"line_width\":2,\"x\":{\"field\":\"x\"},\"y\":{\"field\":\"y\"}},\"id\":\"1040\",\"type\":\"Line\"},{\"attributes\":{\"data_source\":{\"id\":\"1123\",\"type\":\"ColumnDataSource\"},\"glyph\":{\"id\":\"1124\",\"type\":\"Line\"},\"hover_glyph\":null,\"muted_glyph\":null,\"nonselection_glyph\":{\"id\":\"1125\",\"type\":\"Line\"},\"selection_glyph\":null,\"view\":{\"id\":\"1127\",\"type\":\"CDSView\"}},\"id\":\"1126\",\"type\":\"GlyphRenderer\"},{\"attributes\":{\"line_alpha\":0.1,\"line_color\":\"#1f77b4\",\"line_width\":2,\"x\":{\"field\":\"x\"},\"y\":{\"field\":\"y\"}},\"id\":\"1125\",\"type\":\"Line\"},{\"attributes\":{\"line_alpha\":0.1,\"line_color\":\"#1f77b4\",\"line_width\":2,\"x\":{\"field\":\"x\"},\"y\":{\"field\":\"y\"}},\"id\":\"1041\",\"type\":\"Line\"},{\"attributes\":{\"callback\":null,\"data\":{\"x\":[25,25],\"y\":[14,20]},\"selected\":{\"id\":\"1181\",\"type\":\"Selection\"},\"selection_policy\":{\"id\":\"1180\",\"type\":\"UnionRenderers\"}},\"id\":\"1161\",\"type\":\"ColumnDataSource\"},{\"attributes\":{\"data_source\":{\"id\":\"1039\",\"type\":\"ColumnDataSource\"},\"glyph\":{\"id\":\"1040\",\"type\":\"Line\"},\"hover_glyph\":null,\"muted_glyph\":null,\"nonselection_glyph\":{\"id\":\"1041\",\"type\":\"Line\"},\"selection_glyph\":null,\"view\":{\"id\":\"1043\",\"type\":\"CDSView\"}},\"id\":\"1042\",\"type\":\"GlyphRenderer\"},{\"attributes\":{},\"id\":\"1139\",\"type\":\"Selection\"},{\"attributes\":{\"data_source\":{\"id\":\"1161\",\"type\":\"ColumnDataSource\"},\"glyph\":{\"id\":\"1162\",\"type\":\"Line\"},\"hover_glyph\":null,\"muted_glyph\":null,\"nonselection_glyph\":{\"id\":\"1163\",\"type\":\"Line\"},\"selection_glyph\":null,\"view\":{\"id\":\"1165\",\"type\":\"CDSView\"}},\"id\":\"1164\",\"type\":\"GlyphRenderer\"},{\"attributes\":{},\"id\":\"1258\",\"type\":\"UnionRenderers\"},{\"attributes\":{\"source\":{\"id\":\"1039\",\"type\":\"ColumnDataSource\"}},\"id\":\"1043\",\"type\":\"CDSView\"},{\"attributes\":{\"line_color\":\"green\",\"line_width\":2,\"x\":{\"field\":\"x\"},\"y\":{\"field\":\"y\"}},\"id\":\"1142\",\"type\":\"Line\"},{\"attributes\":{},\"id\":\"1138\",\"type\":\"UnionRenderers\"},{\"attributes\":{\"line_alpha\":0.1,\"line_color\":\"#1f77b4\",\"line_width\":2,\"x\":{\"field\":\"x\"},\"y\":{\"field\":\"y\"}},\"id\":\"1143\",\"type\":\"Line\"},{\"attributes\":{\"source\":{\"id\":\"1233\",\"type\":\"ColumnDataSource\"}},\"id\":\"1237\",\"type\":\"CDSView\"},{\"attributes\":{\"data_source\":{\"id\":\"1141\",\"type\":\"ColumnDataSource\"},\"glyph\":{\"id\":\"1142\",\"type\":\"Line\"},\"hover_glyph\":null,\"muted_glyph\":null,\"nonselection_glyph\":{\"id\":\"1143\",\"type\":\"Line\"},\"selection_glyph\":null,\"view\":{\"id\":\"1145\",\"type\":\"CDSView\"}},\"id\":\"1144\",\"type\":\"GlyphRenderer\"},{\"attributes\":{\"line_alpha\":0.1,\"line_color\":\"#1f77b4\",\"line_width\":2,\"x\":{\"field\":\"x\"},\"y\":{\"field\":\"y\"}},\"id\":\"1235\",\"type\":\"Line\"},{\"attributes\":{},\"id\":\"1158\",\"type\":\"UnionRenderers\"},{\"attributes\":{\"source\":{\"id\":\"1141\",\"type\":\"ColumnDataSource\"}},\"id\":\"1145\",\"type\":\"CDSView\"},{\"attributes\":{\"data_source\":{\"id\":\"1233\",\"type\":\"ColumnDataSource\"},\"glyph\":{\"id\":\"1234\",\"type\":\"Line\"},\"hover_glyph\":null,\"muted_glyph\":null,\"nonselection_glyph\":{\"id\":\"1235\",\"type\":\"Line\"},\"selection_glyph\":null,\"view\":{\"id\":\"1237\",\"type\":\"CDSView\"}},\"id\":\"1236\",\"type\":\"GlyphRenderer\"},{\"attributes\":{},\"id\":\"1159\",\"type\":\"Selection\"},{\"attributes\":{},\"id\":\"1026\",\"type\":\"HelpTool\"},{\"attributes\":{\"line_alpha\":0.1,\"line_color\":\"#1f77b4\",\"line_width\":2,\"x\":{\"field\":\"x\"},\"y\":{\"field\":\"y\"}},\"id\":\"1163\",\"type\":\"Line\"},{\"attributes\":{\"callback\":null,\"data\":{\"x\":[55,55],\"y\":[38,20]},\"selected\":{\"id\":\"1259\",\"type\":\"Selection\"},\"selection_policy\":{\"id\":\"1258\",\"type\":\"UnionRenderers\"}},\"id\":\"1233\",\"type\":\"ColumnDataSource\"},{\"attributes\":{\"line_color\":\"green\",\"line_width\":2,\"x\":{\"field\":\"x\"},\"y\":{\"field\":\"y\"}},\"id\":\"1162\",\"type\":\"Line\"},{\"attributes\":{\"line_color\":\"green\",\"line_width\":2,\"x\":{\"field\":\"x\"},\"y\":{\"field\":\"y\"}},\"id\":\"1234\",\"type\":\"Line\"}],\"root_ids\":[\"1002\"]},\"title\":\"Bokeh Application\",\"version\":\"1.4.0\"}};\n",
       "  var render_items = [{\"docid\":\"66e9ddb9-c4dc-4d1c-8642-fa0fa157b5ad\",\"roots\":{\"1002\":\"671b8d78-db8e-48f3-ae46-9940133a91fa\"}}];\n",
       "  root.Bokeh.embed.embed_items_notebook(docs_json, render_items);\n",
       "\n",
       "  }\n",
       "  if (root.Bokeh !== undefined) {\n",
       "    embed_document(root);\n",
       "  } else {\n",
       "    var attempts = 0;\n",
       "    var timer = setInterval(function(root) {\n",
       "      if (root.Bokeh !== undefined) {\n",
       "        clearInterval(timer);\n",
       "        embed_document(root);\n",
       "      } else {\n",
       "        attempts++;\n",
       "        if (attempts > 100) {\n",
       "          clearInterval(timer);\n",
       "          console.log(\"Bokeh: ERROR: Unable to run BokehJS code because BokehJS library is missing\");\n",
       "        }\n",
       "      }\n",
       "    }, 10, root)\n",
       "  }\n",
       "})(window);"
      ],
      "application/vnd.bokehjs_exec.v0+json": ""
     },
     "metadata": {
      "application/vnd.bokehjs_exec.v0+json": {
       "id": "1002"
      }
     },
     "output_type": "display_data"
    }
   ],
   "source": [
    "show(p)"
   ]
  },
  {
   "cell_type": "code",
   "execution_count": null,
   "metadata": {},
   "outputs": [],
   "source": []
  },
  {
   "cell_type": "code",
   "execution_count": null,
   "metadata": {},
   "outputs": [],
   "source": []
  },
  {
   "cell_type": "code",
   "execution_count": null,
   "metadata": {},
   "outputs": [],
   "source": []
  },
  {
   "cell_type": "code",
   "execution_count": 12,
   "metadata": {},
   "outputs": [],
   "source": [
    "model = LinearRegression()"
   ]
  },
  {
   "cell_type": "code",
   "execution_count": 13,
   "metadata": {},
   "outputs": [
    {
     "data": {
      "text/plain": [
       "LinearRegression(copy_X=True, fit_intercept=True, n_jobs=None, normalize=False)"
      ]
     },
     "execution_count": 13,
     "metadata": {},
     "output_type": "execute_result"
    }
   ],
   "source": [
    "model.fit(x.reshape(-1, 1), y.reshape(-1, 1))"
   ]
  },
  {
   "cell_type": "code",
   "execution_count": 14,
   "metadata": {},
   "outputs": [],
   "source": [
    "y_preds = model.predict(x.reshape(-1, 1))"
   ]
  },
  {
   "cell_type": "code",
   "execution_count": 15,
   "metadata": {},
   "outputs": [],
   "source": [
    "p_fit = figure(plot_width = 600, plot_height = 400)"
   ]
  },
  {
   "cell_type": "code",
   "execution_count": 16,
   "metadata": {},
   "outputs": [
    {
     "data": {
      "text/html": [
       "<div style=\"display: table;\"><div style=\"display: table-row;\"><div style=\"display: table-cell;\"><b title=\"bokeh.models.renderers.GlyphRenderer\">GlyphRenderer</b>(</div><div style=\"display: table-cell;\">id&nbsp;=&nbsp;'1439', <span id=\"1442\" style=\"cursor: pointer;\">&hellip;)</span></div></div><div class=\"1441\" style=\"display: none;\"><div style=\"display: table-cell;\"></div><div style=\"display: table-cell;\">data_source&nbsp;=&nbsp;ColumnDataSource(id='1436', ...),</div></div><div class=\"1441\" style=\"display: none;\"><div style=\"display: table-cell;\"></div><div style=\"display: table-cell;\">glyph&nbsp;=&nbsp;Line(id='1437', ...),</div></div><div class=\"1441\" style=\"display: none;\"><div style=\"display: table-cell;\"></div><div style=\"display: table-cell;\">hover_glyph&nbsp;=&nbsp;None,</div></div><div class=\"1441\" style=\"display: none;\"><div style=\"display: table-cell;\"></div><div style=\"display: table-cell;\">js_event_callbacks&nbsp;=&nbsp;{},</div></div><div class=\"1441\" style=\"display: none;\"><div style=\"display: table-cell;\"></div><div style=\"display: table-cell;\">js_property_callbacks&nbsp;=&nbsp;{},</div></div><div class=\"1441\" style=\"display: none;\"><div style=\"display: table-cell;\"></div><div style=\"display: table-cell;\">level&nbsp;=&nbsp;'glyph',</div></div><div class=\"1441\" style=\"display: none;\"><div style=\"display: table-cell;\"></div><div style=\"display: table-cell;\">muted&nbsp;=&nbsp;False,</div></div><div class=\"1441\" style=\"display: none;\"><div style=\"display: table-cell;\"></div><div style=\"display: table-cell;\">muted_glyph&nbsp;=&nbsp;None,</div></div><div class=\"1441\" style=\"display: none;\"><div style=\"display: table-cell;\"></div><div style=\"display: table-cell;\">name&nbsp;=&nbsp;None,</div></div><div class=\"1441\" style=\"display: none;\"><div style=\"display: table-cell;\"></div><div style=\"display: table-cell;\">nonselection_glyph&nbsp;=&nbsp;Line(id='1438', ...),</div></div><div class=\"1441\" style=\"display: none;\"><div style=\"display: table-cell;\"></div><div style=\"display: table-cell;\">selection_glyph&nbsp;=&nbsp;None,</div></div><div class=\"1441\" style=\"display: none;\"><div style=\"display: table-cell;\"></div><div style=\"display: table-cell;\">subscribed_events&nbsp;=&nbsp;[],</div></div><div class=\"1441\" style=\"display: none;\"><div style=\"display: table-cell;\"></div><div style=\"display: table-cell;\">tags&nbsp;=&nbsp;[],</div></div><div class=\"1441\" style=\"display: none;\"><div style=\"display: table-cell;\"></div><div style=\"display: table-cell;\">view&nbsp;=&nbsp;CDSView(id='1440', ...),</div></div><div class=\"1441\" style=\"display: none;\"><div style=\"display: table-cell;\"></div><div style=\"display: table-cell;\">visible&nbsp;=&nbsp;True,</div></div><div class=\"1441\" style=\"display: none;\"><div style=\"display: table-cell;\"></div><div style=\"display: table-cell;\">x_range_name&nbsp;=&nbsp;'default',</div></div><div class=\"1441\" style=\"display: none;\"><div style=\"display: table-cell;\"></div><div style=\"display: table-cell;\">y_range_name&nbsp;=&nbsp;'default')</div></div></div>\n",
       "<script>\n",
       "(function() {\n",
       "  var expanded = false;\n",
       "  var ellipsis = document.getElementById(\"1442\");\n",
       "  ellipsis.addEventListener(\"click\", function() {\n",
       "    var rows = document.getElementsByClassName(\"1441\");\n",
       "    for (var i = 0; i < rows.length; i++) {\n",
       "      var el = rows[i];\n",
       "      el.style.display = expanded ? \"none\" : \"table-row\";\n",
       "    }\n",
       "    ellipsis.innerHTML = expanded ? \"&hellip;)\" : \"&lsaquo;&lsaquo;&lsaquo;\";\n",
       "    expanded = !expanded;\n",
       "  });\n",
       "})();\n",
       "</script>\n"
      ],
      "text/plain": [
       "GlyphRenderer(id='1439', ...)"
      ]
     },
     "execution_count": 16,
     "metadata": {},
     "output_type": "execute_result"
    }
   ],
   "source": [
    "p_fit.circle(x, y, size=10)\n",
    "p_fit.line(x, y_preds.flatten(), color='red', line_width=2)"
   ]
  },
  {
   "cell_type": "code",
   "execution_count": 17,
   "metadata": {},
   "outputs": [
    {
     "data": {
      "text/html": [
       "\n",
       "\n",
       "\n",
       "\n",
       "\n",
       "\n",
       "  <div class=\"bk-root\" id=\"af805a42-b6c6-41a2-a413-671f5e49b22c\" data-root-id=\"1002\"></div>\n"
      ]
     },
     "metadata": {},
     "output_type": "display_data"
    },
    {
     "data": {
      "application/javascript": [
       "(function(root) {\n",
       "  function embed_document(root) {\n",
       "    \n",
       "  var docs_json = {\"3eab69ea-e9c6-4ae3-bd7e-586224f94d2b\":{\"roots\":{\"references\":[{\"attributes\":{\"below\":[{\"id\":\"1011\",\"type\":\"LinearAxis\"}],\"center\":[{\"id\":\"1015\",\"type\":\"Grid\"},{\"id\":\"1020\",\"type\":\"Grid\"}],\"left\":[{\"id\":\"1016\",\"type\":\"LinearAxis\"}],\"plot_height\":400,\"renderers\":[{\"id\":\"1037\",\"type\":\"GlyphRenderer\"},{\"id\":\"1042\",\"type\":\"GlyphRenderer\"},{\"id\":\"1126\",\"type\":\"GlyphRenderer\"},{\"id\":\"1144\",\"type\":\"GlyphRenderer\"},{\"id\":\"1164\",\"type\":\"GlyphRenderer\"},{\"id\":\"1186\",\"type\":\"GlyphRenderer\"},{\"id\":\"1210\",\"type\":\"GlyphRenderer\"},{\"id\":\"1236\",\"type\":\"GlyphRenderer\"}],\"title\":{\"id\":\"1046\",\"type\":\"Title\"},\"toolbar\":{\"id\":\"1027\",\"type\":\"Toolbar\"},\"x_range\":{\"id\":\"1003\",\"type\":\"DataRange1d\"},\"x_scale\":{\"id\":\"1007\",\"type\":\"LinearScale\"},\"y_range\":{\"id\":\"1005\",\"type\":\"DataRange1d\"},\"y_scale\":{\"id\":\"1009\",\"type\":\"LinearScale\"}},\"id\":\"1002\",\"subtype\":\"Figure\",\"type\":\"Plot\"},{\"attributes\":{\"formatter\":{\"id\":\"1048\",\"type\":\"BasicTickFormatter\"},\"ticker\":{\"id\":\"1017\",\"type\":\"BasicTicker\"}},\"id\":\"1016\",\"type\":\"LinearAxis\"},{\"attributes\":{\"line_color\":\"green\",\"line_width\":2,\"x\":{\"field\":\"x\"},\"y\":{\"field\":\"y\"}},\"id\":\"1184\",\"type\":\"Line\"},{\"attributes\":{},\"id\":\"1054\",\"type\":\"UnionRenderers\"},{\"attributes\":{},\"id\":\"1017\",\"type\":\"BasicTicker\"},{\"attributes\":{\"line_alpha\":0.1,\"line_color\":\"#1f77b4\",\"line_width\":2,\"x\":{\"field\":\"x\"},\"y\":{\"field\":\"y\"}},\"id\":\"1185\",\"type\":\"Line\"},{\"attributes\":{\"data_source\":{\"id\":\"1183\",\"type\":\"ColumnDataSource\"},\"glyph\":{\"id\":\"1184\",\"type\":\"Line\"},\"hover_glyph\":null,\"muted_glyph\":null,\"nonselection_glyph\":{\"id\":\"1185\",\"type\":\"Line\"},\"selection_glyph\":null,\"view\":{\"id\":\"1187\",\"type\":\"CDSView\"}},\"id\":\"1186\",\"type\":\"GlyphRenderer\"},{\"attributes\":{},\"id\":\"1204\",\"type\":\"UnionRenderers\"},{\"attributes\":{\"dimension\":1,\"ticker\":{\"id\":\"1017\",\"type\":\"BasicTicker\"}},\"id\":\"1020\",\"type\":\"Grid\"},{\"attributes\":{\"callback\":null},\"id\":\"1003\",\"type\":\"DataRange1d\"},{\"attributes\":{\"formatter\":{\"id\":\"1050\",\"type\":\"BasicTickFormatter\"},\"ticker\":{\"id\":\"1012\",\"type\":\"BasicTicker\"}},\"id\":\"1011\",\"type\":\"LinearAxis\"},{\"attributes\":{\"source\":{\"id\":\"1183\",\"type\":\"ColumnDataSource\"}},\"id\":\"1187\",\"type\":\"CDSView\"},{\"attributes\":{},\"id\":\"1205\",\"type\":\"Selection\"},{\"attributes\":{\"line_color\":\"green\",\"line_width\":2,\"x\":{\"field\":\"x\"},\"y\":{\"field\":\"y\"}},\"id\":\"1208\",\"type\":\"Line\"},{\"attributes\":{\"callback\":null,\"data\":{\"x\":[45,45],\"y\":[22,20]},\"selected\":{\"id\":\"1231\",\"type\":\"Selection\"},\"selection_policy\":{\"id\":\"1230\",\"type\":\"UnionRenderers\"}},\"id\":\"1207\",\"type\":\"ColumnDataSource\"},{\"attributes\":{\"data_source\":{\"id\":\"1207\",\"type\":\"ColumnDataSource\"},\"glyph\":{\"id\":\"1208\",\"type\":\"Line\"},\"hover_glyph\":null,\"muted_glyph\":null,\"nonselection_glyph\":{\"id\":\"1209\",\"type\":\"Line\"},\"selection_glyph\":null,\"view\":{\"id\":\"1211\",\"type\":\"CDSView\"}},\"id\":\"1210\",\"type\":\"GlyphRenderer\"},{\"attributes\":{\"line_alpha\":0.1,\"line_color\":\"#1f77b4\",\"line_width\":2,\"x\":{\"field\":\"x\"},\"y\":{\"field\":\"y\"}},\"id\":\"1209\",\"type\":\"Line\"},{\"attributes\":{\"ticker\":{\"id\":\"1012\",\"type\":\"BasicTicker\"}},\"id\":\"1015\",\"type\":\"Grid\"},{\"attributes\":{\"source\":{\"id\":\"1207\",\"type\":\"ColumnDataSource\"}},\"id\":\"1211\",\"type\":\"CDSView\"},{\"attributes\":{},\"id\":\"1180\",\"type\":\"UnionRenderers\"},{\"attributes\":{},\"id\":\"1012\",\"type\":\"BasicTicker\"},{\"attributes\":{},\"id\":\"1231\",\"type\":\"Selection\"},{\"attributes\":{\"bottom_units\":\"screen\",\"fill_alpha\":{\"value\":0.5},\"fill_color\":{\"value\":\"lightgrey\"},\"left_units\":\"screen\",\"level\":\"overlay\",\"line_alpha\":{\"value\":1.0},\"line_color\":{\"value\":\"black\"},\"line_dash\":[4,4],\"line_width\":{\"value\":2},\"render_mode\":\"css\",\"right_units\":\"screen\",\"top_units\":\"screen\"},\"id\":\"1056\",\"type\":\"BoxAnnotation\"},{\"attributes\":{\"callback\":null,\"data\":{\"x\":[15,15],\"y\":[20,20]},\"selected\":{\"id\":\"1159\",\"type\":\"Selection\"},\"selection_policy\":{\"id\":\"1158\",\"type\":\"UnionRenderers\"}},\"id\":\"1141\",\"type\":\"ColumnDataSource\"},{\"attributes\":{},\"id\":\"1022\",\"type\":\"WheelZoomTool\"},{\"attributes\":{},\"id\":\"1024\",\"type\":\"SaveTool\"},{\"attributes\":{},\"id\":\"1230\",\"type\":\"UnionRenderers\"},{\"attributes\":{},\"id\":\"1055\",\"type\":\"Selection\"},{\"attributes\":{},\"id\":\"1052\",\"type\":\"UnionRenderers\"},{\"attributes\":{\"overlay\":{\"id\":\"1056\",\"type\":\"BoxAnnotation\"}},\"id\":\"1023\",\"type\":\"BoxZoomTool\"},{\"attributes\":{},\"id\":\"1259\",\"type\":\"Selection\"},{\"attributes\":{},\"id\":\"1053\",\"type\":\"Selection\"},{\"attributes\":{},\"id\":\"1048\",\"type\":\"BasicTickFormatter\"},{\"attributes\":{},\"id\":\"1021\",\"type\":\"PanTool\"},{\"attributes\":{},\"id\":\"1181\",\"type\":\"Selection\"},{\"attributes\":{},\"id\":\"1050\",\"type\":\"BasicTickFormatter\"},{\"attributes\":{\"text\":\"\"},\"id\":\"1046\",\"type\":\"Title\"},{\"attributes\":{\"line_color\":\"green\",\"line_width\":2,\"x\":{\"field\":\"x\"},\"y\":{\"field\":\"y\"}},\"id\":\"1124\",\"type\":\"Line\"},{\"attributes\":{\"callback\":null,\"data\":{\"x\":[35,35],\"y\":[32,20]},\"selected\":{\"id\":\"1205\",\"type\":\"Selection\"},\"selection_policy\":{\"id\":\"1204\",\"type\":\"UnionRenderers\"}},\"id\":\"1183\",\"type\":\"ColumnDataSource\"},{\"attributes\":{\"callback\":null,\"data\":{\"x\":{\"__ndarray__\":\"BQAAAA8AAAAZAAAAIwAAAC0AAAA3AAAA\",\"dtype\":\"int32\",\"shape\":[6]},\"y\":{\"__ndarray__\":\"FAAAABQAAAAUAAAAFAAAABQAAAAUAAAA\",\"dtype\":\"int32\",\"shape\":[6]}},\"selected\":{\"id\":\"1055\",\"type\":\"Selection\"},\"selection_policy\":{\"id\":\"1054\",\"type\":\"UnionRenderers\"}},\"id\":\"1039\",\"type\":\"ColumnDataSource\"},{\"attributes\":{\"callback\":null,\"data\":{\"x\":{\"__ndarray__\":\"BQAAAA8AAAAZAAAAIwAAAC0AAAA3AAAA\",\"dtype\":\"int32\",\"shape\":[6]},\"y\":{\"__ndarray__\":\"BQAAABQAAAAOAAAAIAAAABYAAAAmAAAA\",\"dtype\":\"int32\",\"shape\":[6]}},\"selected\":{\"id\":\"1053\",\"type\":\"Selection\"},\"selection_policy\":{\"id\":\"1052\",\"type\":\"UnionRenderers\"}},\"id\":\"1034\",\"type\":\"ColumnDataSource\"},{\"attributes\":{\"source\":{\"id\":\"1161\",\"type\":\"ColumnDataSource\"}},\"id\":\"1165\",\"type\":\"CDSView\"},{\"attributes\":{\"callback\":null},\"id\":\"1005\",\"type\":\"DataRange1d\"},{\"attributes\":{\"fill_color\":{\"value\":\"#1f77b4\"},\"line_color\":{\"value\":\"#1f77b4\"},\"size\":{\"units\":\"screen\",\"value\":10},\"x\":{\"field\":\"x\"},\"y\":{\"field\":\"y\"}},\"id\":\"1035\",\"type\":\"Circle\"},{\"attributes\":{},\"id\":\"1007\",\"type\":\"LinearScale\"},{\"attributes\":{\"callback\":null,\"data\":{\"x\":[5,5],\"y\":[5,20]},\"selected\":{\"id\":\"1139\",\"type\":\"Selection\"},\"selection_policy\":{\"id\":\"1138\",\"type\":\"UnionRenderers\"}},\"id\":\"1123\",\"type\":\"ColumnDataSource\"},{\"attributes\":{},\"id\":\"1009\",\"type\":\"LinearScale\"},{\"attributes\":{\"source\":{\"id\":\"1123\",\"type\":\"ColumnDataSource\"}},\"id\":\"1127\",\"type\":\"CDSView\"},{\"attributes\":{\"fill_alpha\":{\"value\":0.1},\"fill_color\":{\"value\":\"#1f77b4\"},\"line_alpha\":{\"value\":0.1},\"line_color\":{\"value\":\"#1f77b4\"},\"size\":{\"units\":\"screen\",\"value\":10},\"x\":{\"field\":\"x\"},\"y\":{\"field\":\"y\"}},\"id\":\"1036\",\"type\":\"Circle\"},{\"attributes\":{\"data_source\":{\"id\":\"1034\",\"type\":\"ColumnDataSource\"},\"glyph\":{\"id\":\"1035\",\"type\":\"Circle\"},\"hover_glyph\":null,\"muted_glyph\":null,\"nonselection_glyph\":{\"id\":\"1036\",\"type\":\"Circle\"},\"selection_glyph\":null,\"view\":{\"id\":\"1038\",\"type\":\"CDSView\"}},\"id\":\"1037\",\"type\":\"GlyphRenderer\"},{\"attributes\":{\"active_drag\":\"auto\",\"active_inspect\":\"auto\",\"active_multi\":null,\"active_scroll\":\"auto\",\"active_tap\":\"auto\",\"tools\":[{\"id\":\"1021\",\"type\":\"PanTool\"},{\"id\":\"1022\",\"type\":\"WheelZoomTool\"},{\"id\":\"1023\",\"type\":\"BoxZoomTool\"},{\"id\":\"1024\",\"type\":\"SaveTool\"},{\"id\":\"1025\",\"type\":\"ResetTool\"},{\"id\":\"1026\",\"type\":\"HelpTool\"}]},\"id\":\"1027\",\"type\":\"Toolbar\"},{\"attributes\":{},\"id\":\"1025\",\"type\":\"ResetTool\"},{\"attributes\":{\"source\":{\"id\":\"1034\",\"type\":\"ColumnDataSource\"}},\"id\":\"1038\",\"type\":\"CDSView\"},{\"attributes\":{\"line_color\":\"red\",\"line_width\":2,\"x\":{\"field\":\"x\"},\"y\":{\"field\":\"y\"}},\"id\":\"1040\",\"type\":\"Line\"},{\"attributes\":{\"data_source\":{\"id\":\"1123\",\"type\":\"ColumnDataSource\"},\"glyph\":{\"id\":\"1124\",\"type\":\"Line\"},\"hover_glyph\":null,\"muted_glyph\":null,\"nonselection_glyph\":{\"id\":\"1125\",\"type\":\"Line\"},\"selection_glyph\":null,\"view\":{\"id\":\"1127\",\"type\":\"CDSView\"}},\"id\":\"1126\",\"type\":\"GlyphRenderer\"},{\"attributes\":{\"line_alpha\":0.1,\"line_color\":\"#1f77b4\",\"line_width\":2,\"x\":{\"field\":\"x\"},\"y\":{\"field\":\"y\"}},\"id\":\"1125\",\"type\":\"Line\"},{\"attributes\":{\"line_alpha\":0.1,\"line_color\":\"#1f77b4\",\"line_width\":2,\"x\":{\"field\":\"x\"},\"y\":{\"field\":\"y\"}},\"id\":\"1041\",\"type\":\"Line\"},{\"attributes\":{\"callback\":null,\"data\":{\"x\":[25,25],\"y\":[14,20]},\"selected\":{\"id\":\"1181\",\"type\":\"Selection\"},\"selection_policy\":{\"id\":\"1180\",\"type\":\"UnionRenderers\"}},\"id\":\"1161\",\"type\":\"ColumnDataSource\"},{\"attributes\":{\"data_source\":{\"id\":\"1039\",\"type\":\"ColumnDataSource\"},\"glyph\":{\"id\":\"1040\",\"type\":\"Line\"},\"hover_glyph\":null,\"muted_glyph\":null,\"nonselection_glyph\":{\"id\":\"1041\",\"type\":\"Line\"},\"selection_glyph\":null,\"view\":{\"id\":\"1043\",\"type\":\"CDSView\"}},\"id\":\"1042\",\"type\":\"GlyphRenderer\"},{\"attributes\":{},\"id\":\"1139\",\"type\":\"Selection\"},{\"attributes\":{\"data_source\":{\"id\":\"1161\",\"type\":\"ColumnDataSource\"},\"glyph\":{\"id\":\"1162\",\"type\":\"Line\"},\"hover_glyph\":null,\"muted_glyph\":null,\"nonselection_glyph\":{\"id\":\"1163\",\"type\":\"Line\"},\"selection_glyph\":null,\"view\":{\"id\":\"1165\",\"type\":\"CDSView\"}},\"id\":\"1164\",\"type\":\"GlyphRenderer\"},{\"attributes\":{},\"id\":\"1258\",\"type\":\"UnionRenderers\"},{\"attributes\":{\"source\":{\"id\":\"1039\",\"type\":\"ColumnDataSource\"}},\"id\":\"1043\",\"type\":\"CDSView\"},{\"attributes\":{\"line_color\":\"green\",\"line_width\":2,\"x\":{\"field\":\"x\"},\"y\":{\"field\":\"y\"}},\"id\":\"1142\",\"type\":\"Line\"},{\"attributes\":{},\"id\":\"1138\",\"type\":\"UnionRenderers\"},{\"attributes\":{\"line_alpha\":0.1,\"line_color\":\"#1f77b4\",\"line_width\":2,\"x\":{\"field\":\"x\"},\"y\":{\"field\":\"y\"}},\"id\":\"1143\",\"type\":\"Line\"},{\"attributes\":{\"source\":{\"id\":\"1233\",\"type\":\"ColumnDataSource\"}},\"id\":\"1237\",\"type\":\"CDSView\"},{\"attributes\":{\"data_source\":{\"id\":\"1141\",\"type\":\"ColumnDataSource\"},\"glyph\":{\"id\":\"1142\",\"type\":\"Line\"},\"hover_glyph\":null,\"muted_glyph\":null,\"nonselection_glyph\":{\"id\":\"1143\",\"type\":\"Line\"},\"selection_glyph\":null,\"view\":{\"id\":\"1145\",\"type\":\"CDSView\"}},\"id\":\"1144\",\"type\":\"GlyphRenderer\"},{\"attributes\":{\"line_alpha\":0.1,\"line_color\":\"#1f77b4\",\"line_width\":2,\"x\":{\"field\":\"x\"},\"y\":{\"field\":\"y\"}},\"id\":\"1235\",\"type\":\"Line\"},{\"attributes\":{},\"id\":\"1158\",\"type\":\"UnionRenderers\"},{\"attributes\":{\"source\":{\"id\":\"1141\",\"type\":\"ColumnDataSource\"}},\"id\":\"1145\",\"type\":\"CDSView\"},{\"attributes\":{\"data_source\":{\"id\":\"1233\",\"type\":\"ColumnDataSource\"},\"glyph\":{\"id\":\"1234\",\"type\":\"Line\"},\"hover_glyph\":null,\"muted_glyph\":null,\"nonselection_glyph\":{\"id\":\"1235\",\"type\":\"Line\"},\"selection_glyph\":null,\"view\":{\"id\":\"1237\",\"type\":\"CDSView\"}},\"id\":\"1236\",\"type\":\"GlyphRenderer\"},{\"attributes\":{},\"id\":\"1159\",\"type\":\"Selection\"},{\"attributes\":{},\"id\":\"1026\",\"type\":\"HelpTool\"},{\"attributes\":{\"line_alpha\":0.1,\"line_color\":\"#1f77b4\",\"line_width\":2,\"x\":{\"field\":\"x\"},\"y\":{\"field\":\"y\"}},\"id\":\"1163\",\"type\":\"Line\"},{\"attributes\":{\"callback\":null,\"data\":{\"x\":[55,55],\"y\":[38,20]},\"selected\":{\"id\":\"1259\",\"type\":\"Selection\"},\"selection_policy\":{\"id\":\"1258\",\"type\":\"UnionRenderers\"}},\"id\":\"1233\",\"type\":\"ColumnDataSource\"},{\"attributes\":{\"line_color\":\"green\",\"line_width\":2,\"x\":{\"field\":\"x\"},\"y\":{\"field\":\"y\"}},\"id\":\"1162\",\"type\":\"Line\"},{\"attributes\":{\"line_color\":\"green\",\"line_width\":2,\"x\":{\"field\":\"x\"},\"y\":{\"field\":\"y\"}},\"id\":\"1234\",\"type\":\"Line\"}],\"root_ids\":[\"1002\"]},\"title\":\"Bokeh Application\",\"version\":\"1.4.0\"}};\n",
       "  var render_items = [{\"docid\":\"3eab69ea-e9c6-4ae3-bd7e-586224f94d2b\",\"roots\":{\"1002\":\"af805a42-b6c6-41a2-a413-671f5e49b22c\"}}];\n",
       "  root.Bokeh.embed.embed_items_notebook(docs_json, render_items);\n",
       "\n",
       "  }\n",
       "  if (root.Bokeh !== undefined) {\n",
       "    embed_document(root);\n",
       "  } else {\n",
       "    var attempts = 0;\n",
       "    var timer = setInterval(function(root) {\n",
       "      if (root.Bokeh !== undefined) {\n",
       "        clearInterval(timer);\n",
       "        embed_document(root);\n",
       "      } else {\n",
       "        attempts++;\n",
       "        if (attempts > 100) {\n",
       "          clearInterval(timer);\n",
       "          console.log(\"Bokeh: ERROR: Unable to run BokehJS code because BokehJS library is missing\");\n",
       "        }\n",
       "      }\n",
       "    }, 10, root)\n",
       "  }\n",
       "})(window);"
      ],
      "application/vnd.bokehjs_exec.v0+json": ""
     },
     "metadata": {
      "application/vnd.bokehjs_exec.v0+json": {
       "id": "1002"
      }
     },
     "output_type": "display_data"
    }
   ],
   "source": [
    "show(p)"
   ]
  },
  {
   "cell_type": "code",
   "execution_count": 18,
   "metadata": {},
   "outputs": [],
   "source": [
    "for i, x_i in enumerate(x):\n",
    "    p_fit.line([x_i, x_i], [y[i], y_preds[i]], color='green', line_width=2)"
   ]
  },
  {
   "cell_type": "code",
   "execution_count": 19,
   "metadata": {},
   "outputs": [
    {
     "data": {
      "text/html": [
       "\n",
       "\n",
       "\n",
       "\n",
       "\n",
       "\n",
       "  <div class=\"bk-root\" id=\"837e6a14-443d-4332-811d-2bd7846bc835\" data-root-id=\"1399\"></div>\n"
      ]
     },
     "metadata": {},
     "output_type": "display_data"
    },
    {
     "data": {
      "application/javascript": [
       "(function(root) {\n",
       "  function embed_document(root) {\n",
       "    \n",
       "  var docs_json = {\"05876ff5-cce5-4b6b-85d8-99e8ae881841\":{\"roots\":{\"references\":[{\"attributes\":{\"below\":[{\"id\":\"1408\",\"type\":\"LinearAxis\"}],\"center\":[{\"id\":\"1412\",\"type\":\"Grid\"},{\"id\":\"1417\",\"type\":\"Grid\"}],\"left\":[{\"id\":\"1413\",\"type\":\"LinearAxis\"}],\"plot_height\":400,\"renderers\":[{\"id\":\"1434\",\"type\":\"GlyphRenderer\"},{\"id\":\"1439\",\"type\":\"GlyphRenderer\"},{\"id\":\"1584\",\"type\":\"GlyphRenderer\"},{\"id\":\"1589\",\"type\":\"GlyphRenderer\"},{\"id\":\"1594\",\"type\":\"GlyphRenderer\"},{\"id\":\"1599\",\"type\":\"GlyphRenderer\"},{\"id\":\"1604\",\"type\":\"GlyphRenderer\"},{\"id\":\"1609\",\"type\":\"GlyphRenderer\"}],\"title\":{\"id\":\"1634\",\"type\":\"Title\"},\"toolbar\":{\"id\":\"1424\",\"type\":\"Toolbar\"},\"x_range\":{\"id\":\"1400\",\"type\":\"DataRange1d\"},\"x_scale\":{\"id\":\"1404\",\"type\":\"LinearScale\"},\"y_range\":{\"id\":\"1402\",\"type\":\"DataRange1d\"},\"y_scale\":{\"id\":\"1406\",\"type\":\"LinearScale\"}},\"id\":\"1399\",\"subtype\":\"Figure\",\"type\":\"Plot\"},{\"attributes\":{},\"id\":\"1655\",\"type\":\"Selection\"},{\"attributes\":{\"bottom_units\":\"screen\",\"fill_alpha\":{\"value\":0.5},\"fill_color\":{\"value\":\"lightgrey\"},\"left_units\":\"screen\",\"level\":\"overlay\",\"line_alpha\":{\"value\":1.0},\"line_color\":{\"value\":\"black\"},\"line_dash\":[4,4],\"line_width\":{\"value\":2},\"render_mode\":\"css\",\"right_units\":\"screen\",\"top_units\":\"screen\"},\"id\":\"1656\",\"type\":\"BoxAnnotation\"},{\"attributes\":{},\"id\":\"1647\",\"type\":\"Selection\"},{\"attributes\":{\"callback\":null,\"data\":{\"x\":[35,35],\"y\":[32,[24.53333333333333]]},\"selected\":{\"id\":\"1651\",\"type\":\"Selection\"},\"selection_policy\":{\"id\":\"1650\",\"type\":\"UnionRenderers\"}},\"id\":\"1596\",\"type\":\"ColumnDataSource\"},{\"attributes\":{\"line_alpha\":0.1,\"line_color\":\"#1f77b4\",\"line_width\":2,\"x\":{\"field\":\"x\"},\"y\":{\"field\":\"y\"}},\"id\":\"1438\",\"type\":\"Line\"},{\"attributes\":{\"line_color\":\"green\",\"line_width\":2,\"x\":{\"field\":\"x\"},\"y\":{\"field\":\"y\"}},\"id\":\"1597\",\"type\":\"Line\"},{\"attributes\":{},\"id\":\"1645\",\"type\":\"Selection\"},{\"attributes\":{},\"id\":\"1650\",\"type\":\"UnionRenderers\"},{\"attributes\":{\"callback\":null},\"id\":\"1402\",\"type\":\"DataRange1d\"},{\"attributes\":{\"callback\":null},\"id\":\"1400\",\"type\":\"DataRange1d\"},{\"attributes\":{\"formatter\":{\"id\":\"1638\",\"type\":\"BasicTickFormatter\"},\"ticker\":{\"id\":\"1409\",\"type\":\"BasicTicker\"}},\"id\":\"1408\",\"type\":\"LinearAxis\"},{\"attributes\":{\"line_alpha\":0.1,\"line_color\":\"#1f77b4\",\"line_width\":2,\"x\":{\"field\":\"x\"},\"y\":{\"field\":\"y\"}},\"id\":\"1598\",\"type\":\"Line\"},{\"attributes\":{},\"id\":\"1652\",\"type\":\"UnionRenderers\"},{\"attributes\":{},\"id\":\"1649\",\"type\":\"Selection\"},{\"attributes\":{\"data_source\":{\"id\":\"1596\",\"type\":\"ColumnDataSource\"},\"glyph\":{\"id\":\"1597\",\"type\":\"Line\"},\"hover_glyph\":null,\"muted_glyph\":null,\"nonselection_glyph\":{\"id\":\"1598\",\"type\":\"Line\"},\"selection_glyph\":null,\"view\":{\"id\":\"1600\",\"type\":\"CDSView\"}},\"id\":\"1599\",\"type\":\"GlyphRenderer\"},{\"attributes\":{\"callback\":null,\"data\":{\"x\":[5,5],\"y\":[5,[8.333333333333329]]},\"selected\":{\"id\":\"1645\",\"type\":\"Selection\"},\"selection_policy\":{\"id\":\"1644\",\"type\":\"UnionRenderers\"}},\"id\":\"1581\",\"type\":\"ColumnDataSource\"},{\"attributes\":{},\"id\":\"1651\",\"type\":\"Selection\"},{\"attributes\":{},\"id\":\"1404\",\"type\":\"LinearScale\"},{\"attributes\":{\"callback\":null,\"data\":{\"x\":[45,45],\"y\":[22,[29.93333333333333]]},\"selected\":{\"id\":\"1653\",\"type\":\"Selection\"},\"selection_policy\":{\"id\":\"1652\",\"type\":\"UnionRenderers\"}},\"id\":\"1601\",\"type\":\"ColumnDataSource\"},{\"attributes\":{},\"id\":\"1406\",\"type\":\"LinearScale\"},{\"attributes\":{\"source\":{\"id\":\"1596\",\"type\":\"ColumnDataSource\"}},\"id\":\"1600\",\"type\":\"CDSView\"},{\"attributes\":{\"fill_color\":{\"value\":\"#1f77b4\"},\"line_color\":{\"value\":\"#1f77b4\"},\"size\":{\"units\":\"screen\",\"value\":10},\"x\":{\"field\":\"x\"},\"y\":{\"field\":\"y\"}},\"id\":\"1432\",\"type\":\"Circle\"},{\"attributes\":{\"line_color\":\"green\",\"line_width\":2,\"x\":{\"field\":\"x\"},\"y\":{\"field\":\"y\"}},\"id\":\"1602\",\"type\":\"Line\"},{\"attributes\":{},\"id\":\"1638\",\"type\":\"BasicTickFormatter\"},{\"attributes\":{},\"id\":\"1409\",\"type\":\"BasicTicker\"},{\"attributes\":{\"callback\":null,\"data\":{\"x\":[55,55],\"y\":[38,[35.33333333333333]]},\"selected\":{\"id\":\"1655\",\"type\":\"Selection\"},\"selection_policy\":{\"id\":\"1654\",\"type\":\"UnionRenderers\"}},\"id\":\"1606\",\"type\":\"ColumnDataSource\"},{\"attributes\":{\"data_source\":{\"id\":\"1431\",\"type\":\"ColumnDataSource\"},\"glyph\":{\"id\":\"1432\",\"type\":\"Circle\"},\"hover_glyph\":null,\"muted_glyph\":null,\"nonselection_glyph\":{\"id\":\"1433\",\"type\":\"Circle\"},\"selection_glyph\":null,\"view\":{\"id\":\"1435\",\"type\":\"CDSView\"}},\"id\":\"1434\",\"type\":\"GlyphRenderer\"},{\"attributes\":{\"ticker\":{\"id\":\"1409\",\"type\":\"BasicTicker\"}},\"id\":\"1412\",\"type\":\"Grid\"},{\"attributes\":{\"callback\":null,\"data\":{\"x\":{\"__ndarray__\":\"BQAAAA8AAAAZAAAAIwAAAC0AAAA3AAAA\",\"dtype\":\"int32\",\"shape\":[6]},\"y\":{\"__ndarray__\":\"qKqqqqqqIEB2d3d3d3crQCEiIiIiIjNAiIiIiIiIOEDu7u7u7u49QKqqqqqqqkFA\",\"dtype\":\"float64\",\"shape\":[6]}},\"selected\":{\"id\":\"1643\",\"type\":\"Selection\"},\"selection_policy\":{\"id\":\"1642\",\"type\":\"UnionRenderers\"}},\"id\":\"1436\",\"type\":\"ColumnDataSource\"},{\"attributes\":{\"line_alpha\":0.1,\"line_color\":\"#1f77b4\",\"line_width\":2,\"x\":{\"field\":\"x\"},\"y\":{\"field\":\"y\"}},\"id\":\"1603\",\"type\":\"Line\"},{\"attributes\":{\"formatter\":{\"id\":\"1636\",\"type\":\"BasicTickFormatter\"},\"ticker\":{\"id\":\"1414\",\"type\":\"BasicTicker\"}},\"id\":\"1413\",\"type\":\"LinearAxis\"},{\"attributes\":{\"data_source\":{\"id\":\"1601\",\"type\":\"ColumnDataSource\"},\"glyph\":{\"id\":\"1602\",\"type\":\"Line\"},\"hover_glyph\":null,\"muted_glyph\":null,\"nonselection_glyph\":{\"id\":\"1603\",\"type\":\"Line\"},\"selection_glyph\":null,\"view\":{\"id\":\"1605\",\"type\":\"CDSView\"}},\"id\":\"1604\",\"type\":\"GlyphRenderer\"},{\"attributes\":{\"source\":{\"id\":\"1431\",\"type\":\"ColumnDataSource\"}},\"id\":\"1435\",\"type\":\"CDSView\"},{\"attributes\":{},\"id\":\"1414\",\"type\":\"BasicTicker\"},{\"attributes\":{},\"id\":\"1653\",\"type\":\"Selection\"},{\"attributes\":{\"source\":{\"id\":\"1601\",\"type\":\"ColumnDataSource\"}},\"id\":\"1605\",\"type\":\"CDSView\"},{\"attributes\":{\"line_color\":\"green\",\"line_width\":2,\"x\":{\"field\":\"x\"},\"y\":{\"field\":\"y\"}},\"id\":\"1582\",\"type\":\"Line\"},{\"attributes\":{\"data_source\":{\"id\":\"1591\",\"type\":\"ColumnDataSource\"},\"glyph\":{\"id\":\"1592\",\"type\":\"Line\"},\"hover_glyph\":null,\"muted_glyph\":null,\"nonselection_glyph\":{\"id\":\"1593\",\"type\":\"Line\"},\"selection_glyph\":null,\"view\":{\"id\":\"1595\",\"type\":\"CDSView\"}},\"id\":\"1594\",\"type\":\"GlyphRenderer\"},{\"attributes\":{},\"id\":\"1640\",\"type\":\"UnionRenderers\"},{\"attributes\":{},\"id\":\"1646\",\"type\":\"UnionRenderers\"},{\"attributes\":{\"dimension\":1,\"ticker\":{\"id\":\"1414\",\"type\":\"BasicTicker\"}},\"id\":\"1417\",\"type\":\"Grid\"},{\"attributes\":{\"line_color\":\"green\",\"line_width\":2,\"x\":{\"field\":\"x\"},\"y\":{\"field\":\"y\"}},\"id\":\"1607\",\"type\":\"Line\"},{\"attributes\":{\"data_source\":{\"id\":\"1581\",\"type\":\"ColumnDataSource\"},\"glyph\":{\"id\":\"1582\",\"type\":\"Line\"},\"hover_glyph\":null,\"muted_glyph\":null,\"nonselection_glyph\":{\"id\":\"1583\",\"type\":\"Line\"},\"selection_glyph\":null,\"view\":{\"id\":\"1585\",\"type\":\"CDSView\"}},\"id\":\"1584\",\"type\":\"GlyphRenderer\"},{\"attributes\":{\"callback\":null,\"data\":{\"x\":[15,15],\"y\":[20,[13.73333333333333]]},\"selected\":{\"id\":\"1647\",\"type\":\"Selection\"},\"selection_policy\":{\"id\":\"1646\",\"type\":\"UnionRenderers\"}},\"id\":\"1586\",\"type\":\"ColumnDataSource\"},{\"attributes\":{},\"id\":\"1641\",\"type\":\"Selection\"},{\"attributes\":{\"line_alpha\":0.1,\"line_color\":\"#1f77b4\",\"line_width\":2,\"x\":{\"field\":\"x\"},\"y\":{\"field\":\"y\"}},\"id\":\"1583\",\"type\":\"Line\"},{\"attributes\":{},\"id\":\"1643\",\"type\":\"Selection\"},{\"attributes\":{\"line_alpha\":0.1,\"line_color\":\"#1f77b4\",\"line_width\":2,\"x\":{\"field\":\"x\"},\"y\":{\"field\":\"y\"}},\"id\":\"1608\",\"type\":\"Line\"},{\"attributes\":{\"data_source\":{\"id\":\"1606\",\"type\":\"ColumnDataSource\"},\"glyph\":{\"id\":\"1607\",\"type\":\"Line\"},\"hover_glyph\":null,\"muted_glyph\":null,\"nonselection_glyph\":{\"id\":\"1608\",\"type\":\"Line\"},\"selection_glyph\":null,\"view\":{\"id\":\"1610\",\"type\":\"CDSView\"}},\"id\":\"1609\",\"type\":\"GlyphRenderer\"},{\"attributes\":{},\"id\":\"1642\",\"type\":\"UnionRenderers\"},{\"attributes\":{},\"id\":\"1418\",\"type\":\"PanTool\"},{\"attributes\":{\"source\":{\"id\":\"1581\",\"type\":\"ColumnDataSource\"}},\"id\":\"1585\",\"type\":\"CDSView\"},{\"attributes\":{},\"id\":\"1419\",\"type\":\"WheelZoomTool\"},{\"attributes\":{\"overlay\":{\"id\":\"1656\",\"type\":\"BoxAnnotation\"}},\"id\":\"1420\",\"type\":\"BoxZoomTool\"},{\"attributes\":{\"line_color\":\"green\",\"line_width\":2,\"x\":{\"field\":\"x\"},\"y\":{\"field\":\"y\"}},\"id\":\"1587\",\"type\":\"Line\"},{\"attributes\":{},\"id\":\"1421\",\"type\":\"SaveTool\"},{\"attributes\":{\"line_color\":\"red\",\"line_width\":2,\"x\":{\"field\":\"x\"},\"y\":{\"field\":\"y\"}},\"id\":\"1437\",\"type\":\"Line\"},{\"attributes\":{\"source\":{\"id\":\"1606\",\"type\":\"ColumnDataSource\"}},\"id\":\"1610\",\"type\":\"CDSView\"},{\"attributes\":{\"data_source\":{\"id\":\"1586\",\"type\":\"ColumnDataSource\"},\"glyph\":{\"id\":\"1587\",\"type\":\"Line\"},\"hover_glyph\":null,\"muted_glyph\":null,\"nonselection_glyph\":{\"id\":\"1588\",\"type\":\"Line\"},\"selection_glyph\":null,\"view\":{\"id\":\"1590\",\"type\":\"CDSView\"}},\"id\":\"1589\",\"type\":\"GlyphRenderer\"},{\"attributes\":{},\"id\":\"1423\",\"type\":\"HelpTool\"},{\"attributes\":{\"callback\":null,\"data\":{\"x\":{\"__ndarray__\":\"BQAAAA8AAAAZAAAAIwAAAC0AAAA3AAAA\",\"dtype\":\"int32\",\"shape\":[6]},\"y\":{\"__ndarray__\":\"BQAAABQAAAAOAAAAIAAAABYAAAAmAAAA\",\"dtype\":\"int32\",\"shape\":[6]}},\"selected\":{\"id\":\"1641\",\"type\":\"Selection\"},\"selection_policy\":{\"id\":\"1640\",\"type\":\"UnionRenderers\"}},\"id\":\"1431\",\"type\":\"ColumnDataSource\"},{\"attributes\":{\"callback\":null,\"data\":{\"x\":[25,25],\"y\":[14,[19.13333333333333]]},\"selected\":{\"id\":\"1649\",\"type\":\"Selection\"},\"selection_policy\":{\"id\":\"1648\",\"type\":\"UnionRenderers\"}},\"id\":\"1591\",\"type\":\"ColumnDataSource\"},{\"attributes\":{},\"id\":\"1422\",\"type\":\"ResetTool\"},{\"attributes\":{\"fill_alpha\":{\"value\":0.1},\"fill_color\":{\"value\":\"#1f77b4\"},\"line_alpha\":{\"value\":0.1},\"line_color\":{\"value\":\"#1f77b4\"},\"size\":{\"units\":\"screen\",\"value\":10},\"x\":{\"field\":\"x\"},\"y\":{\"field\":\"y\"}},\"id\":\"1433\",\"type\":\"Circle\"},{\"attributes\":{},\"id\":\"1648\",\"type\":\"UnionRenderers\"},{\"attributes\":{},\"id\":\"1644\",\"type\":\"UnionRenderers\"},{\"attributes\":{\"source\":{\"id\":\"1436\",\"type\":\"ColumnDataSource\"}},\"id\":\"1440\",\"type\":\"CDSView\"},{\"attributes\":{\"line_alpha\":0.1,\"line_color\":\"#1f77b4\",\"line_width\":2,\"x\":{\"field\":\"x\"},\"y\":{\"field\":\"y\"}},\"id\":\"1588\",\"type\":\"Line\"},{\"attributes\":{\"source\":{\"id\":\"1586\",\"type\":\"ColumnDataSource\"}},\"id\":\"1590\",\"type\":\"CDSView\"},{\"attributes\":{},\"id\":\"1636\",\"type\":\"BasicTickFormatter\"},{\"attributes\":{\"line_alpha\":0.1,\"line_color\":\"#1f77b4\",\"line_width\":2,\"x\":{\"field\":\"x\"},\"y\":{\"field\":\"y\"}},\"id\":\"1593\",\"type\":\"Line\"},{\"attributes\":{\"text\":\"\"},\"id\":\"1634\",\"type\":\"Title\"},{\"attributes\":{\"source\":{\"id\":\"1591\",\"type\":\"ColumnDataSource\"}},\"id\":\"1595\",\"type\":\"CDSView\"},{\"attributes\":{\"data_source\":{\"id\":\"1436\",\"type\":\"ColumnDataSource\"},\"glyph\":{\"id\":\"1437\",\"type\":\"Line\"},\"hover_glyph\":null,\"muted_glyph\":null,\"nonselection_glyph\":{\"id\":\"1438\",\"type\":\"Line\"},\"selection_glyph\":null,\"view\":{\"id\":\"1440\",\"type\":\"CDSView\"}},\"id\":\"1439\",\"type\":\"GlyphRenderer\"},{\"attributes\":{\"active_drag\":\"auto\",\"active_inspect\":\"auto\",\"active_multi\":null,\"active_scroll\":\"auto\",\"active_tap\":\"auto\",\"tools\":[{\"id\":\"1418\",\"type\":\"PanTool\"},{\"id\":\"1419\",\"type\":\"WheelZoomTool\"},{\"id\":\"1420\",\"type\":\"BoxZoomTool\"},{\"id\":\"1421\",\"type\":\"SaveTool\"},{\"id\":\"1422\",\"type\":\"ResetTool\"},{\"id\":\"1423\",\"type\":\"HelpTool\"}]},\"id\":\"1424\",\"type\":\"Toolbar\"},{\"attributes\":{},\"id\":\"1654\",\"type\":\"UnionRenderers\"},{\"attributes\":{\"line_color\":\"green\",\"line_width\":2,\"x\":{\"field\":\"x\"},\"y\":{\"field\":\"y\"}},\"id\":\"1592\",\"type\":\"Line\"}],\"root_ids\":[\"1399\"]},\"title\":\"Bokeh Application\",\"version\":\"1.4.0\"}};\n",
       "  var render_items = [{\"docid\":\"05876ff5-cce5-4b6b-85d8-99e8ae881841\",\"roots\":{\"1399\":\"837e6a14-443d-4332-811d-2bd7846bc835\"}}];\n",
       "  root.Bokeh.embed.embed_items_notebook(docs_json, render_items);\n",
       "\n",
       "  }\n",
       "  if (root.Bokeh !== undefined) {\n",
       "    embed_document(root);\n",
       "  } else {\n",
       "    var attempts = 0;\n",
       "    var timer = setInterval(function(root) {\n",
       "      if (root.Bokeh !== undefined) {\n",
       "        clearInterval(timer);\n",
       "        embed_document(root);\n",
       "      } else {\n",
       "        attempts++;\n",
       "        if (attempts > 100) {\n",
       "          clearInterval(timer);\n",
       "          console.log(\"Bokeh: ERROR: Unable to run BokehJS code because BokehJS library is missing\");\n",
       "        }\n",
       "      }\n",
       "    }, 10, root)\n",
       "  }\n",
       "})(window);"
      ],
      "application/vnd.bokehjs_exec.v0+json": ""
     },
     "metadata": {
      "application/vnd.bokehjs_exec.v0+json": {
       "id": "1399"
      }
     },
     "output_type": "display_data"
    }
   ],
   "source": [
    "show(p_fit)"
   ]
  },
  {
   "cell_type": "code",
   "execution_count": null,
   "metadata": {},
   "outputs": [],
   "source": []
  },
  {
   "cell_type": "code",
   "execution_count": null,
   "metadata": {},
   "outputs": [],
   "source": []
  },
  {
   "cell_type": "code",
   "execution_count": null,
   "metadata": {},
   "outputs": [],
   "source": []
  },
  {
   "cell_type": "code",
   "execution_count": null,
   "metadata": {},
   "outputs": [],
   "source": []
  },
  {
   "cell_type": "code",
   "execution_count": 20,
   "metadata": {},
   "outputs": [],
   "source": [
    "np.random.seed(0)"
   ]
  },
  {
   "cell_type": "code",
   "execution_count": 21,
   "metadata": {},
   "outputs": [],
   "source": [
    "x = 4 * np.random.rand(100, 1)\n",
    "y = 4 + 2 * x + np.random.randn(100, 1)\n",
    "x = np.array(x).flatten()\n",
    "y = np.array(y).flatten()"
   ]
  },
  {
   "cell_type": "code",
   "execution_count": 22,
   "metadata": {},
   "outputs": [],
   "source": [
    "p_1 = figure(plot_width = 600, plot_height = 400)"
   ]
  },
  {
   "cell_type": "code",
   "execution_count": 23,
   "metadata": {},
   "outputs": [
    {
     "data": {
      "text/html": [
       "<div style=\"display: table;\"><div style=\"display: table-row;\"><div style=\"display: table-cell;\"><b title=\"bokeh.models.renderers.GlyphRenderer\">GlyphRenderer</b>(</div><div style=\"display: table-cell;\">id&nbsp;=&nbsp;'1830', <span id=\"1833\" style=\"cursor: pointer;\">&hellip;)</span></div></div><div class=\"1832\" style=\"display: none;\"><div style=\"display: table-cell;\"></div><div style=\"display: table-cell;\">data_source&nbsp;=&nbsp;ColumnDataSource(id='1827', ...),</div></div><div class=\"1832\" style=\"display: none;\"><div style=\"display: table-cell;\"></div><div style=\"display: table-cell;\">glyph&nbsp;=&nbsp;Circle(id='1828', ...),</div></div><div class=\"1832\" style=\"display: none;\"><div style=\"display: table-cell;\"></div><div style=\"display: table-cell;\">hover_glyph&nbsp;=&nbsp;None,</div></div><div class=\"1832\" style=\"display: none;\"><div style=\"display: table-cell;\"></div><div style=\"display: table-cell;\">js_event_callbacks&nbsp;=&nbsp;{},</div></div><div class=\"1832\" style=\"display: none;\"><div style=\"display: table-cell;\"></div><div style=\"display: table-cell;\">js_property_callbacks&nbsp;=&nbsp;{},</div></div><div class=\"1832\" style=\"display: none;\"><div style=\"display: table-cell;\"></div><div style=\"display: table-cell;\">level&nbsp;=&nbsp;'glyph',</div></div><div class=\"1832\" style=\"display: none;\"><div style=\"display: table-cell;\"></div><div style=\"display: table-cell;\">muted&nbsp;=&nbsp;False,</div></div><div class=\"1832\" style=\"display: none;\"><div style=\"display: table-cell;\"></div><div style=\"display: table-cell;\">muted_glyph&nbsp;=&nbsp;None,</div></div><div class=\"1832\" style=\"display: none;\"><div style=\"display: table-cell;\"></div><div style=\"display: table-cell;\">name&nbsp;=&nbsp;None,</div></div><div class=\"1832\" style=\"display: none;\"><div style=\"display: table-cell;\"></div><div style=\"display: table-cell;\">nonselection_glyph&nbsp;=&nbsp;Circle(id='1829', ...),</div></div><div class=\"1832\" style=\"display: none;\"><div style=\"display: table-cell;\"></div><div style=\"display: table-cell;\">selection_glyph&nbsp;=&nbsp;None,</div></div><div class=\"1832\" style=\"display: none;\"><div style=\"display: table-cell;\"></div><div style=\"display: table-cell;\">subscribed_events&nbsp;=&nbsp;[],</div></div><div class=\"1832\" style=\"display: none;\"><div style=\"display: table-cell;\"></div><div style=\"display: table-cell;\">tags&nbsp;=&nbsp;[],</div></div><div class=\"1832\" style=\"display: none;\"><div style=\"display: table-cell;\"></div><div style=\"display: table-cell;\">view&nbsp;=&nbsp;CDSView(id='1831', ...),</div></div><div class=\"1832\" style=\"display: none;\"><div style=\"display: table-cell;\"></div><div style=\"display: table-cell;\">visible&nbsp;=&nbsp;True,</div></div><div class=\"1832\" style=\"display: none;\"><div style=\"display: table-cell;\"></div><div style=\"display: table-cell;\">x_range_name&nbsp;=&nbsp;'default',</div></div><div class=\"1832\" style=\"display: none;\"><div style=\"display: table-cell;\"></div><div style=\"display: table-cell;\">y_range_name&nbsp;=&nbsp;'default')</div></div></div>\n",
       "<script>\n",
       "(function() {\n",
       "  var expanded = false;\n",
       "  var ellipsis = document.getElementById(\"1833\");\n",
       "  ellipsis.addEventListener(\"click\", function() {\n",
       "    var rows = document.getElementsByClassName(\"1832\");\n",
       "    for (var i = 0; i < rows.length; i++) {\n",
       "      var el = rows[i];\n",
       "      el.style.display = expanded ? \"none\" : \"table-row\";\n",
       "    }\n",
       "    ellipsis.innerHTML = expanded ? \"&hellip;)\" : \"&lsaquo;&lsaquo;&lsaquo;\";\n",
       "    expanded = !expanded;\n",
       "  });\n",
       "})();\n",
       "</script>\n"
      ],
      "text/plain": [
       "GlyphRenderer(id='1830', ...)"
      ]
     },
     "execution_count": 23,
     "metadata": {},
     "output_type": "execute_result"
    }
   ],
   "source": [
    "p_1.circle(x, y, size=10)"
   ]
  },
  {
   "cell_type": "code",
   "execution_count": 24,
   "metadata": {
    "scrolled": false
   },
   "outputs": [
    {
     "data": {
      "text/html": [
       "\n",
       "\n",
       "\n",
       "\n",
       "\n",
       "\n",
       "  <div class=\"bk-root\" id=\"4b96ed87-7bfa-4941-9405-6954febf2a14\" data-root-id=\"1795\"></div>\n"
      ]
     },
     "metadata": {},
     "output_type": "display_data"
    },
    {
     "data": {
      "application/javascript": [
       "(function(root) {\n",
       "  function embed_document(root) {\n",
       "    \n",
       "  var docs_json = {\"1844d7f0-95ff-4de0-afd3-4293908a088d\":{\"roots\":{\"references\":[{\"attributes\":{\"below\":[{\"id\":\"1804\",\"type\":\"LinearAxis\"}],\"center\":[{\"id\":\"1808\",\"type\":\"Grid\"},{\"id\":\"1813\",\"type\":\"Grid\"}],\"left\":[{\"id\":\"1809\",\"type\":\"LinearAxis\"}],\"plot_height\":400,\"renderers\":[{\"id\":\"1830\",\"type\":\"GlyphRenderer\"}],\"title\":{\"id\":\"1880\",\"type\":\"Title\"},\"toolbar\":{\"id\":\"1820\",\"type\":\"Toolbar\"},\"x_range\":{\"id\":\"1796\",\"type\":\"DataRange1d\"},\"x_scale\":{\"id\":\"1800\",\"type\":\"LinearScale\"},\"y_range\":{\"id\":\"1798\",\"type\":\"DataRange1d\"},\"y_scale\":{\"id\":\"1802\",\"type\":\"LinearScale\"}},\"id\":\"1795\",\"subtype\":\"Figure\",\"type\":\"Plot\"},{\"attributes\":{\"callback\":null},\"id\":\"1798\",\"type\":\"DataRange1d\"},{\"attributes\":{},\"id\":\"1882\",\"type\":\"BasicTickFormatter\"},{\"attributes\":{},\"id\":\"1814\",\"type\":\"PanTool\"},{\"attributes\":{\"formatter\":{\"id\":\"1884\",\"type\":\"BasicTickFormatter\"},\"ticker\":{\"id\":\"1805\",\"type\":\"BasicTicker\"}},\"id\":\"1804\",\"type\":\"LinearAxis\"},{\"attributes\":{},\"id\":\"1815\",\"type\":\"WheelZoomTool\"},{\"attributes\":{\"overlay\":{\"id\":\"1888\",\"type\":\"BoxAnnotation\"}},\"id\":\"1816\",\"type\":\"BoxZoomTool\"},{\"attributes\":{\"callback\":null,\"data\":{\"x\":{\"__ndarray__\":\"qBJfVuGPAUAzh2DP1OIGQEuJbmvWSQNA9ZVj265vAUD2Dv0EKR37P1ubiSEqqwRA0llhym0B/D/3EjqIZ4kMQDYzF0lT1g5AFkLSS06K+D8oqT+/z1UJQCJ/6wm17ABALTaSyWstAkAIJVjXfJ4NQAjzy0prL9I/8NK9FBtO1j/giSKvIbS0P3sg1F/SpApAHbiP/KjmCEAn+Hq3I9cLQIH55GnXUA9A8iE0+7SSCUAY8Cm84Ij9PzIst1IY+ghAMGwPlztH3j///FOmO3oEQKgUmYhmWeI/iNIIT7o6DkALc2xA+7IAQATvyTvSifo/zpt9qXru8D+tmvK6hcYIQMB+uymRMf0/onaKZJwwAkDAc30poj2zP15EmYSrwwNAN6jjxEmWA0DEw4td7L0DQMZCnCsvMw5AsL/MzXjRBUDQjedsLQL3P4gCON9U+Ps/v6llqP5SBkAAWhF+39XOP73QnCYnVgVA7AKvjN11BUDE/brV0O3qP3jPAiyogOA/UtbcZPov9D9cspmKCUf3P/5YJ0wNPwJARv4SFQwS/D/M9tUrwqAPQICo49SbH9o/fDMpOnm86j88v+xPyqXkP5LQU25D5gRAeqBQ++018D80LswjCdj9P7jl+XlWSe8/rHpohR1Z5D8okpeVi0HcP4jQROmmAAVAZBp0nPqv4T9ocTFfnCnpP+LaTHUxmfc/ueUNmJNFCkDoWu4TodvYP9TTsdZx0ApAYCwav+eZ2D8mRYPrJz8PQPC1E5xh/v0/RQ05eKBBD0Cu/M395FoDQKV3FBgMqAdA4P1EHGwQxD+QMdZfghnyP6iRgKszxd4/tN7YA/bz8j8ogwmW8GTeP/A2Cx/WWfQ/1otY70iD+j/4NPBm+GvQP97AQkq7KAZAct11X5khAkBQXhI0JPzwP2y5qrNyvgBAgB96PXwM2D9wG1VYJ24CQEFiHGHLvA1AmikTCG9j9D/sjl4DbVsFQETTWprA3uA/UpRdByfsBkDYKh4ioYXyP0h5XYbQcuc/1RY2xrbEAkDAxByVEpe0P/muej2thgpAAGr6SpA7kz8=\",\"dtype\":\"float64\",\"shape\":[100]},\"y\":{\"__ndarray__\":\"CagqTMTmHEAS8cmIoz4lQAOBYoRWkyJA3JjGypFKG0CMXkhyRsEhQECWNA1HICZAJPyOceRbIUDA7nGolOglQKechPTvRiVAD1O5q3Q+IEAaVCyqetwjQG2l8tY+6CJAr+9f6ViBIUAZds9zSMMoQPaFbrnYshNAqjA+TUudFUAIfu+RYbAQQE9/9s3G5ChAFh53HU+0JECGJ4BoY7kmQGoU9QiYbCtAzhPVA00XIkDlvxpZdq8ZQB9dSO1gbSZAf8GqX0AvDkDYWBIkQCAmQF3MOObN7hJAzqjfwaqeJUAu5q17CTIkQMZk15d6mCFA/lYItZ7vH0CTUVnzJzMmQGObfm/jJhtA7tLaOkLqJECTNQwv+w4PQOZ03VKxfCNA+iUvGCOwI0DcISWzmI8hQCazRzIAVChA12/z3+fAJEBkjDpojAIdQHj7eB1hlhlAXBm8ADLCI0CSq6ESljsXQB2cSS11RyFAFGNV4FFuIkCUN+lQ2/0UQJyxDm/PhRtAN/vYO2vIHEBt8UBywkQdQOK3BWuoKh9A4ruWfZsYIECTr4L0HncmQBGqN6uLZBNAeZeKEgMkFEDYEfqBHd4XQEL6gqBYmiNAIkvMuKpFF0A1zUKtw0AgQChrXBoKcxNA3JS/THY+DkDRNJ9YIUoVQJjgGa+p1SJASY9yVUT2FkBwDmMyvtIfQO3kF1y+kx9AbUK8XGxPI0CsradAR5MXQN59n016xiJA5jRrVZM6EUCCcXNlo3wnQDOT3ajT7CJAnw0Uu38jJkDCmieLTwYgQH4Aga2doSNAe19czz8zDUC+4coIbo4dQFhqbcmZDQ9AfkUv/PjiFEC9WOosSgwSQJpThdfuLhhAhpft2718IkAClK0EtNkVQOpSTikxQSNAge/izcA6HUBfky/Kst4bQBK+8j86vhxAus16HG6nCUALNQwdWZcjQEML4P2rgCdAXRGbIa3gHUCsuArH5lAjQI4KmCcVpRdAmZ+uScAoIkD4vNgCwB8VQHH6awuolhhA1GtSwAWOH0Culs58PsULQAaZUxAbWiRAA3QXL104EEA=\",\"dtype\":\"float64\",\"shape\":[100]}},\"selected\":{\"id\":\"1887\",\"type\":\"Selection\"},\"selection_policy\":{\"id\":\"1886\",\"type\":\"UnionRenderers\"}},\"id\":\"1827\",\"type\":\"ColumnDataSource\"},{\"attributes\":{},\"id\":\"1817\",\"type\":\"SaveTool\"},{\"attributes\":{},\"id\":\"1886\",\"type\":\"UnionRenderers\"},{\"attributes\":{},\"id\":\"1819\",\"type\":\"HelpTool\"},{\"attributes\":{},\"id\":\"1800\",\"type\":\"LinearScale\"},{\"attributes\":{},\"id\":\"1818\",\"type\":\"ResetTool\"},{\"attributes\":{},\"id\":\"1802\",\"type\":\"LinearScale\"},{\"attributes\":{},\"id\":\"1805\",\"type\":\"BasicTicker\"},{\"attributes\":{\"fill_color\":{\"value\":\"#1f77b4\"},\"line_color\":{\"value\":\"#1f77b4\"},\"size\":{\"units\":\"screen\",\"value\":10},\"x\":{\"field\":\"x\"},\"y\":{\"field\":\"y\"}},\"id\":\"1828\",\"type\":\"Circle\"},{\"attributes\":{\"ticker\":{\"id\":\"1805\",\"type\":\"BasicTicker\"}},\"id\":\"1808\",\"type\":\"Grid\"},{\"attributes\":{\"fill_alpha\":{\"value\":0.1},\"fill_color\":{\"value\":\"#1f77b4\"},\"line_alpha\":{\"value\":0.1},\"line_color\":{\"value\":\"#1f77b4\"},\"size\":{\"units\":\"screen\",\"value\":10},\"x\":{\"field\":\"x\"},\"y\":{\"field\":\"y\"}},\"id\":\"1829\",\"type\":\"Circle\"},{\"attributes\":{\"formatter\":{\"id\":\"1882\",\"type\":\"BasicTickFormatter\"},\"ticker\":{\"id\":\"1810\",\"type\":\"BasicTicker\"}},\"id\":\"1809\",\"type\":\"LinearAxis\"},{\"attributes\":{\"data_source\":{\"id\":\"1827\",\"type\":\"ColumnDataSource\"},\"glyph\":{\"id\":\"1828\",\"type\":\"Circle\"},\"hover_glyph\":null,\"muted_glyph\":null,\"nonselection_glyph\":{\"id\":\"1829\",\"type\":\"Circle\"},\"selection_glyph\":null,\"view\":{\"id\":\"1831\",\"type\":\"CDSView\"}},\"id\":\"1830\",\"type\":\"GlyphRenderer\"},{\"attributes\":{},\"id\":\"1810\",\"type\":\"BasicTicker\"},{\"attributes\":{},\"id\":\"1884\",\"type\":\"BasicTickFormatter\"},{\"attributes\":{\"active_drag\":\"auto\",\"active_inspect\":\"auto\",\"active_multi\":null,\"active_scroll\":\"auto\",\"active_tap\":\"auto\",\"tools\":[{\"id\":\"1814\",\"type\":\"PanTool\"},{\"id\":\"1815\",\"type\":\"WheelZoomTool\"},{\"id\":\"1816\",\"type\":\"BoxZoomTool\"},{\"id\":\"1817\",\"type\":\"SaveTool\"},{\"id\":\"1818\",\"type\":\"ResetTool\"},{\"id\":\"1819\",\"type\":\"HelpTool\"}]},\"id\":\"1820\",\"type\":\"Toolbar\"},{\"attributes\":{},\"id\":\"1887\",\"type\":\"Selection\"},{\"attributes\":{\"source\":{\"id\":\"1827\",\"type\":\"ColumnDataSource\"}},\"id\":\"1831\",\"type\":\"CDSView\"},{\"attributes\":{\"dimension\":1,\"ticker\":{\"id\":\"1810\",\"type\":\"BasicTicker\"}},\"id\":\"1813\",\"type\":\"Grid\"},{\"attributes\":{\"callback\":null},\"id\":\"1796\",\"type\":\"DataRange1d\"},{\"attributes\":{\"bottom_units\":\"screen\",\"fill_alpha\":{\"value\":0.5},\"fill_color\":{\"value\":\"lightgrey\"},\"left_units\":\"screen\",\"level\":\"overlay\",\"line_alpha\":{\"value\":1.0},\"line_color\":{\"value\":\"black\"},\"line_dash\":[4,4],\"line_width\":{\"value\":2},\"render_mode\":\"css\",\"right_units\":\"screen\",\"top_units\":\"screen\"},\"id\":\"1888\",\"type\":\"BoxAnnotation\"},{\"attributes\":{\"text\":\"\"},\"id\":\"1880\",\"type\":\"Title\"}],\"root_ids\":[\"1795\"]},\"title\":\"Bokeh Application\",\"version\":\"1.4.0\"}};\n",
       "  var render_items = [{\"docid\":\"1844d7f0-95ff-4de0-afd3-4293908a088d\",\"roots\":{\"1795\":\"4b96ed87-7bfa-4941-9405-6954febf2a14\"}}];\n",
       "  root.Bokeh.embed.embed_items_notebook(docs_json, render_items);\n",
       "\n",
       "  }\n",
       "  if (root.Bokeh !== undefined) {\n",
       "    embed_document(root);\n",
       "  } else {\n",
       "    var attempts = 0;\n",
       "    var timer = setInterval(function(root) {\n",
       "      if (root.Bokeh !== undefined) {\n",
       "        clearInterval(timer);\n",
       "        embed_document(root);\n",
       "      } else {\n",
       "        attempts++;\n",
       "        if (attempts > 100) {\n",
       "          clearInterval(timer);\n",
       "          console.log(\"Bokeh: ERROR: Unable to run BokehJS code because BokehJS library is missing\");\n",
       "        }\n",
       "      }\n",
       "    }, 10, root)\n",
       "  }\n",
       "})(window);"
      ],
      "application/vnd.bokehjs_exec.v0+json": ""
     },
     "metadata": {
      "application/vnd.bokehjs_exec.v0+json": {
       "id": "1795"
      }
     },
     "output_type": "display_data"
    }
   ],
   "source": [
    "show(p_1)"
   ]
  },
  {
   "cell_type": "code",
   "execution_count": null,
   "metadata": {},
   "outputs": [],
   "source": []
  },
  {
   "cell_type": "code",
   "execution_count": null,
   "metadata": {},
   "outputs": [],
   "source": []
  },
  {
   "cell_type": "code",
   "execution_count": null,
   "metadata": {},
   "outputs": [],
   "source": []
  },
  {
   "cell_type": "code",
   "execution_count": null,
   "metadata": {},
   "outputs": [],
   "source": []
  },
  {
   "cell_type": "code",
   "execution_count": null,
   "metadata": {},
   "outputs": [],
   "source": []
  },
  {
   "cell_type": "code",
   "execution_count": null,
   "metadata": {},
   "outputs": [],
   "source": []
  },
  {
   "cell_type": "code",
   "execution_count": 35,
   "metadata": {},
   "outputs": [],
   "source": [
    "from bokeh.models import CustomJS, Slider\n",
    "from bokeh.layouts import column\n",
    "from sklearn.linear_model import SGDRegressor"
   ]
  },
  {
   "cell_type": "code",
   "execution_count": 36,
   "metadata": {},
   "outputs": [],
   "source": [
    "def fit_line(x, y, max_iter):\n",
    "    fitter = SGDRegressor(loss=\"squared_loss\", penalty=None, max_iter=max_iter)\n",
    "    fitter.fit(x.reshape(-1, 1), y)\n",
    "\n",
    "    return fitter.predict(x.reshape(-1, 1))"
   ]
  },
  {
   "cell_type": "code",
   "execution_count": 37,
   "metadata": {},
   "outputs": [
    {
     "data": {
      "text/html": [
       "<div style=\"display: table;\"><div style=\"display: table-row;\"><div style=\"display: table-cell;\"><b title=\"bokeh.models.renderers.GlyphRenderer\">GlyphRenderer</b>(</div><div style=\"display: table-cell;\">id&nbsp;=&nbsp;'3245', <span id=\"3248\" style=\"cursor: pointer;\">&hellip;)</span></div></div><div class=\"3247\" style=\"display: none;\"><div style=\"display: table-cell;\"></div><div style=\"display: table-cell;\">data_source&nbsp;=&nbsp;ColumnDataSource(id='3242', ...),</div></div><div class=\"3247\" style=\"display: none;\"><div style=\"display: table-cell;\"></div><div style=\"display: table-cell;\">glyph&nbsp;=&nbsp;Circle(id='3243', ...),</div></div><div class=\"3247\" style=\"display: none;\"><div style=\"display: table-cell;\"></div><div style=\"display: table-cell;\">hover_glyph&nbsp;=&nbsp;None,</div></div><div class=\"3247\" style=\"display: none;\"><div style=\"display: table-cell;\"></div><div style=\"display: table-cell;\">js_event_callbacks&nbsp;=&nbsp;{},</div></div><div class=\"3247\" style=\"display: none;\"><div style=\"display: table-cell;\"></div><div style=\"display: table-cell;\">js_property_callbacks&nbsp;=&nbsp;{},</div></div><div class=\"3247\" style=\"display: none;\"><div style=\"display: table-cell;\"></div><div style=\"display: table-cell;\">level&nbsp;=&nbsp;'glyph',</div></div><div class=\"3247\" style=\"display: none;\"><div style=\"display: table-cell;\"></div><div style=\"display: table-cell;\">muted&nbsp;=&nbsp;False,</div></div><div class=\"3247\" style=\"display: none;\"><div style=\"display: table-cell;\"></div><div style=\"display: table-cell;\">muted_glyph&nbsp;=&nbsp;None,</div></div><div class=\"3247\" style=\"display: none;\"><div style=\"display: table-cell;\"></div><div style=\"display: table-cell;\">name&nbsp;=&nbsp;None,</div></div><div class=\"3247\" style=\"display: none;\"><div style=\"display: table-cell;\"></div><div style=\"display: table-cell;\">nonselection_glyph&nbsp;=&nbsp;Circle(id='3244', ...),</div></div><div class=\"3247\" style=\"display: none;\"><div style=\"display: table-cell;\"></div><div style=\"display: table-cell;\">selection_glyph&nbsp;=&nbsp;None,</div></div><div class=\"3247\" style=\"display: none;\"><div style=\"display: table-cell;\"></div><div style=\"display: table-cell;\">subscribed_events&nbsp;=&nbsp;[],</div></div><div class=\"3247\" style=\"display: none;\"><div style=\"display: table-cell;\"></div><div style=\"display: table-cell;\">tags&nbsp;=&nbsp;[],</div></div><div class=\"3247\" style=\"display: none;\"><div style=\"display: table-cell;\"></div><div style=\"display: table-cell;\">view&nbsp;=&nbsp;CDSView(id='3246', ...),</div></div><div class=\"3247\" style=\"display: none;\"><div style=\"display: table-cell;\"></div><div style=\"display: table-cell;\">visible&nbsp;=&nbsp;True,</div></div><div class=\"3247\" style=\"display: none;\"><div style=\"display: table-cell;\"></div><div style=\"display: table-cell;\">x_range_name&nbsp;=&nbsp;'default',</div></div><div class=\"3247\" style=\"display: none;\"><div style=\"display: table-cell;\"></div><div style=\"display: table-cell;\">y_range_name&nbsp;=&nbsp;'default')</div></div></div>\n",
       "<script>\n",
       "(function() {\n",
       "  var expanded = false;\n",
       "  var ellipsis = document.getElementById(\"3248\");\n",
       "  ellipsis.addEventListener(\"click\", function() {\n",
       "    var rows = document.getElementsByClassName(\"3247\");\n",
       "    for (var i = 0; i < rows.length; i++) {\n",
       "      var el = rows[i];\n",
       "      el.style.display = expanded ? \"none\" : \"table-row\";\n",
       "    }\n",
       "    ellipsis.innerHTML = expanded ? \"&hellip;)\" : \"&lsaquo;&lsaquo;&lsaquo;\";\n",
       "    expanded = !expanded;\n",
       "  });\n",
       "})();\n",
       "</script>\n"
      ],
      "text/plain": [
       "GlyphRenderer(id='3245', ...)"
      ]
     },
     "execution_count": 37,
     "metadata": {},
     "output_type": "execute_result"
    }
   ],
   "source": [
    "p_2 = figure(plot_width = 600, plot_height = 400)\n",
    "p_2.circle(x, y, size=10)"
   ]
  },
  {
   "cell_type": "code",
   "execution_count": 43,
   "metadata": {
    "collapsed": true
   },
   "outputs": [
    {
     "name": "stderr",
     "output_type": "stream",
     "text": [
      "C:\\Users\\steff\\anaconda3\\lib\\site-packages\\sklearn\\linear_model\\_stochastic_gradient.py:1187: ConvergenceWarning: Maximum number of iteration reached before convergence. Consider increasing max_iter to improve the fit.\n",
      "  ConvergenceWarning)\n",
      "C:\\Users\\steff\\anaconda3\\lib\\site-packages\\sklearn\\linear_model\\_stochastic_gradient.py:1187: ConvergenceWarning: Maximum number of iteration reached before convergence. Consider increasing max_iter to improve the fit.\n",
      "  ConvergenceWarning)\n",
      "C:\\Users\\steff\\anaconda3\\lib\\site-packages\\sklearn\\linear_model\\_stochastic_gradient.py:1187: ConvergenceWarning: Maximum number of iteration reached before convergence. Consider increasing max_iter to improve the fit.\n",
      "  ConvergenceWarning)\n",
      "C:\\Users\\steff\\anaconda3\\lib\\site-packages\\sklearn\\linear_model\\_stochastic_gradient.py:1187: ConvergenceWarning: Maximum number of iteration reached before convergence. Consider increasing max_iter to improve the fit.\n",
      "  ConvergenceWarning)\n",
      "C:\\Users\\steff\\anaconda3\\lib\\site-packages\\sklearn\\linear_model\\_stochastic_gradient.py:1187: ConvergenceWarning: Maximum number of iteration reached before convergence. Consider increasing max_iter to improve the fit.\n",
      "  ConvergenceWarning)\n",
      "C:\\Users\\steff\\anaconda3\\lib\\site-packages\\sklearn\\linear_model\\_stochastic_gradient.py:1187: ConvergenceWarning: Maximum number of iteration reached before convergence. Consider increasing max_iter to improve the fit.\n",
      "  ConvergenceWarning)\n",
      "C:\\Users\\steff\\anaconda3\\lib\\site-packages\\sklearn\\linear_model\\_stochastic_gradient.py:1187: ConvergenceWarning: Maximum number of iteration reached before convergence. Consider increasing max_iter to improve the fit.\n",
      "  ConvergenceWarning)\n",
      "C:\\Users\\steff\\anaconda3\\lib\\site-packages\\sklearn\\linear_model\\_stochastic_gradient.py:1187: ConvergenceWarning: Maximum number of iteration reached before convergence. Consider increasing max_iter to improve the fit.\n",
      "  ConvergenceWarning)\n",
      "C:\\Users\\steff\\anaconda3\\lib\\site-packages\\sklearn\\linear_model\\_stochastic_gradient.py:1187: ConvergenceWarning: Maximum number of iteration reached before convergence. Consider increasing max_iter to improve the fit.\n",
      "  ConvergenceWarning)\n",
      "C:\\Users\\steff\\anaconda3\\lib\\site-packages\\sklearn\\linear_model\\_stochastic_gradient.py:1187: ConvergenceWarning: Maximum number of iteration reached before convergence. Consider increasing max_iter to improve the fit.\n",
      "  ConvergenceWarning)\n",
      "C:\\Users\\steff\\anaconda3\\lib\\site-packages\\sklearn\\linear_model\\_stochastic_gradient.py:1187: ConvergenceWarning: Maximum number of iteration reached before convergence. Consider increasing max_iter to improve the fit.\n",
      "  ConvergenceWarning)\n",
      "C:\\Users\\steff\\anaconda3\\lib\\site-packages\\sklearn\\linear_model\\_stochastic_gradient.py:1187: ConvergenceWarning: Maximum number of iteration reached before convergence. Consider increasing max_iter to improve the fit.\n",
      "  ConvergenceWarning)\n",
      "C:\\Users\\steff\\anaconda3\\lib\\site-packages\\sklearn\\linear_model\\_stochastic_gradient.py:1187: ConvergenceWarning: Maximum number of iteration reached before convergence. Consider increasing max_iter to improve the fit.\n",
      "  ConvergenceWarning)\n",
      "C:\\Users\\steff\\anaconda3\\lib\\site-packages\\sklearn\\linear_model\\_stochastic_gradient.py:1187: ConvergenceWarning: Maximum number of iteration reached before convergence. Consider increasing max_iter to improve the fit.\n",
      "  ConvergenceWarning)\n",
      "C:\\Users\\steff\\anaconda3\\lib\\site-packages\\sklearn\\linear_model\\_stochastic_gradient.py:1187: ConvergenceWarning: Maximum number of iteration reached before convergence. Consider increasing max_iter to improve the fit.\n",
      "  ConvergenceWarning)\n"
     ]
    }
   ],
   "source": [
    "start=1\n",
    "end=101\n",
    "step=5\n",
    "\n",
    "iter_slider = Slider(start=start, end=end, step=step, value=1, title=\"Iterations\")\n",
    "lines = {}\n",
    "for it in range(start, end+1, step):\n",
    "    y_preds = fit_line(x, y, it) \n",
    "    line = p_2.line(x, y_preds.flatten(), color='red', line_width=2, visible=False)\n",
    "    lines[it] = line"
   ]
  },
  {
   "cell_type": "code",
   "execution_count": 44,
   "metadata": {},
   "outputs": [],
   "source": [
    "callback = CustomJS(args=dict(lines=lines), code=\"\"\"\n",
    "        var f = cb_obj.value\n",
    "        for (var key in lines){\n",
    "            lines[key].visible = f == key\n",
    "        }\n",
    "    \"\"\")"
   ]
  },
  {
   "cell_type": "code",
   "execution_count": 45,
   "metadata": {},
   "outputs": [],
   "source": [
    "iter_slider.js_on_change('value', callback)"
   ]
  },
  {
   "cell_type": "code",
   "execution_count": 46,
   "metadata": {},
   "outputs": [
    {
     "data": {
      "text/html": [
       "\n",
       "\n",
       "\n",
       "\n",
       "\n",
       "\n",
       "  <div class=\"bk-root\" id=\"7cd468f1-eb39-48d7-9cd4-c4e8b7b59b68\" data-root-id=\"7994\"></div>\n"
      ]
     },
     "metadata": {},
     "output_type": "display_data"
    },
    {
     "data": {
      "application/javascript": [
       "(function(root) {\n",
       "  function embed_document(root) {\n",
       "    \n",
       "  var docs_json = {\"df84252d-4f5c-4180-912b-c444df0c3ffa\":{\"roots\":{\"references\":[{\"attributes\":{\"children\":[{\"id\":\"3666\",\"type\":\"Slider\"},{\"id\":\"3210\",\"subtype\":\"Figure\",\"type\":\"Plot\"}]},\"id\":\"7994\",\"type\":\"Column\"},{\"attributes\":{\"source\":{\"id\":\"6137\",\"type\":\"ColumnDataSource\"}},\"id\":\"6141\",\"type\":\"CDSView\"},{\"attributes\":{\"callback\":null,\"data\":{\"x\":{\"__ndarray__\":\"qBJfVuGPAUAzh2DP1OIGQEuJbmvWSQNA9ZVj265vAUD2Dv0EKR37P1ubiSEqqwRA0llhym0B/D/3EjqIZ4kMQDYzF0lT1g5AFkLSS06K+D8oqT+/z1UJQCJ/6wm17ABALTaSyWstAkAIJVjXfJ4NQAjzy0prL9I/8NK9FBtO1j/giSKvIbS0P3sg1F/SpApAHbiP/KjmCEAn+Hq3I9cLQIH55GnXUA9A8iE0+7SSCUAY8Cm84Ij9PzIst1IY+ghAMGwPlztH3j///FOmO3oEQKgUmYhmWeI/iNIIT7o6DkALc2xA+7IAQATvyTvSifo/zpt9qXru8D+tmvK6hcYIQMB+uymRMf0/onaKZJwwAkDAc30poj2zP15EmYSrwwNAN6jjxEmWA0DEw4td7L0DQMZCnCsvMw5AsL/MzXjRBUDQjedsLQL3P4gCON9U+Ps/v6llqP5SBkAAWhF+39XOP73QnCYnVgVA7AKvjN11BUDE/brV0O3qP3jPAiyogOA/UtbcZPov9D9cspmKCUf3P/5YJ0wNPwJARv4SFQwS/D/M9tUrwqAPQICo49SbH9o/fDMpOnm86j88v+xPyqXkP5LQU25D5gRAeqBQ++018D80LswjCdj9P7jl+XlWSe8/rHpohR1Z5D8okpeVi0HcP4jQROmmAAVAZBp0nPqv4T9ocTFfnCnpP+LaTHUxmfc/ueUNmJNFCkDoWu4TodvYP9TTsdZx0ApAYCwav+eZ2D8mRYPrJz8PQPC1E5xh/v0/RQ05eKBBD0Cu/M395FoDQKV3FBgMqAdA4P1EHGwQxD+QMdZfghnyP6iRgKszxd4/tN7YA/bz8j8ogwmW8GTeP/A2Cx/WWfQ/1otY70iD+j/4NPBm+GvQP97AQkq7KAZAct11X5khAkBQXhI0JPzwP2y5qrNyvgBAgB96PXwM2D9wG1VYJ24CQEFiHGHLvA1AmikTCG9j9D/sjl4DbVsFQETTWprA3uA/UpRdByfsBkDYKh4ioYXyP0h5XYbQcuc/1RY2xrbEAkDAxByVEpe0P/muej2thgpAAGr6SpA7kz8=\",\"dtype\":\"float64\",\"shape\":[100]},\"y\":{\"__ndarray__\":\"TTmJNLcfIUDO3IX3fO4jQJBEQ9bJCCJAcOkfabwOIUAKJ81LBAYeQOLSQuQewyJA3iTLy2V+HkCMv+YoXOkmQDjpm6rvHyhAf0ZfZI+qHECklbCvIjklQAj7Z/apySBAHiBOEcxyIUAZjRPle3snQDhXH9REHxJAxIbj7VGqEkA7qv/KL2gQQFj6/OHO6SVAZIYzpYT+JECa/R5vWYsmQBrzdAGMYChAGk2U5j9ZJUAg6gSH1UwfQAGnh3bECCVAIF4+uWy3E0CCRJLdUKkiQMumuV8dkBRA+9dpJ+HNJ0AkJEOtOKsgQAuEzLtQuB1AfFswQlinGEBLDCDhke0kQIKK+BfKHh9AzCFxt3p0IUAEzqPW11sQQKgaI98JSSJAjKM8FBsxIkDHEZcJAkYiQCocS73mySdA6kBk+FNeI0CA0Sfww9sbQNZfMZuZeR5ArLzpQaKiI0Chv1SV3MERQAoHkT5LHSNAcplHmgQuI0ActtxWRdMWQJMrM+d1ExRAOkN4H+deGkB0JRxjFAAcQNj5kFUYfCFAIEwuXCmHHkDGt1M8sYooQJ35aPkxKxNAdmMzm0LGFkDPZupFQysVQArBio1J4iJA4SnxEgVGGEB0MTdDlHYfQA6mjBdq+RdAy3l2gQsXFUC2v/ERLHMTQKKw5Cc08CJA5ea69XBjFEBQw7RICFwWQHx/kuFnKxxAHFfUQpS3JUDaF2I6ewATQKxwCjbQACZA4gO29ND3EkCU3lVdOFcoQNjVtR/Nih9ASBz18oVYKEAOdg6dyBEiQFuiyS9+ViRAUhJCvRYMEUD8RSzxCkUZQB49hVkIyBNA0uP5Gj+4GUCS9SJgV7sTQFQdlDj6dBpALg9xS960HUBVwGTSv+MRQGSByIBYjCNAQ/P8CpBsIUAPBS29jK4YQNZS57pEsSBAtL1x1yvlEkBsICxT75QhQFsBq3l3iydArWa/6Al6GkAuQkcdEyAjQD9BZ5lFLBRAxpLyX2fzI0DWmkC/D34ZQN1faVlU6BVAQv/nbZXCIUAXqxCZOmcQQPIjKCPp2SVAW/JjZiDED0A=\",\"dtype\":\"float64\",\"shape\":[100]}},\"selected\":{\"id\":\"7220\",\"type\":\"Selection\"},\"selection_policy\":{\"id\":\"7219\",\"type\":\"UnionRenderers\"}},\"id\":\"7033\",\"type\":\"ColumnDataSource\"},{\"attributes\":{\"source\":{\"id\":\"7267\",\"type\":\"ColumnDataSource\"}},\"id\":\"7271\",\"type\":\"CDSView\"},{\"attributes\":{\"data_source\":{\"id\":\"4003\",\"type\":\"ColumnDataSource\"},\"glyph\":{\"id\":\"4004\",\"type\":\"Line\"},\"hover_glyph\":null,\"muted_glyph\":null,\"nonselection_glyph\":{\"id\":\"4005\",\"type\":\"Line\"},\"selection_glyph\":null,\"view\":{\"id\":\"4007\",\"type\":\"CDSView\"},\"visible\":false},\"id\":\"4006\",\"type\":\"GlyphRenderer\"},{\"attributes\":{\"data_source\":{\"id\":\"6137\",\"type\":\"ColumnDataSource\"},\"glyph\":{\"id\":\"6138\",\"type\":\"Line\"},\"hover_glyph\":null,\"muted_glyph\":null,\"nonselection_glyph\":{\"id\":\"6139\",\"type\":\"Line\"},\"selection_glyph\":null,\"view\":{\"id\":\"6141\",\"type\":\"CDSView\"},\"visible\":false},\"id\":\"6140\",\"type\":\"GlyphRenderer\"},{\"attributes\":{\"fill_color\":{\"value\":\"#1f77b4\"},\"line_color\":{\"value\":\"#1f77b4\"},\"size\":{\"units\":\"screen\",\"value\":10},\"x\":{\"field\":\"x\"},\"y\":{\"field\":\"y\"}},\"id\":\"3243\",\"type\":\"Circle\"},{\"attributes\":{},\"id\":\"5275\",\"type\":\"UnionRenderers\"},{\"attributes\":{\"data_source\":{\"id\":\"5305\",\"type\":\"ColumnDataSource\"},\"glyph\":{\"id\":\"5306\",\"type\":\"Line\"},\"hover_glyph\":null,\"muted_glyph\":null,\"nonselection_glyph\":{\"id\":\"5307\",\"type\":\"Line\"},\"selection_glyph\":null,\"view\":{\"id\":\"5309\",\"type\":\"CDSView\"},\"visible\":false},\"id\":\"5308\",\"type\":\"GlyphRenderer\"},{\"attributes\":{\"line_color\":\"red\",\"line_width\":2,\"x\":{\"field\":\"x\"},\"y\":{\"field\":\"y\"}},\"id\":\"6804\",\"type\":\"Line\"},{\"attributes\":{},\"id\":\"5276\",\"type\":\"Selection\"},{\"attributes\":{},\"id\":\"7220\",\"type\":\"Selection\"},{\"attributes\":{},\"id\":\"3230\",\"type\":\"WheelZoomTool\"},{\"attributes\":{},\"id\":\"7219\",\"type\":\"UnionRenderers\"},{\"attributes\":{\"callback\":null,\"data\":{\"x\":{\"__ndarray__\":\"qBJfVuGPAUAzh2DP1OIGQEuJbmvWSQNA9ZVj265vAUD2Dv0EKR37P1ubiSEqqwRA0llhym0B/D/3EjqIZ4kMQDYzF0lT1g5AFkLSS06K+D8oqT+/z1UJQCJ/6wm17ABALTaSyWstAkAIJVjXfJ4NQAjzy0prL9I/8NK9FBtO1j/giSKvIbS0P3sg1F/SpApAHbiP/KjmCEAn+Hq3I9cLQIH55GnXUA9A8iE0+7SSCUAY8Cm84Ij9PzIst1IY+ghAMGwPlztH3j///FOmO3oEQKgUmYhmWeI/iNIIT7o6DkALc2xA+7IAQATvyTvSifo/zpt9qXru8D+tmvK6hcYIQMB+uymRMf0/onaKZJwwAkDAc30poj2zP15EmYSrwwNAN6jjxEmWA0DEw4td7L0DQMZCnCsvMw5AsL/MzXjRBUDQjedsLQL3P4gCON9U+Ps/v6llqP5SBkAAWhF+39XOP73QnCYnVgVA7AKvjN11BUDE/brV0O3qP3jPAiyogOA/UtbcZPov9D9cspmKCUf3P/5YJ0wNPwJARv4SFQwS/D/M9tUrwqAPQICo49SbH9o/fDMpOnm86j88v+xPyqXkP5LQU25D5gRAeqBQ++018D80LswjCdj9P7jl+XlWSe8/rHpohR1Z5D8okpeVi0HcP4jQROmmAAVAZBp0nPqv4T9ocTFfnCnpP+LaTHUxmfc/ueUNmJNFCkDoWu4TodvYP9TTsdZx0ApAYCwav+eZ2D8mRYPrJz8PQPC1E5xh/v0/RQ05eKBBD0Cu/M395FoDQKV3FBgMqAdA4P1EHGwQxD+QMdZfghnyP6iRgKszxd4/tN7YA/bz8j8ogwmW8GTeP/A2Cx/WWfQ/1otY70iD+j/4NPBm+GvQP97AQkq7KAZAct11X5khAkBQXhI0JPzwP2y5qrNyvgBAgB96PXwM2D9wG1VYJ24CQEFiHGHLvA1AmikTCG9j9D/sjl4DbVsFQETTWprA3uA/UpRdByfsBkDYKh4ioYXyP0h5XYbQcuc/1RY2xrbEAkDAxByVEpe0P/muej2thgpAAGr6SpA7kz8=\",\"dtype\":\"float64\",\"shape\":[100]},\"y\":{\"__ndarray__\":\"rXbKs7eiIEBOyrpkGF0kQGpVFVsw2CFA7ZpYFCyMIEA28pixi6kbQOh7p0GZzyJA2vr+zmJJHECtoRYPB1IoQHNFfjFo7ilAfsv6YTLcGUC7XYf8HxQmQK5vSIh1MCBAihaKPwgRIUAPGFCcDBQpQDL44xU4uAdAHvQb6XopCUCWbS3pMyoDQK8je3S1/iZAvdktJEvGJUAtEv+KM9UnQNS3/kIyRCpAtkC6BMQ+JkAad/hnfVsdQCyaAgTn0yVAcCfzrxv0C0DgNzzaVa0iQPiTPY6LMw5ABBEY/nOBKUBSb/OyCQggQMBuE+lfQhtAqm9ktUWIFEBP0Mgtyq8lQMyvmzBaHh1ABu0QD0QTIUCmjeZobAkDQGjO+9x/LSJAsxypx7gNIkCdGT+4eSkiQIjX8cArfClAOqc9X66dI0B0iTj/nckYQCq3UggEQxxAPb5/dWD4I0CSGsNJK8AGQHHToGNURyNAsVtdIIldI0DA4mfuxBoSQLTu4jOE6AxA9pcEj+nPFkA8+YC21fkYQJ6hAr1gHSFAdjVbyQVVHECigRsTKHwqQJkpn8+3fwpAklhKbH4JEkDrkwB6jc8PQM0usDr7+CJAZDlungsHFEA0C64g65IdQPAlGGNUoRNAu5KE1NyZD0BlR/y32z4LQO5Uk5x1CyNABnNrSOm8DUAwZfwecnwRQLqnVN5cMxlA8AeQ7QO8JkAfmnHBSQ4KQAQKbjxBHSdASiXT9kb3CUBebNj6zzcqQFIjQufErR1AAE3O6Io5KkCaBpn0IeQhQBSnQQwx5yRA2X6fGnXdBECO+q1tqVkVQAnJqzQ2IAxAMZXbxqDyFUBW3mROgv4LQPTrNwU57RZAFtLrN8w9G0CPgUcMKRoHQCRw22zI2iNAfrK7EMEIIUCnm7vJ1pEUQHG2ni8RECBAaAsCmMPFCUDKGakhXD4hQC1b81xFKSlAGOJ/a/HzFkBrJg2aBUsjQKUOKJ5nKg1AJFrwSp9jJEDEghPlXqUVQEVwhx7R4hBAkh7Hzfh6IUD9oNDGqCcDQC9+3LGZ6SZABb6tHQfGAUA=\",\"dtype\":\"float64\",\"shape\":[100]}},\"selected\":{\"id\":\"3988\",\"type\":\"Selection\"},\"selection_policy\":{\"id\":\"3987\",\"type\":\"UnionRenderers\"}},\"id\":\"3833\",\"type\":\"ColumnDataSource\"},{\"attributes\":{\"line_alpha\":0.1,\"line_color\":\"#1f77b4\",\"line_width\":2,\"x\":{\"field\":\"x\"},\"y\":{\"field\":\"y\"}},\"id\":\"4005\",\"type\":\"Line\"},{\"attributes\":{\"callback\":null,\"data\":{\"x\":{\"__ndarray__\":\"qBJfVuGPAUAzh2DP1OIGQEuJbmvWSQNA9ZVj265vAUD2Dv0EKR37P1ubiSEqqwRA0llhym0B/D/3EjqIZ4kMQDYzF0lT1g5AFkLSS06K+D8oqT+/z1UJQCJ/6wm17ABALTaSyWstAkAIJVjXfJ4NQAjzy0prL9I/8NK9FBtO1j/giSKvIbS0P3sg1F/SpApAHbiP/KjmCEAn+Hq3I9cLQIH55GnXUA9A8iE0+7SSCUAY8Cm84Ij9PzIst1IY+ghAMGwPlztH3j///FOmO3oEQKgUmYhmWeI/iNIIT7o6DkALc2xA+7IAQATvyTvSifo/zpt9qXru8D+tmvK6hcYIQMB+uymRMf0/onaKZJwwAkDAc30poj2zP15EmYSrwwNAN6jjxEmWA0DEw4td7L0DQMZCnCsvMw5AsL/MzXjRBUDQjedsLQL3P4gCON9U+Ps/v6llqP5SBkAAWhF+39XOP73QnCYnVgVA7AKvjN11BUDE/brV0O3qP3jPAiyogOA/UtbcZPov9D9cspmKCUf3P/5YJ0wNPwJARv4SFQwS/D/M9tUrwqAPQICo49SbH9o/fDMpOnm86j88v+xPyqXkP5LQU25D5gRAeqBQ++018D80LswjCdj9P7jl+XlWSe8/rHpohR1Z5D8okpeVi0HcP4jQROmmAAVAZBp0nPqv4T9ocTFfnCnpP+LaTHUxmfc/ueUNmJNFCkDoWu4TodvYP9TTsdZx0ApAYCwav+eZ2D8mRYPrJz8PQPC1E5xh/v0/RQ05eKBBD0Cu/M395FoDQKV3FBgMqAdA4P1EHGwQxD+QMdZfghnyP6iRgKszxd4/tN7YA/bz8j8ogwmW8GTeP/A2Cx/WWfQ/1otY70iD+j/4NPBm+GvQP97AQkq7KAZAct11X5khAkBQXhI0JPzwP2y5qrNyvgBAgB96PXwM2D9wG1VYJ24CQEFiHGHLvA1AmikTCG9j9D/sjl4DbVsFQETTWprA3uA/UpRdByfsBkDYKh4ioYXyP0h5XYbQcuc/1RY2xrbEAkDAxByVEpe0P/muej2thgpAAGr6SpA7kz8=\",\"dtype\":\"float64\",\"shape\":[100]},\"y\":{\"__ndarray__\":\"lWEOy2gWIUBzVSeZD+MjQJE39FzL/iFAUDUw03oFIUBKjMZdmPYdQCvh2amTuCJAHAJo7p5uHkDu7KuFrtsmQP413mtXEShAJKrV7SmcHEAQ3m6MuywlQNphsI2cwCBAlRVz5T5pIUAQd0LgX20nQA0PBGXWGBJAiCHwdHqjEkA1twEKDWMQQOP2nEni3CVAWtVryUnyJEDgwMHP8n0mQKU1PfTCUShAcpEQgcBMJUBoz8K4cjwfQNWtu9yB/CRAsbOV+MmvE0DmvVAh2Z4iQObEWO/WhxRAm+De5Ia/J0BRUIxDQqIgQKKXvn8fqR1A7EGBv/qbGEA46NLSY+EkQEo93xGKDh9AyctGRuxqIUDIxahovlYQQHf1E93aPiJAQUlSJv4mIkBCc5dR1TsiQHsVDnyPuydAmPbXf1NTI0DFlMav+s0bQPC4kl3WaR5AOh9TMG6XI0AzfGW1tLsRQPmuXuZ7EiNAnUD4nygjI0Diob1oSckWQAroj6CNCxRA9nmkkj1SGkDABz+0L/IbQEbHqyOEciFApq8E4Ft3HkDav/xYyHsoQLuGdSb5IxNABokYgVC8FkD+lt2ihyIVQHjyGMim1yJAZ2cLFfE6GEAuZ0LsEWYfQDCnrPeP7hdAiFQoJF8OFUAH6gbgvGsTQCVyR9+G5SJAQU1aRExbFEC+/ghtZlIWQIMOQnhiHRxAOHDIm82qJUDP73mrYvkSQG+w5jzS8yVALl958b7wEkBPXbpbdkgoQELWLoI7eh9AM7xc9cJJKEDAXD5YwwciQP6T4UDCSiRAiW64LHgGEUCKNLVONjkZQHw0NQ1ZwBNAHx5NchOsGUBiihSqsbMTQKbG8f4/aBpAdvv5qa+lHUDq3jtZft0RQEXvSUU1gSNAkKHClAdjIUADmS7JKaMYQJGGzL9JqCBAllfK6SfeEkC/dbtdSIshQFpTGGJPfSdASLFb3EttGkAm2FarQRUjQKQlu5RKJBRAy/b7SvbnI0DH8HEKEHIZQBrfd+QJ3xVA/bDZ/Mu4IUClw0qRGGIQQHo/C40IzSVA4j45hqW6D0A=\",\"dtype\":\"float64\",\"shape\":[100]}},\"selected\":{\"id\":\"6316\",\"type\":\"Selection\"},\"selection_policy\":{\"id\":\"6315\",\"type\":\"UnionRenderers\"}},\"id\":\"6137\",\"type\":\"ColumnDataSource\"},{\"attributes\":{\"callback\":null,\"data\":{\"x\":{\"__ndarray__\":\"qBJfVuGPAUAzh2DP1OIGQEuJbmvWSQNA9ZVj265vAUD2Dv0EKR37P1ubiSEqqwRA0llhym0B/D/3EjqIZ4kMQDYzF0lT1g5AFkLSS06K+D8oqT+/z1UJQCJ/6wm17ABALTaSyWstAkAIJVjXfJ4NQAjzy0prL9I/8NK9FBtO1j/giSKvIbS0P3sg1F/SpApAHbiP/KjmCEAn+Hq3I9cLQIH55GnXUA9A8iE0+7SSCUAY8Cm84Ij9PzIst1IY+ghAMGwPlztH3j///FOmO3oEQKgUmYhmWeI/iNIIT7o6DkALc2xA+7IAQATvyTvSifo/zpt9qXru8D+tmvK6hcYIQMB+uymRMf0/onaKZJwwAkDAc30poj2zP15EmYSrwwNAN6jjxEmWA0DEw4td7L0DQMZCnCsvMw5AsL/MzXjRBUDQjedsLQL3P4gCON9U+Ps/v6llqP5SBkAAWhF+39XOP73QnCYnVgVA7AKvjN11BUDE/brV0O3qP3jPAiyogOA/UtbcZPov9D9cspmKCUf3P/5YJ0wNPwJARv4SFQwS/D/M9tUrwqAPQICo49SbH9o/fDMpOnm86j88v+xPyqXkP5LQU25D5gRAeqBQ++018D80LswjCdj9P7jl+XlWSe8/rHpohR1Z5D8okpeVi0HcP4jQROmmAAVAZBp0nPqv4T9ocTFfnCnpP+LaTHUxmfc/ueUNmJNFCkDoWu4TodvYP9TTsdZx0ApAYCwav+eZ2D8mRYPrJz8PQPC1E5xh/v0/RQ05eKBBD0Cu/M395FoDQKV3FBgMqAdA4P1EHGwQxD+QMdZfghnyP6iRgKszxd4/tN7YA/bz8j8ogwmW8GTeP/A2Cx/WWfQ/1otY70iD+j/4NPBm+GvQP97AQkq7KAZAct11X5khAkBQXhI0JPzwP2y5qrNyvgBAgB96PXwM2D9wG1VYJ24CQEFiHGHLvA1AmikTCG9j9D/sjl4DbVsFQETTWprA3uA/UpRdByfsBkDYKh4ioYXyP0h5XYbQcuc/1RY2xrbEAkDAxByVEpe0P/muej2thgpAAGr6SpA7kz8=\",\"dtype\":\"float64\",\"shape\":[100]},\"y\":{\"__ndarray__\":\"nuy2HVsZIUAGNKsq9ukjQBxE++sFAyJAxkVEPFUIIUBc6AcPivYdQGbFJ6LUvSJA6sTeJzpvHkBa3utwx+YmQHJ/V7klHihAJsyRTDKaHECe7U3EczUlQK6gnrAVwyBAqnL+OKZsIUCWzbqURnknQJKMBlwFCBJAco9BP22TEkDRvkil0U8QQIS7PVCT5iVAIoZSdK/6JEB2iuVVh4gmQGZ4bj/sXihALBTa8qVVJUAit42rMD4fQDgMwPb1BCVAqyWjvTehE0Bgll7C9aMiQAITZd51ehRAKNLsouHLJ0BivjaHkKQgQNsDw8OjqB1AAIRHflyUGEB1pHOfsekkQF1wcywHEB9AHIVN+FVuIUDp1sehcUMQQOTy1OdvQyJAfoG6fHErIkDDeb0XZkAiQPT64J/kxydAOMwkDG9ZI0A6WQLU38obQMJdYdVqah5AhAWF7umdI0D9vtkgYKoRQIWLT9w7GCNAwDdWIwApI0DwDJD3F78WQAjkwwJ9/RNAOGa4WApNGkAMUKX8R+8bQI7IVo/4dSFAhHwWcQN4HkBCHqD+LIkoQB1jZG+hFBNAmjRBvQyyFkAsR4gQARYVQJYDu6QT3SJAfJbTw8kyGECkjiepCmgfQOnzW8T85RdAwc7NGLwBFUDCkGKGylwTQMT0HVUH6yJAxP+GSaxNFEACYn8PjUcWQDPvx8S3GhxAJV6l5Te0JUDnkQjNzukSQLygdKmj/SVAeUoL3x7hEkCeUGmEklUoQImVo7lQfB9AxPHU8+BWKEAk/0OSCgwiQJiKoEo7UiRA8X2tmiP0EEDWYGojdjIZQFaW0DXesRNApcu/hPWlGUCOOyrzJKUTQK4bc9srYxpAPNxBEy+lHUDHPgF+WcwRQBx/FaCRhyNAgoigIGZmIUCinYitlZsYQGuSlYegqiBASjZllW3OEkACQMDE344hQDRHuphMiSdAP+qT2T5oGkDcB86LBRsjQNoOA+hcFhRA00q2yOPuI0DiBswroGsZQCcPQJWN0xVAuoFhraO8IUBzDUPT204QQGhyQjCj1iVAoGtR97SSD0A=\",\"dtype\":\"float64\",\"shape\":[100]}},\"selected\":{\"id\":\"7456\",\"type\":\"Selection\"},\"selection_policy\":{\"id\":\"7455\",\"type\":\"UnionRenderers\"}},\"id\":\"7267\",\"type\":\"ColumnDataSource\"},{\"attributes\":{\"data_source\":{\"id\":\"7267\",\"type\":\"ColumnDataSource\"},\"glyph\":{\"id\":\"7268\",\"type\":\"Line\"},\"hover_glyph\":null,\"muted_glyph\":null,\"nonselection_glyph\":{\"id\":\"7269\",\"type\":\"Line\"},\"selection_glyph\":null,\"view\":{\"id\":\"7271\",\"type\":\"CDSView\"},\"visible\":false},\"id\":\"7270\",\"type\":\"GlyphRenderer\"},{\"attributes\":{\"source\":{\"id\":\"5305\",\"type\":\"ColumnDataSource\"}},\"id\":\"5309\",\"type\":\"CDSView\"},{\"attributes\":{\"source\":{\"id\":\"6355\",\"type\":\"ColumnDataSource\"}},\"id\":\"6359\",\"type\":\"CDSView\"},{\"attributes\":{},\"id\":\"3232\",\"type\":\"SaveTool\"},{\"attributes\":{\"data_source\":{\"id\":\"4355\",\"type\":\"ColumnDataSource\"},\"glyph\":{\"id\":\"4356\",\"type\":\"Line\"},\"hover_glyph\":null,\"muted_glyph\":null,\"nonselection_glyph\":{\"id\":\"4357\",\"type\":\"Line\"},\"selection_glyph\":null,\"view\":{\"id\":\"4359\",\"type\":\"CDSView\"},\"visible\":false},\"id\":\"4358\",\"type\":\"GlyphRenderer\"},{\"attributes\":{\"line_alpha\":0.1,\"line_color\":\"#1f77b4\",\"line_width\":2,\"x\":{\"field\":\"x\"},\"y\":{\"field\":\"y\"}},\"id\":\"5307\",\"type\":\"Line\"},{\"attributes\":{\"line_alpha\":0.1,\"line_color\":\"#1f77b4\",\"line_width\":2,\"x\":{\"field\":\"x\"},\"y\":{\"field\":\"y\"}},\"id\":\"7269\",\"type\":\"Line\"},{\"attributes\":{\"overlay\":{\"id\":\"3399\",\"type\":\"BoxAnnotation\"}},\"id\":\"3231\",\"type\":\"BoxZoomTool\"},{\"attributes\":{\"source\":{\"id\":\"5713\",\"type\":\"ColumnDataSource\"}},\"id\":\"5717\",\"type\":\"CDSView\"},{\"attributes\":{\"line_color\":\"red\",\"line_width\":2,\"x\":{\"field\":\"x\"},\"y\":{\"field\":\"y\"}},\"id\":\"4004\",\"type\":\"Line\"},{\"attributes\":{},\"id\":\"6316\",\"type\":\"Selection\"},{\"attributes\":{\"callback\":null,\"data\":{\"x\":{\"__ndarray__\":\"qBJfVuGPAUAzh2DP1OIGQEuJbmvWSQNA9ZVj265vAUD2Dv0EKR37P1ubiSEqqwRA0llhym0B/D/3EjqIZ4kMQDYzF0lT1g5AFkLSS06K+D8oqT+/z1UJQCJ/6wm17ABALTaSyWstAkAIJVjXfJ4NQAjzy0prL9I/8NK9FBtO1j/giSKvIbS0P3sg1F/SpApAHbiP/KjmCEAn+Hq3I9cLQIH55GnXUA9A8iE0+7SSCUAY8Cm84Ij9PzIst1IY+ghAMGwPlztH3j///FOmO3oEQKgUmYhmWeI/iNIIT7o6DkALc2xA+7IAQATvyTvSifo/zpt9qXru8D+tmvK6hcYIQMB+uymRMf0/onaKZJwwAkDAc30poj2zP15EmYSrwwNAN6jjxEmWA0DEw4td7L0DQMZCnCsvMw5AsL/MzXjRBUDQjedsLQL3P4gCON9U+Ps/v6llqP5SBkAAWhF+39XOP73QnCYnVgVA7AKvjN11BUDE/brV0O3qP3jPAiyogOA/UtbcZPov9D9cspmKCUf3P/5YJ0wNPwJARv4SFQwS/D/M9tUrwqAPQICo49SbH9o/fDMpOnm86j88v+xPyqXkP5LQU25D5gRAeqBQ++018D80LswjCdj9P7jl+XlWSe8/rHpohR1Z5D8okpeVi0HcP4jQROmmAAVAZBp0nPqv4T9ocTFfnCnpP+LaTHUxmfc/ueUNmJNFCkDoWu4TodvYP9TTsdZx0ApAYCwav+eZ2D8mRYPrJz8PQPC1E5xh/v0/RQ05eKBBD0Cu/M395FoDQKV3FBgMqAdA4P1EHGwQxD+QMdZfghnyP6iRgKszxd4/tN7YA/bz8j8ogwmW8GTeP/A2Cx/WWfQ/1otY70iD+j/4NPBm+GvQP97AQkq7KAZAct11X5khAkBQXhI0JPzwP2y5qrNyvgBAgB96PXwM2D9wG1VYJ24CQEFiHGHLvA1AmikTCG9j9D/sjl4DbVsFQETTWprA3uA/UpRdByfsBkDYKh4ioYXyP0h5XYbQcuc/1RY2xrbEAkDAxByVEpe0P/muej2thgpAAGr6SpA7kz8=\",\"dtype\":\"float64\",\"shape\":[100]},\"y\":{\"__ndarray__\":\"vYa3gzoXIUCAfpQufeQjQKqHCaDP/yFAgntE3UgGIUBq0TZPUfcdQB7QrVTAuSJAHcF4+nFvHkCEMOyHwd0mQHqk8MatEyhAXGshh5ecHEBvkODUcC4lQI8Lap1bwSBAqjIpoiJqIUDxxjKSkm8nQDpMQar6FhJAUc884byhEkBz+MAY0mAQQJwPk+G93iVAxp/gW/LzJEADBkFv8X8mQOkUAVInVChAhV09wHxOJUAfZpqIcj0fQDnPJqgs/iRASq6Fv0auE0BMgagzAKAiQKIQQ7OChhRAUwHIdMvBJ0BkNla5+qIgQBQTy5fHqR1AQBGkmYmbGEA2hHC4COMkQNJvquV/Dx9AQUFfYNBrIUADdi/KgFQQQH+q1g7tPyJAtTaEJwsoIkB8wx3b5jwiQF+bIC/TvSdAYEeZ0qFUI0DOwGdxO84bQB29T1+oah5A2rDlUsuYI0AHTmG5xLkRQH/C7R68EyNAn6zreGwkI0AJG/zCcsgWQN3PoFweChRAwkWwvStSGkAwIMRVePIbQMoiiORpcyFALP2W0jB4HkBBWljaNX4oQLbU7IRXIhNACx8WCXe7FkDPnmoLVSEVQLZHDzXa2CJA8kFx1Go6GEAN/nfJGmcfQHRohhr57RdAWj5eKigNFUBKehraKmoTQBpQxlC95iJA4iRWWO5ZFEAMShHsdVEWQK1G6n60HRxAV/ZpT56sJUAgj8vGt/cSQK1c79Gy9SVAw3LFKxLvEkCLnr6z2EooQOpE+MFIex9A3Q23lSVMKEBwQqyOyQgiQL7N22NGTCRAvkIQxmAEEUBEWwhb5zgZQLIGF27ZvhNAGSrced2rGUDJGnBKL7ITQCZsZ/MyaBpAiTCsAlemHUDevma2ldsRQPCMmJKNgiNArqFh9+ljIUBN40gzuqIYQC+IRoUDqSBAJYcPGXfcEkBadoKBM4whQHr3RYuFfydAaQ/I6T9tGkCQgkN+ghYjQJzCIbLgIhRAmlRK8WTpI0DCVgR0zXEZQMJfj0wA3hVAbg20BsG5IUATqd5q3V8QQMsggLLgziVAB3CzePW1D0A=\",\"dtype\":\"float64\",\"shape\":[100]}},\"selected\":{\"id\":\"6760\",\"type\":\"Selection\"},\"selection_policy\":{\"id\":\"6759\",\"type\":\"UnionRenderers\"}},\"id\":\"6577\",\"type\":\"ColumnDataSource\"},{\"attributes\":{},\"id\":\"3229\",\"type\":\"PanTool\"},{\"attributes\":{},\"id\":\"6315\",\"type\":\"UnionRenderers\"},{\"attributes\":{\"line_color\":\"red\",\"line_width\":2,\"x\":{\"field\":\"x\"},\"y\":{\"field\":\"y\"}},\"id\":\"4178\",\"type\":\"Line\"},{\"attributes\":{\"callback\":null,\"data\":{\"x\":{\"__ndarray__\":\"qBJfVuGPAUAzh2DP1OIGQEuJbmvWSQNA9ZVj265vAUD2Dv0EKR37P1ubiSEqqwRA0llhym0B/D/3EjqIZ4kMQDYzF0lT1g5AFkLSS06K+D8oqT+/z1UJQCJ/6wm17ABALTaSyWstAkAIJVjXfJ4NQAjzy0prL9I/8NK9FBtO1j/giSKvIbS0P3sg1F/SpApAHbiP/KjmCEAn+Hq3I9cLQIH55GnXUA9A8iE0+7SSCUAY8Cm84Ij9PzIst1IY+ghAMGwPlztH3j///FOmO3oEQKgUmYhmWeI/iNIIT7o6DkALc2xA+7IAQATvyTvSifo/zpt9qXru8D+tmvK6hcYIQMB+uymRMf0/onaKZJwwAkDAc30poj2zP15EmYSrwwNAN6jjxEmWA0DEw4td7L0DQMZCnCsvMw5AsL/MzXjRBUDQjedsLQL3P4gCON9U+Ps/v6llqP5SBkAAWhF+39XOP73QnCYnVgVA7AKvjN11BUDE/brV0O3qP3jPAiyogOA/UtbcZPov9D9cspmKCUf3P/5YJ0wNPwJARv4SFQwS/D/M9tUrwqAPQICo49SbH9o/fDMpOnm86j88v+xPyqXkP5LQU25D5gRAeqBQ++018D80LswjCdj9P7jl+XlWSe8/rHpohR1Z5D8okpeVi0HcP4jQROmmAAVAZBp0nPqv4T9ocTFfnCnpP+LaTHUxmfc/ueUNmJNFCkDoWu4TodvYP9TTsdZx0ApAYCwav+eZ2D8mRYPrJz8PQPC1E5xh/v0/RQ05eKBBD0Cu/M395FoDQKV3FBgMqAdA4P1EHGwQxD+QMdZfghnyP6iRgKszxd4/tN7YA/bz8j8ogwmW8GTeP/A2Cx/WWfQ/1otY70iD+j/4NPBm+GvQP97AQkq7KAZAct11X5khAkBQXhI0JPzwP2y5qrNyvgBAgB96PXwM2D9wG1VYJ24CQEFiHGHLvA1AmikTCG9j9D/sjl4DbVsFQETTWprA3uA/UpRdByfsBkDYKh4ioYXyP0h5XYbQcuc/1RY2xrbEAkDAxByVEpe0P/muej2thgpAAGr6SpA7kz8=\",\"dtype\":\"float64\",\"shape\":[100]},\"y\":{\"__ndarray__\":\"2CzTegnvIEAa1ADGvf4jQBoGmTcq7SFAdRc9AobcIEBKz/3A90IdQMLYZHFUuCJAhEQFNznGHUAS1RVahz4nQIr1Z1QpkShAYHKUeB/IG0CEd4MiQmclQE4+VC42kSBAyL4xtZ9JIUAfDeZj2t0nQC8QtFn8SBBAZhrgL5ngEEAWtzT1edQMQP48mxzkJyZAn6wqflgnJUCj9IqCBtgmQGwSuN+b1yhARNx7B0aKJUDOiYMNT6ceQJ0zoVaFMiVAupnQXgMGEkCDNeqlMZwiQIS2KkFH8hJAjV7JJrE3KEDdeYDfBHAgQEnyND8/7hxA2iSoqxxoF0DKrZbG3RQlQDYWAscadR5AVG+jQnVLIUDSioUgj7kMQDagRh44MyJAjVx52R8ZIkAVtpIy6i8iQJa1h7xaMyhAeMaz445hI0Bcl+SfpeYaQNIi9hL+wB1AVF/x1QisI0Bm72njR8YPQA4y1SqmGiNAzyBsSuIsI0Dcc9HxwGkVQHvWIf9cahJAXQlc4GBHGUD2ERrjPQ4bQKUyKQDDUyFAcMGwdMfPHUBIAU/FjwUpQDlykKIdbRFA97SzUpFbFUBAon0mcZsTQHF4Z99P2iJAghL0uP79FkCWJRsy09QeQGOmjyR4qhZAm+DO0WWFE0AXthdKmLsRQKxTf0986SJAint+tZHBEkCcF8hYvucUQHJ1hlp7PRtAldFm4R/xJUCitZETiz4RQFGG5Xb5QCZAE1qFaRg1EUDXNVmKcM0oQPbxILjf6h5A1ICJQtzOKEAtDgoF+fYhQIj+eDwkcCRAlislvuQ5DkBA9z5SDhQYQPSlXxMfGBJArrP7t6qRGEC/VlCZSAoSQMLDU3pyXxlAtMZSF33qHEA4z7zgFggQQKDp9KO7kyNADMfEgNNCIUAXzpvG928XQKok2sWcdiBAzwvkG8QgEUDMnotx2G4hQD4lg5dH7ydANH/wNvdkGUCeVXJYrh0jQOgfa3xqhRJAcbW33BkEJEBuTBTCOVIYQPzUrKKWaRRAl6xdPJ6gIUCl/nBEY9IMQG4at7eOFiZAoyG9OP+vC0A=\",\"dtype\":\"float64\",\"shape\":[100]}},\"selected\":{\"id\":\"4888\",\"type\":\"Selection\"},\"selection_policy\":{\"id\":\"4887\",\"type\":\"UnionRenderers\"}},\"id\":\"4723\",\"type\":\"ColumnDataSource\"},{\"attributes\":{\"data_source\":{\"id\":\"6355\",\"type\":\"ColumnDataSource\"},\"glyph\":{\"id\":\"6356\",\"type\":\"Line\"},\"hover_glyph\":null,\"muted_glyph\":null,\"nonselection_glyph\":{\"id\":\"6357\",\"type\":\"Line\"},\"selection_glyph\":null,\"view\":{\"id\":\"6359\",\"type\":\"CDSView\"},\"visible\":false},\"id\":\"6358\",\"type\":\"GlyphRenderer\"},{\"attributes\":{\"data_source\":{\"id\":\"7505\",\"type\":\"ColumnDataSource\"},\"glyph\":{\"id\":\"7506\",\"type\":\"Line\"},\"hover_glyph\":null,\"muted_glyph\":null,\"nonselection_glyph\":{\"id\":\"7507\",\"type\":\"Line\"},\"selection_glyph\":null,\"view\":{\"id\":\"7509\",\"type\":\"CDSView\"},\"visible\":false},\"id\":\"7508\",\"type\":\"GlyphRenderer\"},{\"attributes\":{\"source\":{\"id\":\"5507\",\"type\":\"ColumnDataSource\"}},\"id\":\"5511\",\"type\":\"CDSView\"},{\"attributes\":{},\"id\":\"3234\",\"type\":\"HelpTool\"},{\"attributes\":{\"source\":{\"id\":\"3667\",\"type\":\"ColumnDataSource\"}},\"id\":\"3671\",\"type\":\"CDSView\"},{\"attributes\":{\"line_color\":\"red\",\"line_width\":2,\"x\":{\"field\":\"x\"},\"y\":{\"field\":\"y\"}},\"id\":\"6578\",\"type\":\"Line\"},{\"attributes\":{\"line_alpha\":0.1,\"line_color\":\"#1f77b4\",\"line_width\":2,\"x\":{\"field\":\"x\"},\"y\":{\"field\":\"y\"}},\"id\":\"6357\",\"type\":\"Line\"},{\"attributes\":{\"source\":{\"id\":\"7505\",\"type\":\"ColumnDataSource\"}},\"id\":\"7509\",\"type\":\"CDSView\"},{\"attributes\":{},\"id\":\"3233\",\"type\":\"ResetTool\"},{\"attributes\":{\"line_color\":\"red\",\"line_width\":2,\"x\":{\"field\":\"x\"},\"y\":{\"field\":\"y\"}},\"id\":\"7034\",\"type\":\"Line\"},{\"attributes\":{},\"id\":\"7455\",\"type\":\"UnionRenderers\"},{\"attributes\":{},\"id\":\"5476\",\"type\":\"Selection\"},{\"attributes\":{},\"id\":\"7456\",\"type\":\"Selection\"},{\"attributes\":{},\"id\":\"5475\",\"type\":\"UnionRenderers\"},{\"attributes\":{\"data_source\":{\"id\":\"6577\",\"type\":\"ColumnDataSource\"},\"glyph\":{\"id\":\"6578\",\"type\":\"Line\"},\"hover_glyph\":null,\"muted_glyph\":null,\"nonselection_glyph\":{\"id\":\"6579\",\"type\":\"Line\"},\"selection_glyph\":null,\"view\":{\"id\":\"6581\",\"type\":\"CDSView\"},\"visible\":false},\"id\":\"6580\",\"type\":\"GlyphRenderer\"},{\"attributes\":{\"active_drag\":\"auto\",\"active_inspect\":\"auto\",\"active_multi\":null,\"active_scroll\":\"auto\",\"active_tap\":\"auto\",\"tools\":[{\"id\":\"3229\",\"type\":\"PanTool\"},{\"id\":\"3230\",\"type\":\"WheelZoomTool\"},{\"id\":\"3231\",\"type\":\"BoxZoomTool\"},{\"id\":\"3232\",\"type\":\"SaveTool\"},{\"id\":\"3233\",\"type\":\"ResetTool\"},{\"id\":\"3234\",\"type\":\"HelpTool\"}]},\"id\":\"3235\",\"type\":\"Toolbar\"},{\"attributes\":{\"line_alpha\":0.1,\"line_color\":\"#1f77b4\",\"line_width\":2,\"x\":{\"field\":\"x\"},\"y\":{\"field\":\"y\"}},\"id\":\"5509\",\"type\":\"Line\"},{\"attributes\":{\"fill_alpha\":{\"value\":0.1},\"fill_color\":{\"value\":\"#1f77b4\"},\"line_alpha\":{\"value\":0.1},\"line_color\":{\"value\":\"#1f77b4\"},\"size\":{\"units\":\"screen\",\"value\":10},\"x\":{\"field\":\"x\"},\"y\":{\"field\":\"y\"}},\"id\":\"3244\",\"type\":\"Circle\"},{\"attributes\":{\"source\":{\"id\":\"6577\",\"type\":\"ColumnDataSource\"}},\"id\":\"6581\",\"type\":\"CDSView\"},{\"attributes\":{\"line_alpha\":0.1,\"line_color\":\"#1f77b4\",\"line_width\":2,\"x\":{\"field\":\"x\"},\"y\":{\"field\":\"y\"}},\"id\":\"7507\",\"type\":\"Line\"},{\"attributes\":{\"data_source\":{\"id\":\"5507\",\"type\":\"ColumnDataSource\"},\"glyph\":{\"id\":\"5508\",\"type\":\"Line\"},\"hover_glyph\":null,\"muted_glyph\":null,\"nonselection_glyph\":{\"id\":\"5509\",\"type\":\"Line\"},\"selection_glyph\":null,\"view\":{\"id\":\"5511\",\"type\":\"CDSView\"},\"visible\":false},\"id\":\"5510\",\"type\":\"GlyphRenderer\"},{\"attributes\":{},\"id\":\"6535\",\"type\":\"UnionRenderers\"},{\"attributes\":{},\"id\":\"6536\",\"type\":\"Selection\"},{\"attributes\":{\"line_alpha\":0.1,\"line_color\":\"#1f77b4\",\"line_width\":2,\"x\":{\"field\":\"x\"},\"y\":{\"field\":\"y\"}},\"id\":\"4725\",\"type\":\"Line\"},{\"attributes\":{\"callback\":null,\"data\":{\"x\":{\"__ndarray__\":\"qBJfVuGPAUAzh2DP1OIGQEuJbmvWSQNA9ZVj265vAUD2Dv0EKR37P1ubiSEqqwRA0llhym0B/D/3EjqIZ4kMQDYzF0lT1g5AFkLSS06K+D8oqT+/z1UJQCJ/6wm17ABALTaSyWstAkAIJVjXfJ4NQAjzy0prL9I/8NK9FBtO1j/giSKvIbS0P3sg1F/SpApAHbiP/KjmCEAn+Hq3I9cLQIH55GnXUA9A8iE0+7SSCUAY8Cm84Ij9PzIst1IY+ghAMGwPlztH3j///FOmO3oEQKgUmYhmWeI/iNIIT7o6DkALc2xA+7IAQATvyTvSifo/zpt9qXru8D+tmvK6hcYIQMB+uymRMf0/onaKZJwwAkDAc30poj2zP15EmYSrwwNAN6jjxEmWA0DEw4td7L0DQMZCnCsvMw5AsL/MzXjRBUDQjedsLQL3P4gCON9U+Ps/v6llqP5SBkAAWhF+39XOP73QnCYnVgVA7AKvjN11BUDE/brV0O3qP3jPAiyogOA/UtbcZPov9D9cspmKCUf3P/5YJ0wNPwJARv4SFQwS/D/M9tUrwqAPQICo49SbH9o/fDMpOnm86j88v+xPyqXkP5LQU25D5gRAeqBQ++018D80LswjCdj9P7jl+XlWSe8/rHpohR1Z5D8okpeVi0HcP4jQROmmAAVAZBp0nPqv4T9ocTFfnCnpP+LaTHUxmfc/ueUNmJNFCkDoWu4TodvYP9TTsdZx0ApAYCwav+eZ2D8mRYPrJz8PQPC1E5xh/v0/RQ05eKBBD0Cu/M395FoDQKV3FBgMqAdA4P1EHGwQxD+QMdZfghnyP6iRgKszxd4/tN7YA/bz8j8ogwmW8GTeP/A2Cx/WWfQ/1otY70iD+j/4NPBm+GvQP97AQkq7KAZAct11X5khAkBQXhI0JPzwP2y5qrNyvgBAgB96PXwM2D9wG1VYJ24CQEFiHGHLvA1AmikTCG9j9D/sjl4DbVsFQETTWprA3uA/UpRdByfsBkDYKh4ioYXyP0h5XYbQcuc/1RY2xrbEAkDAxByVEpe0P/muej2thgpAAGr6SpA7kz8=\",\"dtype\":\"float64\",\"shape\":[100]},\"y\":{\"__ndarray__\":\"ElyIhz4gIUBEuTGw7e8jQFog/decCSJAHGilOD4PIUCyAaTKswUeQNRXTGcuxCJADgGUYTx+HkAfKhyZxOsmQNL7M/S8IihA/9oMEM6pHECeQjXG/jolQMjnJVgVyiBAqwymXm5zIUDb8S/IE34nQHTCyv4WGxJAJqGEP1GmEkDlD+thc2MQQMMX11bk6yVAsVcDs00AJUC9knhYo40mQD8T+EVuYyhAG/yoaiZbJUC1LVMl70wfQNqOVtiQCiVAFKjWbMOzE0DOJYb/V6oiQJD6MXC6jBRAZZbZy5PQJ0AbpmUsmqsgQAfphf/mtx1Apk8lYEmlGEAioBFuVe8kQMNTtMLUHh9Aw8afkB11IUC0dnhrF1cQQDr6zr3xSSJAWk1wLfsxIkC14VXs6EYiQA+5CBeYzCdAqXdo4ZVfI0BeVYd1v9obQAkIKqJueR5AWy0DWfqjI0D34k1rkL0RQL5KeAl4HiNAefRo0zYvI0AY6Q93ntAWQC6Qfn3qDxRAuoq8+GZdGkAlGzGzG/8bQF060qe9fCFAAsF8ygKHHkD1QEcwoY0oQFpQGCRbJxNAbHrbgZfDFkBcmG+3EigVQBJ5YS9j4yJAbB+IltZDGEDkva1vu3YfQAQSIrsi9xdAxbBTYtQTFUC/JOKbbG8TQANBkU5S8SJALhqchP9fFECCHeywOlkWQOlIPkN9KhxAle5GaJm5JUBlo2CGlvwSQAL8QCPtAiZA1WhlcOnzEkDgpYqaF1ooQABML936ih9AFuR7nGVbKEAjGYiKnhIiQJg8Gq4QWCRA97XujI8HEUB/WCZEL0MZQKUPsHFkxBNALTSK1oi2GUAxE09Zr7cTQPFd2TyBcxpA/56fcHO0HUBeu1upft8RQOyIIVupjSNAm4YTUjBtIUDyyxAygKwYQKBxtzCosSBAq6Y4RT7hEkAMm0u2nJUhQODBYY0UjidAhNC/kZJ4GkBiaFbPQCEjQK1/Mj7CKBRAAZY+sdn0I0BB0gyWRnwZQO4tjS9h5RVA3LWyo1HDIUCvpF3gfWIQQLn7fm752yVAagaTeVC6D0A=\",\"dtype\":\"float64\",\"shape\":[100]}},\"selected\":{\"id\":\"6988\",\"type\":\"Selection\"},\"selection_policy\":{\"id\":\"6987\",\"type\":\"UnionRenderers\"}},\"id\":\"6803\",\"type\":\"ColumnDataSource\"},{\"attributes\":{\"line_color\":\"red\",\"line_width\":2,\"x\":{\"field\":\"x\"},\"y\":{\"field\":\"y\"}},\"id\":\"5714\",\"type\":\"Line\"},{\"attributes\":{\"data_source\":{\"id\":\"7747\",\"type\":\"ColumnDataSource\"},\"glyph\":{\"id\":\"7748\",\"type\":\"Line\"},\"hover_glyph\":null,\"muted_glyph\":null,\"nonselection_glyph\":{\"id\":\"7749\",\"type\":\"Line\"},\"selection_glyph\":null,\"view\":{\"id\":\"7751\",\"type\":\"CDSView\"},\"visible\":false},\"id\":\"7750\",\"type\":\"GlyphRenderer\"},{\"attributes\":{\"callback\":null,\"data\":{\"x\":{\"__ndarray__\":\"qBJfVuGPAUAzh2DP1OIGQEuJbmvWSQNA9ZVj265vAUD2Dv0EKR37P1ubiSEqqwRA0llhym0B/D/3EjqIZ4kMQDYzF0lT1g5AFkLSS06K+D8oqT+/z1UJQCJ/6wm17ABALTaSyWstAkAIJVjXfJ4NQAjzy0prL9I/8NK9FBtO1j/giSKvIbS0P3sg1F/SpApAHbiP/KjmCEAn+Hq3I9cLQIH55GnXUA9A8iE0+7SSCUAY8Cm84Ij9PzIst1IY+ghAMGwPlztH3j///FOmO3oEQKgUmYhmWeI/iNIIT7o6DkALc2xA+7IAQATvyTvSifo/zpt9qXru8D+tmvK6hcYIQMB+uymRMf0/onaKZJwwAkDAc30poj2zP15EmYSrwwNAN6jjxEmWA0DEw4td7L0DQMZCnCsvMw5AsL/MzXjRBUDQjedsLQL3P4gCON9U+Ps/v6llqP5SBkAAWhF+39XOP73QnCYnVgVA7AKvjN11BUDE/brV0O3qP3jPAiyogOA/UtbcZPov9D9cspmKCUf3P/5YJ0wNPwJARv4SFQwS/D/M9tUrwqAPQICo49SbH9o/fDMpOnm86j88v+xPyqXkP5LQU25D5gRAeqBQ++018D80LswjCdj9P7jl+XlWSe8/rHpohR1Z5D8okpeVi0HcP4jQROmmAAVAZBp0nPqv4T9ocTFfnCnpP+LaTHUxmfc/ueUNmJNFCkDoWu4TodvYP9TTsdZx0ApAYCwav+eZ2D8mRYPrJz8PQPC1E5xh/v0/RQ05eKBBD0Cu/M395FoDQKV3FBgMqAdA4P1EHGwQxD+QMdZfghnyP6iRgKszxd4/tN7YA/bz8j8ogwmW8GTeP/A2Cx/WWfQ/1otY70iD+j/4NPBm+GvQP97AQkq7KAZAct11X5khAkBQXhI0JPzwP2y5qrNyvgBAgB96PXwM2D9wG1VYJ24CQEFiHGHLvA1AmikTCG9j9D/sjl4DbVsFQETTWprA3uA/UpRdByfsBkDYKh4ioYXyP0h5XYbQcuc/1RY2xrbEAkDAxByVEpe0P/muej2thgpAAGr6SpA7kz8=\",\"dtype\":\"float64\",\"shape\":[100]},\"y\":{\"__ndarray__\":\"uwDGoSnWIECH8w18/g4kQJTApmmg4SFARR53ca3CIEC6HpCHV9McQE7DHwd0tyJA5ulxU3xdHUCnvoCWbnonQNRsfuDV3ihAth4qtp1EG0BKj6AoboolQN5/kNlpcyBAubnT1YA1IUClPL4LHiIoQFUYgeYOVg5A8uh1NTKVD0DG+djUUGYKQPtuCggsVSZA91Q55ClHJUBMN0GujA4nQAZgONb6KClANau1dUivJUD2i/wJYkoeQL0AS97sUiVAnRcLIGn/EEAMqsM+15kiQKJfLhQT+BFA5HoVvKuAKEDXiemeelAgQKo2vtosehxAnlA8StSpFkASB4fqtjMlQLhsfU2LFR5Ad6dnB283IUB/O1Fi/EkKQDAFq3JbKyJAm+nInOQPIkBllZEi4SciQAbkHgwbfChAdM9s8o9pI0CjBeG9TlcaQD525ej6Vx1AyR5Mb/K3I0Bh6b+irX8NQOd3f5vuHiNAC89MtB8yI0CZqiE7sJAUQGYf1+MGaRFARso1IT+iGEAnujTv+oAaQKD53lIsQCFAWKXG8IpnHUAxzSMUWFkpQJ/z8U99XhBAk4yIB8KBFEASRiaUHaoSQPe1Vfw32yJAqCqguiQ6FkBWT5GpSXoeQJAcIgk84hVASpn5GOqSEkDeKWVIFrEQQAxSVUUw6yJAQ5g+KM/EEUBklfYH2wcUQPGlgwqzshpA03YdDIgbJkDAMxoVeS0QQM35Cl2SbyZAkwrefYcjEEC7ZMDiRh4pQGYSG2Z+kR5A0ZhGscUfKUDP7Rj68ushQBIs+mdYhiRA8/apSH3eC0BDgm/ly14XQIZyTBp4EhFAID+Iy//iF0CD3lu55wMRQLTGTBSUuxhAmoTrNDh2HEBufBlGdM0NQGmulcNeniNAkrvgTlkuIUAUYBXvGLIWQOA+GhlrVyBAFsXLEyIOEEAKSZGerVwhQHuStVx1NChAHnMd9GLBGEDUA5CEHyIjQD2jltB/hRFAZUfkk6IUJEAKOtmKOqAXQFyi54EUgxNAnQccExCRIUCe5NwUHmQKQE60osXtQiZAXwDT0nwyCUA=\",\"dtype\":\"float64\",\"shape\":[100]}},\"selected\":{\"id\":\"4516\",\"type\":\"Selection\"},\"selection_policy\":{\"id\":\"4515\",\"type\":\"UnionRenderers\"}},\"id\":\"4355\",\"type\":\"ColumnDataSource\"},{\"attributes\":{\"line_alpha\":0.1,\"line_color\":\"#1f77b4\",\"line_width\":2,\"x\":{\"field\":\"x\"},\"y\":{\"field\":\"y\"}},\"id\":\"6579\",\"type\":\"Line\"},{\"attributes\":{},\"id\":\"7695\",\"type\":\"UnionRenderers\"},{\"attributes\":{\"source\":{\"id\":\"4177\",\"type\":\"ColumnDataSource\"}},\"id\":\"4181\",\"type\":\"CDSView\"},{\"attributes\":{\"line_color\":\"red\",\"line_width\":2,\"x\":{\"field\":\"x\"},\"y\":{\"field\":\"y\"}},\"id\":\"6356\",\"type\":\"Line\"},{\"attributes\":{\"callback\":null,\"data\":{\"x\":{\"__ndarray__\":\"qBJfVuGPAUAzh2DP1OIGQEuJbmvWSQNA9ZVj265vAUD2Dv0EKR37P1ubiSEqqwRA0llhym0B/D/3EjqIZ4kMQDYzF0lT1g5AFkLSS06K+D8oqT+/z1UJQCJ/6wm17ABALTaSyWstAkAIJVjXfJ4NQAjzy0prL9I/8NK9FBtO1j/giSKvIbS0P3sg1F/SpApAHbiP/KjmCEAn+Hq3I9cLQIH55GnXUA9A8iE0+7SSCUAY8Cm84Ij9PzIst1IY+ghAMGwPlztH3j///FOmO3oEQKgUmYhmWeI/iNIIT7o6DkALc2xA+7IAQATvyTvSifo/zpt9qXru8D+tmvK6hcYIQMB+uymRMf0/onaKZJwwAkDAc30poj2zP15EmYSrwwNAN6jjxEmWA0DEw4td7L0DQMZCnCsvMw5AsL/MzXjRBUDQjedsLQL3P4gCON9U+Ps/v6llqP5SBkAAWhF+39XOP73QnCYnVgVA7AKvjN11BUDE/brV0O3qP3jPAiyogOA/UtbcZPov9D9cspmKCUf3P/5YJ0wNPwJARv4SFQwS/D/M9tUrwqAPQICo49SbH9o/fDMpOnm86j88v+xPyqXkP5LQU25D5gRAeqBQ++018D80LswjCdj9P7jl+XlWSe8/rHpohR1Z5D8okpeVi0HcP4jQROmmAAVAZBp0nPqv4T9ocTFfnCnpP+LaTHUxmfc/ueUNmJNFCkDoWu4TodvYP9TTsdZx0ApAYCwav+eZ2D8mRYPrJz8PQPC1E5xh/v0/RQ05eKBBD0Cu/M395FoDQKV3FBgMqAdA4P1EHGwQxD+QMdZfghnyP6iRgKszxd4/tN7YA/bz8j8ogwmW8GTeP/A2Cx/WWfQ/1otY70iD+j/4NPBm+GvQP97AQkq7KAZAct11X5khAkBQXhI0JPzwP2y5qrNyvgBAgB96PXwM2D9wG1VYJ24CQEFiHGHLvA1AmikTCG9j9D/sjl4DbVsFQETTWprA3uA/UpRdByfsBkDYKh4ioYXyP0h5XYbQcuc/1RY2xrbEAkDAxByVEpe0P/muej2thgpAAGr6SpA7kz8=\",\"dtype\":\"float64\",\"shape\":[100]},\"y\":{\"__ndarray__\":\"XHCZ1ioXIUCxKUR3Od8jQDIO1gMQ/iFAUKSxp1gGIUAxNOAMBv8dQJq1LWintiJAZOSvoEd2HkBe/KsM+NImQJr+M7ukBihAkCM3LtCmHEB+lN1ayCYlQI/6NmnrwSBAhvxF/XhpIUDNVmFKumMnQMrZJq+9NBJAcrQPNX6+EkAGx1LUwoEQQCE2AP7N1SVAQVpIg7bsJEBim9As1nUmQBpbd4mmRihA9FGNwphGJUBSNp+cyUIfQLwfD9Hd9iRA23PoXRXJE0BqBYsZF50iQF6g6b6/nxRAKqmfelq1J0D5/8TvwqMgQFjfylQMsh1A35FN5zGtGECUg4JI7NskQLK9VE4sFR9AHkZmnSNrIUCnUdRliHUQQJSH5WC2PSJAJEnW0wAmIkDlL/bKtToiQJ+FT5RpsSdAjIErRGlQI0DaHatU89kbQNJdoOmGcR5AOmWfLhSUI0CslM3YNNgRQFIsKhb8DyNA4lXhcY0gI0CKBKqBft0WQNSGFmtCJBRA1irncqVgGkCqaLbs7P0bQDy5fwSvciFA3cv/OvZ+HkA8+Av3ZnAoQCdWZwMqPhNAildU5JrQFkCN/kSRcjkVQIfoYoaH1SJAVu1Kf8dMGEDqC6yAJGwfQASmvLzjABhABp8HKGslFUAQpBH1d4UTQDo71ddQ4yJAal0eLn5zFEDN+TqkXmcWQBDm8MrYKBxA3caggQukJUAQ+LRt2RMTQBrNK0yY7CVAnyae4UMLE0B0tAQ0aT0oQI5XVv8sgB9APAHJq7M+KEACrO5G+QYiQBBLS+5BRiRAK5yxwiEkEUDvxSVpa0kZQAasTEWJ2RNA8oKpCIy7GUBtwrGm9swTQOSC67+DdhpAuUcFI6KuHUCPfL4Ix/kRQP1HT7z/fSNAAjVF4EtjIUBIfbomVbQYQB5D1YbAqSBAA12DXMv4EkCqveaYSoshQDK84KSPcydAV+gbVYd7GkAyc0BOvRIjQCjdiMXWPBRArF3gHRjkI0Bu/h3X54EZQL/X0nC/9BVAbtA7hYO4IUDAotbsz4AQQL4LCkUOxiVARehLDsj5D0A=\",\"dtype\":\"float64\",\"shape\":[100]}},\"selected\":{\"id\":\"7696\",\"type\":\"Selection\"},\"selection_policy\":{\"id\":\"7695\",\"type\":\"UnionRenderers\"}},\"id\":\"7505\",\"type\":\"ColumnDataSource\"},{\"attributes\":{\"source\":{\"id\":\"7747\",\"type\":\"ColumnDataSource\"}},\"id\":\"7751\",\"type\":\"CDSView\"},{\"attributes\":{},\"id\":\"5679\",\"type\":\"UnionRenderers\"},{\"attributes\":{},\"id\":\"7696\",\"type\":\"Selection\"},{\"attributes\":{\"line_alpha\":0.1,\"line_color\":\"#1f77b4\",\"line_width\":2,\"x\":{\"field\":\"x\"},\"y\":{\"field\":\"y\"}},\"id\":\"5715\",\"type\":\"Line\"},{\"attributes\":{},\"id\":\"5680\",\"type\":\"Selection\"},{\"attributes\":{\"data_source\":{\"id\":\"6803\",\"type\":\"ColumnDataSource\"},\"glyph\":{\"id\":\"6804\",\"type\":\"Line\"},\"hover_glyph\":null,\"muted_glyph\":null,\"nonselection_glyph\":{\"id\":\"6805\",\"type\":\"Line\"},\"selection_glyph\":null,\"view\":{\"id\":\"6807\",\"type\":\"CDSView\"},\"visible\":false},\"id\":\"6806\",\"type\":\"GlyphRenderer\"},{\"attributes\":{\"source\":{\"id\":\"4355\",\"type\":\"ColumnDataSource\"}},\"id\":\"4359\",\"type\":\"CDSView\"},{\"attributes\":{},\"id\":\"4159\",\"type\":\"UnionRenderers\"},{\"attributes\":{\"line_alpha\":0.1,\"line_color\":\"#1f77b4\",\"line_width\":2,\"x\":{\"field\":\"x\"},\"y\":{\"field\":\"y\"}},\"id\":\"7749\",\"type\":\"Line\"},{\"attributes\":{},\"id\":\"6759\",\"type\":\"UnionRenderers\"},{\"attributes\":{\"source\":{\"id\":\"6803\",\"type\":\"ColumnDataSource\"}},\"id\":\"6807\",\"type\":\"CDSView\"},{\"attributes\":{\"formatter\":{\"id\":\"3393\",\"type\":\"BasicTickFormatter\"},\"ticker\":{\"id\":\"3225\",\"type\":\"BasicTicker\"}},\"id\":\"3224\",\"type\":\"LinearAxis\"},{\"attributes\":{\"data_source\":{\"id\":\"5713\",\"type\":\"ColumnDataSource\"},\"glyph\":{\"id\":\"5714\",\"type\":\"Line\"},\"hover_glyph\":null,\"muted_glyph\":null,\"nonselection_glyph\":{\"id\":\"5715\",\"type\":\"Line\"},\"selection_glyph\":null,\"view\":{\"id\":\"5717\",\"type\":\"CDSView\"},\"visible\":false},\"id\":\"5716\",\"type\":\"GlyphRenderer\"},{\"attributes\":{\"line_color\":\"red\",\"line_width\":2,\"x\":{\"field\":\"x\"},\"y\":{\"field\":\"y\"}},\"id\":\"6138\",\"type\":\"Line\"},{\"attributes\":{},\"id\":\"6760\",\"type\":\"Selection\"},{\"attributes\":{\"data_source\":{\"id\":\"3242\",\"type\":\"ColumnDataSource\"},\"glyph\":{\"id\":\"3243\",\"type\":\"Circle\"},\"hover_glyph\":null,\"muted_glyph\":null,\"nonselection_glyph\":{\"id\":\"3244\",\"type\":\"Circle\"},\"selection_glyph\":null,\"view\":{\"id\":\"3246\",\"type\":\"CDSView\"}},\"id\":\"3245\",\"type\":\"GlyphRenderer\"},{\"attributes\":{\"data_source\":{\"id\":\"5923\",\"type\":\"ColumnDataSource\"},\"glyph\":{\"id\":\"5924\",\"type\":\"Line\"},\"hover_glyph\":null,\"muted_glyph\":null,\"nonselection_glyph\":{\"id\":\"5925\",\"type\":\"Line\"},\"selection_glyph\":null,\"view\":{\"id\":\"5927\",\"type\":\"CDSView\"},\"visible\":false},\"id\":\"5926\",\"type\":\"GlyphRenderer\"},{\"attributes\":{},\"id\":\"7939\",\"type\":\"UnionRenderers\"},{\"attributes\":{\"callback\":null,\"data\":{\"x\":{\"__ndarray__\":\"qBJfVuGPAUAzh2DP1OIGQEuJbmvWSQNA9ZVj265vAUD2Dv0EKR37P1ubiSEqqwRA0llhym0B/D/3EjqIZ4kMQDYzF0lT1g5AFkLSS06K+D8oqT+/z1UJQCJ/6wm17ABALTaSyWstAkAIJVjXfJ4NQAjzy0prL9I/8NK9FBtO1j/giSKvIbS0P3sg1F/SpApAHbiP/KjmCEAn+Hq3I9cLQIH55GnXUA9A8iE0+7SSCUAY8Cm84Ij9PzIst1IY+ghAMGwPlztH3j///FOmO3oEQKgUmYhmWeI/iNIIT7o6DkALc2xA+7IAQATvyTvSifo/zpt9qXru8D+tmvK6hcYIQMB+uymRMf0/onaKZJwwAkDAc30poj2zP15EmYSrwwNAN6jjxEmWA0DEw4td7L0DQMZCnCsvMw5AsL/MzXjRBUDQjedsLQL3P4gCON9U+Ps/v6llqP5SBkAAWhF+39XOP73QnCYnVgVA7AKvjN11BUDE/brV0O3qP3jPAiyogOA/UtbcZPov9D9cspmKCUf3P/5YJ0wNPwJARv4SFQwS/D/M9tUrwqAPQICo49SbH9o/fDMpOnm86j88v+xPyqXkP5LQU25D5gRAeqBQ++018D80LswjCdj9P7jl+XlWSe8/rHpohR1Z5D8okpeVi0HcP4jQROmmAAVAZBp0nPqv4T9ocTFfnCnpP+LaTHUxmfc/ueUNmJNFCkDoWu4TodvYP9TTsdZx0ApAYCwav+eZ2D8mRYPrJz8PQPC1E5xh/v0/RQ05eKBBD0Cu/M395FoDQKV3FBgMqAdA4P1EHGwQxD+QMdZfghnyP6iRgKszxd4/tN7YA/bz8j8ogwmW8GTeP/A2Cx/WWfQ/1otY70iD+j/4NPBm+GvQP97AQkq7KAZAct11X5khAkBQXhI0JPzwP2y5qrNyvgBAgB96PXwM2D9wG1VYJ24CQEFiHGHLvA1AmikTCG9j9D/sjl4DbVsFQETTWprA3uA/UpRdByfsBkDYKh4ioYXyP0h5XYbQcuc/1RY2xrbEAkDAxByVEpe0P/muej2thgpAAGr6SpA7kz8=\",\"dtype\":\"float64\",\"shape\":[100]},\"y\":{\"__ndarray__\":\"NAGgdV7IIECmWMFuuEkkQKaXZ0JZ6yFAWi5KtCuzIEDOvk9ppUocQIQlzKL50yJAWokPhO/gHEB8K+qxIAIoQNV0QtXdhSlAOHpsKd2YGkDpPTBfhOYlQOdgxw3wXCBAbaiCkRcwIUCNNLRgjrgoQN8p/Tje3QpABtuQnRA5DEAyVxEdhpUGQLZcQYIVwyZAS2XkFFadJUBpDwmYwownQFEbJ56H1ilAZNJkJZwOJkBer6RCqeIdQBZgWckhqiVALg1jBv7YDkCJ5uNXwrMiQH2CNNYFexBAEcQ7QWwfKUBtAvGG7jYgQDRl1cqj6RtAM8Fd32+WFUBqQIpZLYglQOAWaj0tqR1A5K5JNjEyIUDEGRYGtHYGQDzFdc6POyJAcswd0K4dIkAcG2Y3xzciQEX2t9B0GilAbSbFZL6VI0CKIQDosJYZQEyTsC7y2hxAH3mgJQXrI0D4Khm+o/QJQKOJKkuNRCNA1HnYWm5ZI0DAl9z3EU4TQFyn0O3Lvg9A/p8tBjS7F0BkoJoOB8QZQKTiRzazOyFAeno8fuDrHEAcJUZuJQsqQNwRDHLaeg1A+C0Dt9M9E0B0tsaktzwRQNt2Ppji+iJA8oRYg+4cFUDCWBgdxxYeQEy7SS9LvRRA1j4Z9XkjEUBYiGiPki4OQAZ3cVNCDCNAOpT/C0BDEEB6glv3NLkSQCDFRDse+hlAejD3KWCEJkC6F+d6MxANQECURQrO3yZAAjRErZD6DEBnv3vE4sopQLoUZCoGMB5AzKUiO4PMKUCcThcplPYhQDRida+QyyRAW0HDZcUuCEBK6eKlUFsWQPyIwOh1Ag9Az23UIiTrFkCB4tuLxeIOQPYkDSPD1hdAujSQHFblG0AvUJrxQEkKQPmmaswxzyNAygP2Ak8oIUCspyidbp8VQKq5rjF7PiBAxwVPsALMDED3Md0XtlohQEphyoKCzChAAv0YvRTdF0AF8BAHBkgjQNauQ3q//A9AnTHqfdtPJEA8RxEHgKIWQBrQQPbBKBJADgDpm7OTIUA8j9XiIZMGQDFJtKI8ryZAfAEylKFGBUA=\",\"dtype\":\"float64\",\"shape\":[100]}},\"selected\":{\"id\":\"4160\",\"type\":\"Selection\"},\"selection_policy\":{\"id\":\"4159\",\"type\":\"UnionRenderers\"}},\"id\":\"4003\",\"type\":\"ColumnDataSource\"},{\"attributes\":{\"line_alpha\":0.1,\"line_color\":\"#1f77b4\",\"line_width\":2,\"x\":{\"field\":\"x\"},\"y\":{\"field\":\"y\"}},\"id\":\"6805\",\"type\":\"Line\"},{\"attributes\":{},\"id\":\"4336\",\"type\":\"Selection\"},{\"attributes\":{},\"id\":\"5887\",\"type\":\"UnionRenderers\"},{\"attributes\":{\"source\":{\"id\":\"5923\",\"type\":\"ColumnDataSource\"}},\"id\":\"5927\",\"type\":\"CDSView\"},{\"attributes\":{},\"id\":\"5888\",\"type\":\"Selection\"},{\"attributes\":{},\"id\":\"7940\",\"type\":\"Selection\"},{\"attributes\":{\"callback\":null,\"data\":{\"x\":{\"__ndarray__\":\"qBJfVuGPAUAzh2DP1OIGQEuJbmvWSQNA9ZVj265vAUD2Dv0EKR37P1ubiSEqqwRA0llhym0B/D/3EjqIZ4kMQDYzF0lT1g5AFkLSS06K+D8oqT+/z1UJQCJ/6wm17ABALTaSyWstAkAIJVjXfJ4NQAjzy0prL9I/8NK9FBtO1j/giSKvIbS0P3sg1F/SpApAHbiP/KjmCEAn+Hq3I9cLQIH55GnXUA9A8iE0+7SSCUAY8Cm84Ij9PzIst1IY+ghAMGwPlztH3j///FOmO3oEQKgUmYhmWeI/iNIIT7o6DkALc2xA+7IAQATvyTvSifo/zpt9qXru8D+tmvK6hcYIQMB+uymRMf0/onaKZJwwAkDAc30poj2zP15EmYSrwwNAN6jjxEmWA0DEw4td7L0DQMZCnCsvMw5AsL/MzXjRBUDQjedsLQL3P4gCON9U+Ps/v6llqP5SBkAAWhF+39XOP73QnCYnVgVA7AKvjN11BUDE/brV0O3qP3jPAiyogOA/UtbcZPov9D9cspmKCUf3P/5YJ0wNPwJARv4SFQwS/D/M9tUrwqAPQICo49SbH9o/fDMpOnm86j88v+xPyqXkP5LQU25D5gRAeqBQ++018D80LswjCdj9P7jl+XlWSe8/rHpohR1Z5D8okpeVi0HcP4jQROmmAAVAZBp0nPqv4T9ocTFfnCnpP+LaTHUxmfc/ueUNmJNFCkDoWu4TodvYP9TTsdZx0ApAYCwav+eZ2D8mRYPrJz8PQPC1E5xh/v0/RQ05eKBBD0Cu/M395FoDQKV3FBgMqAdA4P1EHGwQxD+QMdZfghnyP6iRgKszxd4/tN7YA/bz8j8ogwmW8GTeP/A2Cx/WWfQ/1otY70iD+j/4NPBm+GvQP97AQkq7KAZAct11X5khAkBQXhI0JPzwP2y5qrNyvgBAgB96PXwM2D9wG1VYJ24CQEFiHGHLvA1AmikTCG9j9D/sjl4DbVsFQETTWprA3uA/UpRdByfsBkDYKh4ioYXyP0h5XYbQcuc/1RY2xrbEAkDAxByVEpe0P/muej2thgpAAGr6SpA7kz8=\",\"dtype\":\"float64\",\"shape\":[100]},\"y\":{\"__ndarray__\":\"shqCbSodIUBkI9ZYqOcjQHSZVbfZBCJA1CY7hUkMIUCobfJ3WwceQK6DLrASviJAEM5/bwV/HkAeD6l2/N0mQJC2BHe2EihAbAQ/TPitHED23Ov1VTAlQBL0N2GgxyBACQe3n8BvIUB69edqPW8nQAAFrhTBMhJA6cIDL/q8EkCqKpB4SX4QQIDeMc303yVAzXuuSRH2JECcdxIRiYAmQJIfbEzwUihAWea5NkJQJUBW/O9uOkwfQNIhu3pBACVA+29Js3rIE0B1dg4BbKQiQFfTBfzgnxRAf+pnDiXBJ0Aq+LyBXakgQAQHrF4euh1ALL9uQt+wGEDqy39cOOUkQNOBCjN1Hh9AYH1ItWxxIUBQD+FVBHIQQDAgfsu3RCJAsiSEfe0sIkAe0ciUtEEiQBaa9rQwvSdARn0oI1tYI0BUVKgfaOAbQC5lZo9Aeh5AAoIKSUGcI0DgJo8+59URQDoBBpC1FyNATOZdbFUoI0A+Lon3ld8WQCDfzo/3IxRAy0j3+M9lGkDXxTg1gQQcQLjyA7f+eCFA8NNXo7uHHkAGNgFG1XwoQJBzx74VPRNALyzrEafSFkCYojNYGjoVQCDXLNUN3SJAp7vwdCBQGEArIhyGuXUfQMBegET6AxhAmbe8ZgEmFUD2FNcaooQTQMAM+Tfj6iJA1ZMDrnhzFEBMM/WzDmkWQHxRkKWSLxxAgelSwgauJUD2++QeoBITQEi7XA7T9iVAU6s0DwMKE0CrNYHgqkkoQLDQ8o3TiR9AFQSLefZKKEDqHU/Hyg0iQOj0OAALTyRA8dQaiDYhEUBZICuEoU0ZQP0LhgH92BNA9LkkCibAGUAkuohhX8wTQGNjZWrBexpAtu+uL7G2HUA6p1TRlvcRQLBL64IZhiNAmIGzGo5pIUBa6VHBCLgYQNKlNldgryBALJwKX3r3EkAJHbDVr5EhQDSwdqEgfydAGtcnY8mAGkA8oGoxeRojQIYEM26hPBRAkm6wQovsI0Cu3etjT4YZQJ7NSisL9hVAXsLBVxC/IUBhX3S8VX0QQPKXG0sn0CVAvlfJuezxD0A=\",\"dtype\":\"float64\",\"shape\":[100]}},\"selected\":{\"id\":\"6536\",\"type\":\"Selection\"},\"selection_policy\":{\"id\":\"6535\",\"type\":\"UnionRenderers\"}},\"id\":\"6355\",\"type\":\"ColumnDataSource\"},{\"attributes\":{\"data_source\":{\"id\":\"4177\",\"type\":\"ColumnDataSource\"},\"glyph\":{\"id\":\"4178\",\"type\":\"Line\"},\"hover_glyph\":null,\"muted_glyph\":null,\"nonselection_glyph\":{\"id\":\"4179\",\"type\":\"Line\"},\"selection_glyph\":null,\"view\":{\"id\":\"4181\",\"type\":\"CDSView\"},\"visible\":false},\"id\":\"4180\",\"type\":\"GlyphRenderer\"},{\"attributes\":{\"source\":{\"id\":\"3242\",\"type\":\"ColumnDataSource\"}},\"id\":\"3246\",\"type\":\"CDSView\"},{\"attributes\":{\"line_color\":\"red\",\"line_width\":2,\"x\":{\"field\":\"x\"},\"y\":{\"field\":\"y\"}},\"id\":\"7506\",\"type\":\"Line\"},{\"attributes\":{\"line_color\":\"red\",\"line_width\":2,\"x\":{\"field\":\"x\"},\"y\":{\"field\":\"y\"}},\"id\":\"7748\",\"type\":\"Line\"},{\"attributes\":{},\"id\":\"6987\",\"type\":\"UnionRenderers\"},{\"attributes\":{\"line_alpha\":0.1,\"line_color\":\"#1f77b4\",\"line_width\":2,\"x\":{\"field\":\"x\"},\"y\":{\"field\":\"y\"}},\"id\":\"4179\",\"type\":\"Line\"},{\"attributes\":{\"line_color\":\"red\",\"line_width\":2,\"x\":{\"field\":\"x\"},\"y\":{\"field\":\"y\"}},\"id\":\"5306\",\"type\":\"Line\"},{\"attributes\":{\"line_alpha\":0.1,\"line_color\":\"#1f77b4\",\"line_width\":2,\"x\":{\"field\":\"x\"},\"y\":{\"field\":\"y\"}},\"id\":\"5925\",\"type\":\"Line\"},{\"attributes\":{\"callback\":null,\"data\":{\"x\":{\"__ndarray__\":\"qBJfVuGPAUAzh2DP1OIGQEuJbmvWSQNA9ZVj265vAUD2Dv0EKR37P1ubiSEqqwRA0llhym0B/D/3EjqIZ4kMQDYzF0lT1g5AFkLSS06K+D8oqT+/z1UJQCJ/6wm17ABALTaSyWstAkAIJVjXfJ4NQAjzy0prL9I/8NK9FBtO1j/giSKvIbS0P3sg1F/SpApAHbiP/KjmCEAn+Hq3I9cLQIH55GnXUA9A8iE0+7SSCUAY8Cm84Ij9PzIst1IY+ghAMGwPlztH3j///FOmO3oEQKgUmYhmWeI/iNIIT7o6DkALc2xA+7IAQATvyTvSifo/zpt9qXru8D+tmvK6hcYIQMB+uymRMf0/onaKZJwwAkDAc30poj2zP15EmYSrwwNAN6jjxEmWA0DEw4td7L0DQMZCnCsvMw5AsL/MzXjRBUDQjedsLQL3P4gCON9U+Ps/v6llqP5SBkAAWhF+39XOP73QnCYnVgVA7AKvjN11BUDE/brV0O3qP3jPAiyogOA/UtbcZPov9D9cspmKCUf3P/5YJ0wNPwJARv4SFQwS/D/M9tUrwqAPQICo49SbH9o/fDMpOnm86j88v+xPyqXkP5LQU25D5gRAeqBQ++018D80LswjCdj9P7jl+XlWSe8/rHpohR1Z5D8okpeVi0HcP4jQROmmAAVAZBp0nPqv4T9ocTFfnCnpP+LaTHUxmfc/ueUNmJNFCkDoWu4TodvYP9TTsdZx0ApAYCwav+eZ2D8mRYPrJz8PQPC1E5xh/v0/RQ05eKBBD0Cu/M395FoDQKV3FBgMqAdA4P1EHGwQxD+QMdZfghnyP6iRgKszxd4/tN7YA/bz8j8ogwmW8GTeP/A2Cx/WWfQ/1otY70iD+j/4NPBm+GvQP97AQkq7KAZAct11X5khAkBQXhI0JPzwP2y5qrNyvgBAgB96PXwM2D9wG1VYJ24CQEFiHGHLvA1AmikTCG9j9D/sjl4DbVsFQETTWprA3uA/UpRdByfsBkDYKh4ioYXyP0h5XYbQcuc/1RY2xrbEAkDAxByVEpe0P/muej2thgpAAGr6SpA7kz8=\",\"dtype\":\"float64\",\"shape\":[100]},\"y\":{\"__ndarray__\":\"lLgOm/8XIUA1xIr/4OEjQOSOTyN8/yFAvzBhZSIHIUBO3NBS8f0dQBCxUoiMuCJAr6JBE4F1HkDGRQf8jtcmQL52E1oFDChAhk950dmkHEBM116bRiolQNysEEyIwiBA7vmNtYNqIUAtmQIesGgnQKyhrWzuKxJAUtgMPwm2EkC3XfNu1ncQQMxrUvm+2SVA4SP9sg7wJEChaXAPMHomQFqcfx0xTChAKHPY3StKJUC//REeiUIfQPqXpqg8+iRANBUCKU/BE0By8sl3654iQEQOfkGGmBRAi5cK0IW6J0BuhrkNTKQgQNgLUSXFsB1AjQbieaCoGEAoSah2Od8kQJwUHunNFB9AHzFXbS9sIUARi2j8k2sQQHi1ljlMPyJA0T7XIYcnIkC2X9WrSTwiQOPcYFSStidAaIelLrNSI0BA5HutdtcbQMqSnj69cB5AdqOMdIqWI0AXXurtKM8RQNDAGMUbEiNAKDwX/bciI0A8lqIdvdcWQOV5n/q3HBRAbiV/dzFdGkC0qJDah/sbQHBtgca/cyFAHjmFXjV+HkAg/YPpDHYoQJA8J74INhNA/JdZDdHKFkCG91LUnTIVQCmvzuOA1yJAhHgo3vZHGECNaf8d/2sfQBedZFzh+xdAAd/7SYkeFUB/kpJthX0TQMRdxz5T5SJA4GD8rSdsFEBStnvRT2EWQE6UhNuPJhxASq6q3tunJUDg3IVrnAsTQEwo+TeY8CVA0vznPgEDE0DvSIm57UIoQIxJeb4UgB9A4hfuCTlEKEAEms89awgiQCpixAAtSSRAqgIdzZ8aEUC2bx1kQEUZQGbRXtnN0RNAyJ6Y06u3GUB2iej8MsUTQHg4ShoecxpADQl/tlitHUDHDXwf0fARQMh994hngCNAYjkbjFJkIUCGQxlnyK8YQIPKFJJNqiBARz8unnzwEkDmQ2J8a4whQE7Wi9mPeCdAplzj+CR4GkAVV3fL3hQjQEH1znFcNRRAABZa18LmI0Cm/SDZ4X0ZQGLcIntl7hVARlqTDcK5IUAL8zzo4nYQQFdbgO30ySVArjsNEUHlD0A=\",\"dtype\":\"float64\",\"shape\":[100]}},\"selected\":{\"id\":\"7940\",\"type\":\"Selection\"},\"selection_policy\":{\"id\":\"7939\",\"type\":\"UnionRenderers\"}},\"id\":\"7747\",\"type\":\"ColumnDataSource\"},{\"attributes\":{},\"id\":\"6988\",\"type\":\"Selection\"},{\"attributes\":{},\"id\":\"3225\",\"type\":\"BasicTicker\"},{\"attributes\":{\"line_alpha\":0.1,\"line_color\":\"#1f77b4\",\"line_width\":2,\"x\":{\"field\":\"x\"},\"y\":{\"field\":\"y\"}},\"id\":\"7035\",\"type\":\"Line\"},{\"attributes\":{},\"id\":\"4335\",\"type\":\"UnionRenderers\"},{\"attributes\":{},\"id\":\"4700\",\"type\":\"Selection\"},{\"attributes\":{\"dimension\":1,\"ticker\":{\"id\":\"3225\",\"type\":\"BasicTicker\"}},\"id\":\"3228\",\"type\":\"Grid\"},{\"attributes\":{\"line_alpha\":0.1,\"line_color\":\"#1f77b4\",\"line_width\":2,\"x\":{\"field\":\"x\"},\"y\":{\"field\":\"y\"}},\"id\":\"4357\",\"type\":\"Line\"},{\"attributes\":{\"callback\":null,\"data\":{\"x\":{\"__ndarray__\":\"qBJfVuGPAUAzh2DP1OIGQEuJbmvWSQNA9ZVj265vAUD2Dv0EKR37P1ubiSEqqwRA0llhym0B/D/3EjqIZ4kMQDYzF0lT1g5AFkLSS06K+D8oqT+/z1UJQCJ/6wm17ABALTaSyWstAkAIJVjXfJ4NQAjzy0prL9I/8NK9FBtO1j/giSKvIbS0P3sg1F/SpApAHbiP/KjmCEAn+Hq3I9cLQIH55GnXUA9A8iE0+7SSCUAY8Cm84Ij9PzIst1IY+ghAMGwPlztH3j///FOmO3oEQKgUmYhmWeI/iNIIT7o6DkALc2xA+7IAQATvyTvSifo/zpt9qXru8D+tmvK6hcYIQMB+uymRMf0/onaKZJwwAkDAc30poj2zP15EmYSrwwNAN6jjxEmWA0DEw4td7L0DQMZCnCsvMw5AsL/MzXjRBUDQjedsLQL3P4gCON9U+Ps/v6llqP5SBkAAWhF+39XOP73QnCYnVgVA7AKvjN11BUDE/brV0O3qP3jPAiyogOA/UtbcZPov9D9cspmKCUf3P/5YJ0wNPwJARv4SFQwS/D/M9tUrwqAPQICo49SbH9o/fDMpOnm86j88v+xPyqXkP5LQU25D5gRAeqBQ++018D80LswjCdj9P7jl+XlWSe8/rHpohR1Z5D8okpeVi0HcP4jQROmmAAVAZBp0nPqv4T9ocTFfnCnpP+LaTHUxmfc/ueUNmJNFCkDoWu4TodvYP9TTsdZx0ApAYCwav+eZ2D8mRYPrJz8PQPC1E5xh/v0/RQ05eKBBD0Cu/M395FoDQKV3FBgMqAdA4P1EHGwQxD+QMdZfghnyP6iRgKszxd4/tN7YA/bz8j8ogwmW8GTeP/A2Cx/WWfQ/1otY70iD+j/4NPBm+GvQP97AQkq7KAZAct11X5khAkBQXhI0JPzwP2y5qrNyvgBAgB96PXwM2D9wG1VYJ24CQEFiHGHLvA1AmikTCG9j9D/sjl4DbVsFQETTWprA3uA/UpRdByfsBkDYKh4ioYXyP0h5XYbQcuc/1RY2xrbEAkDAxByVEpe0P/muej2thgpAAGr6SpA7kz8=\",\"dtype\":\"float64\",\"shape\":[100]},\"y\":{\"__ndarray__\":\"OJpsYGELIUCYYlUAtBAkQNldMFMkBiJABEcosBz5IED8Wd0WRosdQHdy05WdziJAC8fbcMoMHkBOo1raeEUnQK7c0XiekyhA/8f5h3IVHEDPbWTKcXQlQC/eSUHMriBAPKXyaMRkIUBC4aqYr+InQJI3nhFMvRBAL1Yhw+ZSEUAuxKxqyMkNQCbhvoSGMiZAmc4K42A1JUBncsmdU+AmQAw7DR4i2ShAUaFV8f6WJUAu90z65OoeQKpJ6dVnQCVAQiuf7W10EkB29zI02rIiQBm5QZmQXRNA5SkBs1U7KEA/8DeCC44gQOJIWOKsNx1ApmTW3kXEF0An8hjWJCMlQHYQ9fNauR5AJxEQvpNmIUCd/OvdOK8NQLdNFalESyJAJZMp4oQxIkCxGQnyAUgiQEG/WP4NNyhAONOmJpp1I0AkOXxP9TYbQIxiCwqhBx5AHJsoiRe/I0CmZGcJzVgQQAO8n+ShLyNA1n3YLaBBI0AOA1DarMwVQPzmOUBz1xJAsd5BzjCdGUDeevlMB14bQPhk2lLFbiFA1i3tRjgWHkDAJlkuegYpQHBaYbGO3RFAHA2eVq2+FUADZjnVfAQUQMiopsYl8CJAIIpLyI9bF0CcVpPEzhcfQJTct3MkCRdAji3/QbzuE0Bj9jg2/yoSQEJX+8Ee/yJAxNbYO4AtE0BzdP4jY0wVQOj8epGkjBtAWJZuAnz8JUBM4LkRmq8RQF1wLs9GSyZAzUbDcUemEUDHdAJFGc8oQJwkGYWQLR9AKSHEK4DQKEAu8Rbe0Q8iQK+2xOeZgCRAQU5PJHcqD0BgoWRu8G0YQIpovzlMhhJAWKSK3OLpGECS9c2spHgSQD+/OsnwtBlAXuNJefczHUCVvKWrQn0QQOqkQsAcpyNAtijXQQ9eIUB0oM1VBswXQNwNoAyNlCBAdB3GFDiSEUDmPc3rfokhQNNonrPh8ydA9lkFz2K6GUA4ShfKnzIjQOZaDAAl8hJABzwS6v0VJEBkUGIKSasYQM6c6T3nzxRAzVUg7Zu6IUCmCyLPuMcNQGscyOdrISZAt7qmhi2pDEA=\",\"dtype\":\"float64\",\"shape\":[100]}},\"selected\":{\"id\":\"5080\",\"type\":\"Selection\"},\"selection_policy\":{\"id\":\"5079\",\"type\":\"UnionRenderers\"}},\"id\":\"4913\",\"type\":\"ColumnDataSource\"},{\"attributes\":{\"line_alpha\":0.1,\"line_color\":\"#1f77b4\",\"line_width\":2,\"x\":{\"field\":\"x\"},\"y\":{\"field\":\"y\"}},\"id\":\"6139\",\"type\":\"Line\"},{\"attributes\":{\"source\":{\"id\":\"7033\",\"type\":\"ColumnDataSource\"}},\"id\":\"7037\",\"type\":\"CDSView\"},{\"attributes\":{\"data_source\":{\"id\":\"7033\",\"type\":\"ColumnDataSource\"},\"glyph\":{\"id\":\"7034\",\"type\":\"Line\"},\"hover_glyph\":null,\"muted_glyph\":null,\"nonselection_glyph\":{\"id\":\"7035\",\"type\":\"Line\"},\"selection_glyph\":null,\"view\":{\"id\":\"7037\",\"type\":\"CDSView\"},\"visible\":false},\"id\":\"7036\",\"type\":\"GlyphRenderer\"},{\"attributes\":{},\"id\":\"6099\",\"type\":\"UnionRenderers\"},{\"attributes\":{},\"id\":\"4160\",\"type\":\"Selection\"},{\"attributes\":{\"source\":{\"id\":\"4003\",\"type\":\"ColumnDataSource\"}},\"id\":\"4007\",\"type\":\"CDSView\"},{\"attributes\":{},\"id\":\"6100\",\"type\":\"Selection\"},{\"attributes\":{\"line_color\":\"red\",\"line_width\":2,\"x\":{\"field\":\"x\"},\"y\":{\"field\":\"y\"}},\"id\":\"3668\",\"type\":\"Line\"},{\"attributes\":{\"callback\":null,\"data\":{\"x\":{\"__ndarray__\":\"qBJfVuGPAUAzh2DP1OIGQEuJbmvWSQNA9ZVj265vAUD2Dv0EKR37P1ubiSEqqwRA0llhym0B/D/3EjqIZ4kMQDYzF0lT1g5AFkLSS06K+D8oqT+/z1UJQCJ/6wm17ABALTaSyWstAkAIJVjXfJ4NQAjzy0prL9I/8NK9FBtO1j/giSKvIbS0P3sg1F/SpApAHbiP/KjmCEAn+Hq3I9cLQIH55GnXUA9A8iE0+7SSCUAY8Cm84Ij9PzIst1IY+ghAMGwPlztH3j///FOmO3oEQKgUmYhmWeI/iNIIT7o6DkALc2xA+7IAQATvyTvSifo/zpt9qXru8D+tmvK6hcYIQMB+uymRMf0/onaKZJwwAkDAc30poj2zP15EmYSrwwNAN6jjxEmWA0DEw4td7L0DQMZCnCsvMw5AsL/MzXjRBUDQjedsLQL3P4gCON9U+Ps/v6llqP5SBkAAWhF+39XOP73QnCYnVgVA7AKvjN11BUDE/brV0O3qP3jPAiyogOA/UtbcZPov9D9cspmKCUf3P/5YJ0wNPwJARv4SFQwS/D/M9tUrwqAPQICo49SbH9o/fDMpOnm86j88v+xPyqXkP5LQU25D5gRAeqBQ++018D80LswjCdj9P7jl+XlWSe8/rHpohR1Z5D8okpeVi0HcP4jQROmmAAVAZBp0nPqv4T9ocTFfnCnpP+LaTHUxmfc/ueUNmJNFCkDoWu4TodvYP9TTsdZx0ApAYCwav+eZ2D8mRYPrJz8PQPC1E5xh/v0/RQ05eKBBD0Cu/M395FoDQKV3FBgMqAdA4P1EHGwQxD+QMdZfghnyP6iRgKszxd4/tN7YA/bz8j8ogwmW8GTeP/A2Cx/WWfQ/1otY70iD+j/4NPBm+GvQP97AQkq7KAZAct11X5khAkBQXhI0JPzwP2y5qrNyvgBAgB96PXwM2D9wG1VYJ24CQEFiHGHLvA1AmikTCG9j9D/sjl4DbVsFQETTWprA3uA/UpRdByfsBkDYKh4ioYXyP0h5XYbQcuc/1RY2xrbEAkDAxByVEpe0P/muej2thgpAAGr6SpA7kz8=\",\"dtype\":\"float64\",\"shape\":[100]},\"y\":{\"__ndarray__\":\"l/vy+c8UIUCtNR4jjfgjQFqBYRGvBCJAcOUOY1YDIUCwmXFtqtAdQLRktoxzxCJA0sai3Y5MHkDap/YJrQknQHD3J8JPSShA8D9Z6BJrHECIYCDz10wlQNQYgiVAvCBAgQrtPlFqIUBiLZryD6AnQByxL4QLkRFATUmX+SYgEkBp37hPT5oPQE71znCrAiZAx4m/L4QQJUC3zRBL7KgmQJY9MZPOiyhA+xyK+eRtJUD0acEmBCEfQHwvT4oQGyVA6EukSxs1E0D0E9fT5KkiQNU+eREeFBRAwpDWfdz0J0DSsmCI65wgQAp6J6KygB1AeN67F+VJGEB6ZyXcEv8kQLKmnOGg8R5AfMbpdAxsIUA6K2MN54APQM3iKePORiJAdPa7YC0uIkD5uxxssEMiQI+rwV7E8CdAor2yoS9kI0AowU05P5YbQP4mltmeRx5AJZY6/XuqI0CPPtrB6TARQFAPUERBISNAsOfcgncyI0CEgaXaKmgWQJzgkr/TkxNAKmv3VUYOGkBXaAvZnrsbQBa/tvHicyFAcMe635NVHkAgZh6GLrcoQGFrn2PJpBJAgWbl9sZaFkB61yqHyrMUQDpOQ/KG5CJAujKLI7vlF0AQDKKd+ksfQGjjFRzklhdAUpXryPueFECgYST43O4SQC0wLnjZ8iJA7DObDiTmE0DiZxtkc+0VQOKItOA16BtA6JCCvPnOJUAqdeet03gSQCAlI49YGiZAnCdks+hvEkC1zHlJNYIoQJI4F3zKYB9A1K0fmoyDKEAROAwE8Q0iQHqP7gGXYyRAOB+JiNZ1EEDeYttgMewYQOdnu/AyRhNAn+D40cFiGUBoL8oxIzkTQGTsYEb+JBpA4BY6dCZ9HUBZf9cMylMRQCf1psyLkyNAngxfquZjIUDUKUpgT1EYQGtXCL4koyBAomofW7hcEkBj58Zsc40hQInH3+CCsCdAT2kJwjMqGkD3HOHmHSQjQMY6w7hcrRNARqukQJz9I0CWTuD33yYZQKGWX3NfdhVAqBzvaG68IUBu9OOdVpgPQBE9WftO8iVAA5ZVAT2GDkA=\",\"dtype\":\"float64\",\"shape\":[100]}},\"selected\":{\"id\":\"5680\",\"type\":\"Selection\"},\"selection_policy\":{\"id\":\"5679\",\"type\":\"UnionRenderers\"}},\"id\":\"5507\",\"type\":\"ColumnDataSource\"},{\"attributes\":{},\"id\":\"3819\",\"type\":\"UnionRenderers\"},{\"attributes\":{\"line_color\":\"red\",\"line_width\":2,\"x\":{\"field\":\"x\"},\"y\":{\"field\":\"y\"}},\"id\":\"4356\",\"type\":\"Line\"},{\"attributes\":{\"data_source\":{\"id\":\"4723\",\"type\":\"ColumnDataSource\"},\"glyph\":{\"id\":\"4724\",\"type\":\"Line\"},\"hover_glyph\":null,\"muted_glyph\":null,\"nonselection_glyph\":{\"id\":\"4725\",\"type\":\"Line\"},\"selection_glyph\":null,\"view\":{\"id\":\"4727\",\"type\":\"CDSView\"},\"visible\":false},\"id\":\"4726\",\"type\":\"GlyphRenderer\"},{\"attributes\":{\"data_source\":{\"id\":\"4913\",\"type\":\"ColumnDataSource\"},\"glyph\":{\"id\":\"4914\",\"type\":\"Line\"},\"hover_glyph\":null,\"muted_glyph\":null,\"nonselection_glyph\":{\"id\":\"4915\",\"type\":\"Line\"},\"selection_glyph\":null,\"view\":{\"id\":\"4917\",\"type\":\"CDSView\"},\"visible\":false},\"id\":\"4916\",\"type\":\"GlyphRenderer\"},{\"attributes\":{},\"id\":\"3220\",\"type\":\"BasicTicker\"},{\"attributes\":{},\"id\":\"3987\",\"type\":\"UnionRenderers\"},{\"attributes\":{},\"id\":\"3820\",\"type\":\"Selection\"},{\"attributes\":{\"callback\":null,\"data\":{\"x\":{\"__ndarray__\":\"qBJfVuGPAUAzh2DP1OIGQEuJbmvWSQNA9ZVj265vAUD2Dv0EKR37P1ubiSEqqwRA0llhym0B/D/3EjqIZ4kMQDYzF0lT1g5AFkLSS06K+D8oqT+/z1UJQCJ/6wm17ABALTaSyWstAkAIJVjXfJ4NQAjzy0prL9I/8NK9FBtO1j/giSKvIbS0P3sg1F/SpApAHbiP/KjmCEAn+Hq3I9cLQIH55GnXUA9A8iE0+7SSCUAY8Cm84Ij9PzIst1IY+ghAMGwPlztH3j///FOmO3oEQKgUmYhmWeI/iNIIT7o6DkALc2xA+7IAQATvyTvSifo/zpt9qXru8D+tmvK6hcYIQMB+uymRMf0/onaKZJwwAkDAc30poj2zP15EmYSrwwNAN6jjxEmWA0DEw4td7L0DQMZCnCsvMw5AsL/MzXjRBUDQjedsLQL3P4gCON9U+Ps/v6llqP5SBkAAWhF+39XOP73QnCYnVgVA7AKvjN11BUDE/brV0O3qP3jPAiyogOA/UtbcZPov9D9cspmKCUf3P/5YJ0wNPwJARv4SFQwS/D/M9tUrwqAPQICo49SbH9o/fDMpOnm86j88v+xPyqXkP5LQU25D5gRAeqBQ++018D80LswjCdj9P7jl+XlWSe8/rHpohR1Z5D8okpeVi0HcP4jQROmmAAVAZBp0nPqv4T9ocTFfnCnpP+LaTHUxmfc/ueUNmJNFCkDoWu4TodvYP9TTsdZx0ApAYCwav+eZ2D8mRYPrJz8PQPC1E5xh/v0/RQ05eKBBD0Cu/M395FoDQKV3FBgMqAdA4P1EHGwQxD+QMdZfghnyP6iRgKszxd4/tN7YA/bz8j8ogwmW8GTeP/A2Cx/WWfQ/1otY70iD+j/4NPBm+GvQP97AQkq7KAZAct11X5khAkBQXhI0JPzwP2y5qrNyvgBAgB96PXwM2D9wG1VYJ24CQEFiHGHLvA1AmikTCG9j9D/sjl4DbVsFQETTWprA3uA/UpRdByfsBkDYKh4ioYXyP0h5XYbQcuc/1RY2xrbEAkDAxByVEpe0P/muej2thgpAAGr6SpA7kz8=\",\"dtype\":\"float64\",\"shape\":[100]},\"y\":{\"__ndarray__\":\"Gc5c01z+IEA0JVQwdvEjQH37Kf428yFAnl1hWIbsIEDMZuICqIwdQI2Jjtj2tiJA1LT0BB8LHkAvtEaM4xInQIgbsFcpWShA+NlWp6MfHEChFEbh0UwlQNGVIDv2oyBA9H5OnKRVIUAlNB7cZawnQMtA3TLtCxFArAYAXgGeEUBih198Tn0OQJxutOVrBiZA/kYQcD0PJUA1VhZ/ILAmQIxHRaAJnShAAsujl45uJUASdyip/eMeQFMxy9wBGiVA2qo44rW4EkAp9Pjz2psiQNJZVBtanBNA2imlKvUCKEDoEh8T+4MgQHKsciIHOx1ANkV1O4LoF0C+80pkb/0kQIwZR36esx5AjNpABmlXIUAVrpcrX2MOQJhRhU62NiJAAach3pEdIkBNSBlDhzMiQOuaGkjH/idAFe4LBgRaI0BwVWynZEYbQFw+08EUBh5Aj5YjEMahI0AQwFtvzKkQQCtwKeCxFSNA583RnEMnI0A/uPpKx/wVQFBJvtZlGRNAmrGILEi2GUDAZmzximwbQGo/3SxpXyFAwir1+FMUHkAojwokUMkoQLtjPNJkJRJA5Ia5ORzvFUAxG3xWVz8UQI2/Hr+01yJAyghM10OCF0CszyiA2A8fQNtAq7nJMRdAWbcR/RkqFEDM9r4qAnESQLFsCWdT5iJAekQOs2ttE0Bwb3GCg38VQIqlh/8OmhtALGqAZ6fRJUCZOphvhfgRQBW55N6WHiZAbdCJDWvvEUDb1nBQPZMoQKAlxf8WJR9AaxoJwpuUKEDiiKwmqvwhQKlMPAq5XiRAl13skK3VD0B9ED49LY4YQOZEw2IoyhJArVGx7TMHGUA3oJg107wSQHrgg+B4zRlA5AzyGGg3HUBRlSMeZs0QQP/d+/BbiiNAY4BZ7BdPIUAz1qXuE/AXQDaYvV1ViiBAHjLntNTbEUBtey2MgXkhQMW5RjowvSdAYd2EDMrSGUCFQSu5nRgjQE6uRox2MxNALPY/MqD2I0AvUUfDE8oYQCJsX5f2BRVA1B+6Q3apIUCYScFPS3sOQKfMz3e49SVASww7rYBjDUA=\",\"dtype\":\"float64\",\"shape\":[100]}},\"selected\":{\"id\":\"5276\",\"type\":\"Selection\"},\"selection_policy\":{\"id\":\"5275\",\"type\":\"UnionRenderers\"}},\"id\":\"5107\",\"type\":\"ColumnDataSource\"},{\"attributes\":{\"callback\":null,\"end\":101,\"js_property_callbacks\":{\"change:value\":[{\"id\":\"7993\",\"type\":\"CustomJS\"}]},\"start\":1,\"step\":5,\"title\":\"Iterations\",\"value\":1},\"id\":\"3666\",\"type\":\"Slider\"},{\"attributes\":{\"callback\":null,\"data\":{\"x\":{\"__ndarray__\":\"qBJfVuGPAUAzh2DP1OIGQEuJbmvWSQNA9ZVj265vAUD2Dv0EKR37P1ubiSEqqwRA0llhym0B/D/3EjqIZ4kMQDYzF0lT1g5AFkLSS06K+D8oqT+/z1UJQCJ/6wm17ABALTaSyWstAkAIJVjXfJ4NQAjzy0prL9I/8NK9FBtO1j/giSKvIbS0P3sg1F/SpApAHbiP/KjmCEAn+Hq3I9cLQIH55GnXUA9A8iE0+7SSCUAY8Cm84Ij9PzIst1IY+ghAMGwPlztH3j///FOmO3oEQKgUmYhmWeI/iNIIT7o6DkALc2xA+7IAQATvyTvSifo/zpt9qXru8D+tmvK6hcYIQMB+uymRMf0/onaKZJwwAkDAc30poj2zP15EmYSrwwNAN6jjxEmWA0DEw4td7L0DQMZCnCsvMw5AsL/MzXjRBUDQjedsLQL3P4gCON9U+Ps/v6llqP5SBkAAWhF+39XOP73QnCYnVgVA7AKvjN11BUDE/brV0O3qP3jPAiyogOA/UtbcZPov9D9cspmKCUf3P/5YJ0wNPwJARv4SFQwS/D/M9tUrwqAPQICo49SbH9o/fDMpOnm86j88v+xPyqXkP5LQU25D5gRAeqBQ++018D80LswjCdj9P7jl+XlWSe8/rHpohR1Z5D8okpeVi0HcP4jQROmmAAVAZBp0nPqv4T9ocTFfnCnpP+LaTHUxmfc/ueUNmJNFCkDoWu4TodvYP9TTsdZx0ApAYCwav+eZ2D8mRYPrJz8PQPC1E5xh/v0/RQ05eKBBD0Cu/M395FoDQKV3FBgMqAdA4P1EHGwQxD+QMdZfghnyP6iRgKszxd4/tN7YA/bz8j8ogwmW8GTeP/A2Cx/WWfQ/1otY70iD+j/4NPBm+GvQP97AQkq7KAZAct11X5khAkBQXhI0JPzwP2y5qrNyvgBAgB96PXwM2D9wG1VYJ24CQEFiHGHLvA1AmikTCG9j9D/sjl4DbVsFQETTWprA3uA/UpRdByfsBkDYKh4ioYXyP0h5XYbQcuc/1RY2xrbEAkDAxByVEpe0P/muej2thgpAAGr6SpA7kz8=\",\"dtype\":\"float64\",\"shape\":[100]},\"y\":{\"__ndarray__\":\"XiuhWs7eIEB4q5tppDYkQBqEm+RS9CFAtDzfqZbKIEDzIG42+7UcQP3bnx8w0iJAQk1vV1FFHUAJeNGy/MInQA4QM5jJNClArljnhkQYG0Dqnm5VV8AlQEw3l1NYeCBACPzXALtBIUBrtVLD+XAoQG2ZgXp9FA1Ap5NSy59fDkAZaXQV3v4IQL4eTSe0kiZA9sV4xYt6JUCNFmGoDFMnQGVtUAi4gSlA7SAcQ5TmJUDKt9isHjseQDgiou2/hiVAo+/ykDtwEEDMG79idrMiQFXvNV4+chFAfrGvUhXTKEBHYNftGFQgQJpKl4B2WRxAANuz2StRFkCL6/ujXWYlQBYx+3pLBB5A1Xz1xbtDIUDnAusFeeEIQC7xt2zTQCJAEFBcTlQkIkDXE0ylNz0iQGw8p7RYzihAHclQ9P2KI0CWYeH6CSIaQDBaU/KaPx1AwONquVLcI0ApniNGDTYMQKTWHXaOPSNAGtzFPHhRI0DTOBj71iMUQKqFVKjR3RBAdg2ym4xcGEAqMlIuR00aQJRtgyrNTCFAvHrSu8BPHUBhzLas5rMpQDuZy3mGkg9AZh4iG1kUFEAtWvIf+ioSQEys+z5M9yJAbgGbjkndFUBrAxZH02weQE16d+4SghVA4JM0YucSEkApxZ8H9x4QQB7a0TTeByNAu30eIQ09EUB2dzAQ3ZUTQAN77bndgBpAXcssgeVWJkDdslupziwPQMGthoYYriZA6nVbGywYD0AhIskWnXYpQLxMRVLnhB5ACqT9SCp4KUB+OfrJCP8hQDOxdtR6siRANURVYy6FCkC65C/f8AwXQMb8u/ABhBBAW4gU7xyWF0BQr0Vq5XQQQFEdTFLVdhhAzU09yltVHEA1QAFWwIYMQANco+7IwSNA6YxvoU46IUBKH6MOwFkWQNZrwS5MWyBAQJDafsXrDkCQm8jCYGohQKHCepIBhChA+sYJFtx8GEBUCioU3kAjQEuyGZFc+xBA7w6yyX48JECX2xMp1VAXQLrBY90YDBNAFgu+TbugIUBKUjoulvwIQH/Z0lfGfyZAmQqI5ne/B0A=\",\"dtype\":\"float64\",\"shape\":[100]}},\"selected\":{\"id\":\"4336\",\"type\":\"Selection\"},\"selection_policy\":{\"id\":\"4335\",\"type\":\"UnionRenderers\"}},\"id\":\"4177\",\"type\":\"ColumnDataSource\"},{\"attributes\":{},\"id\":\"3397\",\"type\":\"UnionRenderers\"},{\"attributes\":{\"text\":\"\"},\"id\":\"3391\",\"type\":\"Title\"},{\"attributes\":{},\"id\":\"4699\",\"type\":\"UnionRenderers\"},{\"attributes\":{\"callback\":null,\"data\":{\"x\":{\"__ndarray__\":\"qBJfVuGPAUAzh2DP1OIGQEuJbmvWSQNA9ZVj265vAUD2Dv0EKR37P1ubiSEqqwRA0llhym0B/D/3EjqIZ4kMQDYzF0lT1g5AFkLSS06K+D8oqT+/z1UJQCJ/6wm17ABALTaSyWstAkAIJVjXfJ4NQAjzy0prL9I/8NK9FBtO1j/giSKvIbS0P3sg1F/SpApAHbiP/KjmCEAn+Hq3I9cLQIH55GnXUA9A8iE0+7SSCUAY8Cm84Ij9PzIst1IY+ghAMGwPlztH3j///FOmO3oEQKgUmYhmWeI/iNIIT7o6DkALc2xA+7IAQATvyTvSifo/zpt9qXru8D+tmvK6hcYIQMB+uymRMf0/onaKZJwwAkDAc30poj2zP15EmYSrwwNAN6jjxEmWA0DEw4td7L0DQMZCnCsvMw5AsL/MzXjRBUDQjedsLQL3P4gCON9U+Ps/v6llqP5SBkAAWhF+39XOP73QnCYnVgVA7AKvjN11BUDE/brV0O3qP3jPAiyogOA/UtbcZPov9D9cspmKCUf3P/5YJ0wNPwJARv4SFQwS/D/M9tUrwqAPQICo49SbH9o/fDMpOnm86j88v+xPyqXkP5LQU25D5gRAeqBQ++018D80LswjCdj9P7jl+XlWSe8/rHpohR1Z5D8okpeVi0HcP4jQROmmAAVAZBp0nPqv4T9ocTFfnCnpP+LaTHUxmfc/ueUNmJNFCkDoWu4TodvYP9TTsdZx0ApAYCwav+eZ2D8mRYPrJz8PQPC1E5xh/v0/RQ05eKBBD0Cu/M395FoDQKV3FBgMqAdA4P1EHGwQxD+QMdZfghnyP6iRgKszxd4/tN7YA/bz8j8ogwmW8GTeP/A2Cx/WWfQ/1otY70iD+j/4NPBm+GvQP97AQkq7KAZAct11X5khAkBQXhI0JPzwP2y5qrNyvgBAgB96PXwM2D9wG1VYJ24CQEFiHGHLvA1AmikTCG9j9D/sjl4DbVsFQETTWprA3uA/UpRdByfsBkDYKh4ioYXyP0h5XYbQcuc/1RY2xrbEAkDAxByVEpe0P/muej2thgpAAGr6SpA7kz8=\",\"dtype\":\"float64\",\"shape\":[100]},\"y\":{\"__ndarray__\":\"NgIeCuOTHkBVXmraIx0jQGuA6m92hyBAHPGbm59lHkCaaPgVqNIYQGPRdG9OhSFAKzrrUKd2GUAlePL6aSwnQCMDyXmE0yhAW9P+Z0/5FkDYg0E6lt8kQLnm42BtqR1ABEvz8EB2H0AXc5Y0e/MnQKLobvcIOAFA6U8DGeayAkAAhTtjZBf5P8GMKmhF0CVAVjnoOruPJECN5URzV6wmQAMD1KyJKylA8Wt7IlYLJUAm2km54o8aQI+/KrSxnSRAwHhOahyQBUCuyJXtJmIhQC/0ti2D3gdAPHHH7bpjKEAV35WDe1YdQB4ghnTNaBhA8MknluqBEUCTTKxzpHgkQHKGCn4oURpAIpWCTdZ6H0DEghTwINT4PwWlbOP93iBAF4jeP2O+IEBS7qT03NogQJSkR4ZPXihACwaBhL9YIkDAfA0Ll98VQMdfkiEecBlA1V4UZs21IkCiCDfPiDkAQDQ0QqkmACJABQxgO+8WIkCKYKp4gAgOQFM7ygvgigZATkA/8bvYE0DmdvrCDxEWQMOe+UyWjx9AEHxtw5eCGUBcNiEJ9GQpQELQuWYJEgRASLXqbw3lDUDB6wn8O4UJQFGIc+jDryFA9uuXL1T9EEClKS10wcgaQIhWi8v3lBBA9mBn5yVOCUA2O73MJdYEQHB3Ok65wiFASHbaHctkB0Ac6+XQnsMMQIoi4eYVTBZAo8SE4NeLJUDMFpEzqJ0DQOG2Q4uc7yVAjwPKNwyGA0CqN/Py1B4pQOf5//tN5BpAeKKnZZsgKUAaEf6Mt5MgQGQ1ht3TqiNAq7TZEoqU/D+QGg9KwFgSQJkGJoxcvQVA71pg/bH1EkDQ9sdGyJoFQLhIvojO9hNAcmP8ShtkGEB4vous3ZUAQH/dAFlwlyJAD9T7WkRlH0Cdcepau4sRQDw+L2X1Zh1AMWtiOD9TA0D/tM07RNMfQFj1DD1BCShAkNharLP9E0DN+k508AMiQI5roBp6zgZA+eZpNNYjI0DcvPvGbaYSQHjR0EhfiAtABBwyTtInIECDNNRALBL5P37Aux6duiVAilpFbIQ89j8=\",\"dtype\":\"float64\",\"shape\":[100]}},\"selected\":{\"id\":\"3820\",\"type\":\"Selection\"},\"selection_policy\":{\"id\":\"3819\",\"type\":\"UnionRenderers\"}},\"id\":\"3667\",\"type\":\"ColumnDataSource\"},{\"attributes\":{\"line_alpha\":0.1,\"line_color\":\"#1f77b4\",\"line_width\":2,\"x\":{\"field\":\"x\"},\"y\":{\"field\":\"y\"}},\"id\":\"4539\",\"type\":\"Line\"},{\"attributes\":{\"callback\":null,\"data\":{\"x\":{\"__ndarray__\":\"qBJfVuGPAUAzh2DP1OIGQEuJbmvWSQNA9ZVj265vAUD2Dv0EKR37P1ubiSEqqwRA0llhym0B/D/3EjqIZ4kMQDYzF0lT1g5AFkLSS06K+D8oqT+/z1UJQCJ/6wm17ABALTaSyWstAkAIJVjXfJ4NQAjzy0prL9I/8NK9FBtO1j/giSKvIbS0P3sg1F/SpApAHbiP/KjmCEAn+Hq3I9cLQIH55GnXUA9A8iE0+7SSCUAY8Cm84Ij9PzIst1IY+ghAMGwPlztH3j///FOmO3oEQKgUmYhmWeI/iNIIT7o6DkALc2xA+7IAQATvyTvSifo/zpt9qXru8D+tmvK6hcYIQMB+uymRMf0/onaKZJwwAkDAc30poj2zP15EmYSrwwNAN6jjxEmWA0DEw4td7L0DQMZCnCsvMw5AsL/MzXjRBUDQjedsLQL3P4gCON9U+Ps/v6llqP5SBkAAWhF+39XOP73QnCYnVgVA7AKvjN11BUDE/brV0O3qP3jPAiyogOA/UtbcZPov9D9cspmKCUf3P/5YJ0wNPwJARv4SFQwS/D/M9tUrwqAPQICo49SbH9o/fDMpOnm86j88v+xPyqXkP5LQU25D5gRAeqBQ++018D80LswjCdj9P7jl+XlWSe8/rHpohR1Z5D8okpeVi0HcP4jQROmmAAVAZBp0nPqv4T9ocTFfnCnpP+LaTHUxmfc/ueUNmJNFCkDoWu4TodvYP9TTsdZx0ApAYCwav+eZ2D8mRYPrJz8PQPC1E5xh/v0/RQ05eKBBD0Cu/M395FoDQKV3FBgMqAdA4P1EHGwQxD+QMdZfghnyP6iRgKszxd4/tN7YA/bz8j8ogwmW8GTeP/A2Cx/WWfQ/1otY70iD+j/4NPBm+GvQP97AQkq7KAZAct11X5khAkBQXhI0JPzwP2y5qrNyvgBAgB96PXwM2D9wG1VYJ24CQEFiHGHLvA1AmikTCG9j9D/sjl4DbVsFQETTWprA3uA/UpRdByfsBkDYKh4ioYXyP0h5XYbQcuc/1RY2xrbEAkDAxByVEpe0P/muej2thgpAAGr6SpA7kz8=\",\"dtype\":\"float64\",\"shape\":[100]},\"y\":{\"__ndarray__\":\"gr6+EusUIUBGEOm+zugjQEiYlnam/yFAdIWdVdEDIUDwf4I7uegdQKQZThhPuyJA1hUqHvZhHkC6aaM3HOkmQHg+BbrlIShAlJkkHcuKHEAxwMULzzUlQGhV6gFBviBA2d15WJdoIUDavrNARnwnQKF6l0lJ7BFA/Sl/zFN4EkB4w20OFDIQQD40Lze95yVA/VjcLcb6JEDhLf4pboomQLBkcND3YihA3eI6ySZWJUBa4Y0Q3jEfQJE56KwYBSVADidWBFmHE0C3bpwKUqEiQLcAtZGUYRRApg/6q0HPJ0AnjhI+mJ8gQEYkkxB4mh1ACN5l9EOAGEDXqLKGtOkkQI/gwrd+Ax9At3lwD0lqIUCJFkibpSUQQEag0JZbQCJAgF9HLkEoIkAiyF07Tj0iQDq43gFAyydAWEIYB59XI0BltprKhrobQDTTRi8hXR5ACssbzGmcI0BL73bQNo4RQLAQLMgfFiNAdMpZnvcmI0CIui8B3KgWQA4s1uwJ5BNAfPi94fM6GkCV/6lrGd8bQDvOmY70cSFAgOFIp8lqHkBeUebZaY0oQFSiobUe+hJArFOBj8GbFkAwo+Q21f0UQORXHo6y2iJA4PUHZz8eGEBgO43g6FsfQEkqC9AY0RdAfJv6mXjpFEANKWT6m0ITQNxFDoW26CJAFuOsvZY0FECKwFOlxTAWQOs1kt+7ChxAh1keDie1JUDJPNIeGs8SQBWJHHjo/iVAgDeCDmDGEkBovAMtk1koQJZVgJdGcB9A1PWRIuNaKEBQhwaitQgiQHfjtYGNUSRAMnnUsyXXEECbogcIFh8ZQMDi5OgSmBNAvlQqJRyTGUBWcX3OSosTQPlmkTUvURpAjlkJWP+WHUBvboXPV7ARQGGJp2z3hSNAEACF9U9iIUBsINGQhYcYQFLJ7VCvpSBALjGW9pizEkCKxQHR+IohQMIh5/VejCdAGfEIH0hWGkB9Jze47BgjQLbdi9YG/RNAgj6xHMLtI0B4wrq/glgZQMma2Nk+vBVAO+3RHPK4IUCJG6UdHTEQQCBeiX+61yVAsGr8EABWD0A=\",\"dtype\":\"float64\",\"shape\":[100]}},\"selected\":{\"id\":\"6100\",\"type\":\"Selection\"},\"selection_policy\":{\"id\":\"6099\",\"type\":\"UnionRenderers\"}},\"id\":\"5923\",\"type\":\"ColumnDataSource\"},{\"attributes\":{\"line_alpha\":0.1,\"line_color\":\"#1f77b4\",\"line_width\":2,\"x\":{\"field\":\"x\"},\"y\":{\"field\":\"y\"}},\"id\":\"3669\",\"type\":\"Line\"},{\"attributes\":{\"line_color\":\"red\",\"line_width\":2,\"x\":{\"field\":\"x\"},\"y\":{\"field\":\"y\"}},\"id\":\"4538\",\"type\":\"Line\"},{\"attributes\":{\"callback\":null,\"data\":{\"x\":{\"__ndarray__\":\"qBJfVuGPAUAzh2DP1OIGQEuJbmvWSQNA9ZVj265vAUD2Dv0EKR37P1ubiSEqqwRA0llhym0B/D/3EjqIZ4kMQDYzF0lT1g5AFkLSS06K+D8oqT+/z1UJQCJ/6wm17ABALTaSyWstAkAIJVjXfJ4NQAjzy0prL9I/8NK9FBtO1j/giSKvIbS0P3sg1F/SpApAHbiP/KjmCEAn+Hq3I9cLQIH55GnXUA9A8iE0+7SSCUAY8Cm84Ij9PzIst1IY+ghAMGwPlztH3j///FOmO3oEQKgUmYhmWeI/iNIIT7o6DkALc2xA+7IAQATvyTvSifo/zpt9qXru8D+tmvK6hcYIQMB+uymRMf0/onaKZJwwAkDAc30poj2zP15EmYSrwwNAN6jjxEmWA0DEw4td7L0DQMZCnCsvMw5AsL/MzXjRBUDQjedsLQL3P4gCON9U+Ps/v6llqP5SBkAAWhF+39XOP73QnCYnVgVA7AKvjN11BUDE/brV0O3qP3jPAiyogOA/UtbcZPov9D9cspmKCUf3P/5YJ0wNPwJARv4SFQwS/D/M9tUrwqAPQICo49SbH9o/fDMpOnm86j88v+xPyqXkP5LQU25D5gRAeqBQ++018D80LswjCdj9P7jl+XlWSe8/rHpohR1Z5D8okpeVi0HcP4jQROmmAAVAZBp0nPqv4T9ocTFfnCnpP+LaTHUxmfc/ueUNmJNFCkDoWu4TodvYP9TTsdZx0ApAYCwav+eZ2D8mRYPrJz8PQPC1E5xh/v0/RQ05eKBBD0Cu/M395FoDQKV3FBgMqAdA4P1EHGwQxD+QMdZfghnyP6iRgKszxd4/tN7YA/bz8j8ogwmW8GTeP/A2Cx/WWfQ/1otY70iD+j/4NPBm+GvQP97AQkq7KAZAct11X5khAkBQXhI0JPzwP2y5qrNyvgBAgB96PXwM2D9wG1VYJ24CQEFiHGHLvA1AmikTCG9j9D/sjl4DbVsFQETTWprA3uA/UpRdByfsBkDYKh4ioYXyP0h5XYbQcuc/1RY2xrbEAkDAxByVEpe0P/muej2thgpAAGr6SpA7kz8=\",\"dtype\":\"float64\",\"shape\":[100]},\"y\":{\"__ndarray__\":\"MEzawyIJIUCtgjYelDckQIpPwSk7ESJA4lrvZuX1IEDGIX8X60gdQIGvk1Zd5CJA9lzaeFLRHUDByTGN/ZcnQAxU1LDn9yhA0hwr4ja/G0DfFb9gPK4lQA1uHGGhpyBA7dXjj0ZnIUAB1KhXkD0oQKZFhE9ImQ9AVLbpTzNqEEA43BOAO7YLQBoXOo1sdiZAcDiP/9BrJUBU2zd9dy0nQBn0WJYdQSlAp6Hc2p/SJUDMTL5bPLseQEcSWg1udyVABjlRoR+bEUAX/OQIIMciQDLXc9GnkBJALOC5Ke2aKEAjqRDKIoUgQCComurf8BxASzzJN0YzF0DK/4u7nFglQI5Vbv0Phx5AsrQKiC5pIUCjMpNlQpoLQGqEGHgIWiJAoLeyL+o+IkAdpqBemVYiQKON9DFrlihAQIsy+zqUI0D8uukQ5dQaQHJzrc7iyx1A067Mu6DhI0ACAiJFmsUOQAnxg0WKSiNAqpYLfX1dI0CeEjAP5iAVQEx2ZNtoAxJA4ODgqlYlGUCFxdfkCv4aQFZoz6XPcSFA0ireqEDbHUCAm37j3nApQAMDqaw6/BBAQm9+/ycSFUAQwedCdEATQP3/R/qtByNAMW3Lw/7EFkBE5cmFieoeQLTOEIQxbhZAiU1elospE0AncX5TyU0RQLuOccVyFyNAqiToMAleEkAWpXsMypkUQHT4+7AiLxtAbUnxaoI9JkA8KQJ91MsQQMj2X8N9kCZA9RuC9QLCEEBm10kljDYpQEpDpG9zAR9ALuyHIQY4KUAIlctxbBsiQA7NSTdtrSRAxAzbDqspDUAoeiFV9uUXQDKjTyjxrRFADxqG+H9oGEA+TsO8j58RQPBmlPBZPhlAlRnbBfjsHEAHyLciZhIPQIX9tIdfyCNAjvVSGjZgIUBwPPMzcDsXQJ51XuT8iyBAFiI8iOKsEEAv+d8I9Y0hQLjRioWsTyhAHiNGFhZEGUDkwJ7ksE0jQNy6f/qFHxJA0U3eBSY9JEC6LoYBkiYYQK3P46GvFhRARDgolq7BIUAWhZDWD7QLQDdFHR1pZCZAwzRmBUiGCkA=\",\"dtype\":\"float64\",\"shape\":[100]}},\"selected\":{\"id\":\"4700\",\"type\":\"Selection\"},\"selection_policy\":{\"id\":\"4699\",\"type\":\"UnionRenderers\"}},\"id\":\"4537\",\"type\":\"ColumnDataSource\"},{\"attributes\":{},\"id\":\"3398\",\"type\":\"Selection\"},{\"attributes\":{\"data_source\":{\"id\":\"3667\",\"type\":\"ColumnDataSource\"},\"glyph\":{\"id\":\"3668\",\"type\":\"Line\"},\"hover_glyph\":null,\"muted_glyph\":null,\"nonselection_glyph\":{\"id\":\"3669\",\"type\":\"Line\"},\"selection_glyph\":null,\"view\":{\"id\":\"3671\",\"type\":\"CDSView\"},\"visible\":false},\"id\":\"3670\",\"type\":\"GlyphRenderer\"},{\"attributes\":{},\"id\":\"3393\",\"type\":\"BasicTickFormatter\"},{\"attributes\":{\"source\":{\"id\":\"4913\",\"type\":\"ColumnDataSource\"}},\"id\":\"4917\",\"type\":\"CDSView\"},{\"attributes\":{},\"id\":\"3988\",\"type\":\"Selection\"},{\"attributes\":{\"line_color\":\"red\",\"line_width\":2,\"x\":{\"field\":\"x\"},\"y\":{\"field\":\"y\"}},\"id\":\"5508\",\"type\":\"Line\"},{\"attributes\":{\"bottom_units\":\"screen\",\"fill_alpha\":{\"value\":0.5},\"fill_color\":{\"value\":\"lightgrey\"},\"left_units\":\"screen\",\"level\":\"overlay\",\"line_alpha\":{\"value\":1.0},\"line_color\":{\"value\":\"black\"},\"line_dash\":[4,4],\"line_width\":{\"value\":2},\"render_mode\":\"css\",\"right_units\":\"screen\",\"top_units\":\"screen\"},\"id\":\"3399\",\"type\":\"BoxAnnotation\"},{\"attributes\":{\"line_color\":\"red\",\"line_width\":2,\"x\":{\"field\":\"x\"},\"y\":{\"field\":\"y\"}},\"id\":\"4914\",\"type\":\"Line\"},{\"attributes\":{},\"id\":\"3395\",\"type\":\"BasicTickFormatter\"},{\"attributes\":{},\"id\":\"4887\",\"type\":\"UnionRenderers\"},{\"attributes\":{\"source\":{\"id\":\"4537\",\"type\":\"ColumnDataSource\"}},\"id\":\"4541\",\"type\":\"CDSView\"},{\"attributes\":{},\"id\":\"4888\",\"type\":\"Selection\"},{\"attributes\":{\"line_color\":\"red\",\"line_width\":2,\"x\":{\"field\":\"x\"},\"y\":{\"field\":\"y\"}},\"id\":\"3834\",\"type\":\"Line\"},{\"attributes\":{\"source\":{\"id\":\"4723\",\"type\":\"ColumnDataSource\"}},\"id\":\"4727\",\"type\":\"CDSView\"},{\"attributes\":{\"data_source\":{\"id\":\"5107\",\"type\":\"ColumnDataSource\"},\"glyph\":{\"id\":\"5108\",\"type\":\"Line\"},\"hover_glyph\":null,\"muted_glyph\":null,\"nonselection_glyph\":{\"id\":\"5109\",\"type\":\"Line\"},\"selection_glyph\":null,\"view\":{\"id\":\"5111\",\"type\":\"CDSView\"},\"visible\":false},\"id\":\"5110\",\"type\":\"GlyphRenderer\"},{\"attributes\":{\"callback\":null,\"data\":{\"x\":{\"__ndarray__\":\"qBJfVuGPAUAzh2DP1OIGQEuJbmvWSQNA9ZVj265vAUD2Dv0EKR37P1ubiSEqqwRA0llhym0B/D/3EjqIZ4kMQDYzF0lT1g5AFkLSS06K+D8oqT+/z1UJQCJ/6wm17ABALTaSyWstAkAIJVjXfJ4NQAjzy0prL9I/8NK9FBtO1j/giSKvIbS0P3sg1F/SpApAHbiP/KjmCEAn+Hq3I9cLQIH55GnXUA9A8iE0+7SSCUAY8Cm84Ij9PzIst1IY+ghAMGwPlztH3j///FOmO3oEQKgUmYhmWeI/iNIIT7o6DkALc2xA+7IAQATvyTvSifo/zpt9qXru8D+tmvK6hcYIQMB+uymRMf0/onaKZJwwAkDAc30poj2zP15EmYSrwwNAN6jjxEmWA0DEw4td7L0DQMZCnCsvMw5AsL/MzXjRBUDQjedsLQL3P4gCON9U+Ps/v6llqP5SBkAAWhF+39XOP73QnCYnVgVA7AKvjN11BUDE/brV0O3qP3jPAiyogOA/UtbcZPov9D9cspmKCUf3P/5YJ0wNPwJARv4SFQwS/D/M9tUrwqAPQICo49SbH9o/fDMpOnm86j88v+xPyqXkP5LQU25D5gRAeqBQ++018D80LswjCdj9P7jl+XlWSe8/rHpohR1Z5D8okpeVi0HcP4jQROmmAAVAZBp0nPqv4T9ocTFfnCnpP+LaTHUxmfc/ueUNmJNFCkDoWu4TodvYP9TTsdZx0ApAYCwav+eZ2D8mRYPrJz8PQPC1E5xh/v0/RQ05eKBBD0Cu/M395FoDQKV3FBgMqAdA4P1EHGwQxD+QMdZfghnyP6iRgKszxd4/tN7YA/bz8j8ogwmW8GTeP/A2Cx/WWfQ/1otY70iD+j/4NPBm+GvQP97AQkq7KAZAct11X5khAkBQXhI0JPzwP2y5qrNyvgBAgB96PXwM2D9wG1VYJ24CQEFiHGHLvA1AmikTCG9j9D/sjl4DbVsFQETTWprA3uA/UpRdByfsBkDYKh4ioYXyP0h5XYbQcuc/1RY2xrbEAkDAxByVEpe0P/muej2thgpAAGr6SpA7kz8=\",\"dtype\":\"float64\",\"shape\":[100]},\"y\":{\"__ndarray__\":\"CagqTMTmHEAS8cmIoz4lQAOBYoRWkyJA3JjGypFKG0CMXkhyRsEhQECWNA1HICZAJPyOceRbIUDA7nGolOglQKechPTvRiVAD1O5q3Q+IEAaVCyqetwjQG2l8tY+6CJAr+9f6ViBIUAZds9zSMMoQPaFbrnYshNAqjA+TUudFUAIfu+RYbAQQE9/9s3G5ChAFh53HU+0JECGJ4BoY7kmQGoU9QiYbCtAzhPVA00XIkDlvxpZdq8ZQB9dSO1gbSZAf8GqX0AvDkDYWBIkQCAmQF3MOObN7hJAzqjfwaqeJUAu5q17CTIkQMZk15d6mCFA/lYItZ7vH0CTUVnzJzMmQGObfm/jJhtA7tLaOkLqJECTNQwv+w4PQOZ03VKxfCNA+iUvGCOwI0DcISWzmI8hQCazRzIAVChA12/z3+fAJEBkjDpojAIdQHj7eB1hlhlAXBm8ADLCI0CSq6ESljsXQB2cSS11RyFAFGNV4FFuIkCUN+lQ2/0UQJyxDm/PhRtAN/vYO2vIHEBt8UBywkQdQOK3BWuoKh9A4ruWfZsYIECTr4L0HncmQBGqN6uLZBNAeZeKEgMkFEDYEfqBHd4XQEL6gqBYmiNAIkvMuKpFF0A1zUKtw0AgQChrXBoKcxNA3JS/THY+DkDRNJ9YIUoVQJjgGa+p1SJASY9yVUT2FkBwDmMyvtIfQO3kF1y+kx9AbUK8XGxPI0CsradAR5MXQN59n016xiJA5jRrVZM6EUCCcXNlo3wnQDOT3ajT7CJAnw0Uu38jJkDCmieLTwYgQH4Aga2doSNAe19czz8zDUC+4coIbo4dQFhqbcmZDQ9AfkUv/PjiFEC9WOosSgwSQJpThdfuLhhAhpft2718IkAClK0EtNkVQOpSTikxQSNAge/izcA6HUBfky/Kst4bQBK+8j86vhxAus16HG6nCUALNQwdWZcjQEML4P2rgCdAXRGbIa3gHUCsuArH5lAjQI4KmCcVpRdAmZ+uScAoIkD4vNgCwB8VQHH6awuolhhA1GtSwAWOH0Culs58PsULQAaZUxAbWiRAA3QXL104EEA=\",\"dtype\":\"float64\",\"shape\":[100]}},\"selected\":{\"id\":\"3398\",\"type\":\"Selection\"},\"selection_policy\":{\"id\":\"3397\",\"type\":\"UnionRenderers\"}},\"id\":\"3242\",\"type\":\"ColumnDataSource\"},{\"attributes\":{\"callback\":null,\"data\":{\"x\":{\"__ndarray__\":\"qBJfVuGPAUAzh2DP1OIGQEuJbmvWSQNA9ZVj265vAUD2Dv0EKR37P1ubiSEqqwRA0llhym0B/D/3EjqIZ4kMQDYzF0lT1g5AFkLSS06K+D8oqT+/z1UJQCJ/6wm17ABALTaSyWstAkAIJVjXfJ4NQAjzy0prL9I/8NK9FBtO1j/giSKvIbS0P3sg1F/SpApAHbiP/KjmCEAn+Hq3I9cLQIH55GnXUA9A8iE0+7SSCUAY8Cm84Ij9PzIst1IY+ghAMGwPlztH3j///FOmO3oEQKgUmYhmWeI/iNIIT7o6DkALc2xA+7IAQATvyTvSifo/zpt9qXru8D+tmvK6hcYIQMB+uymRMf0/onaKZJwwAkDAc30poj2zP15EmYSrwwNAN6jjxEmWA0DEw4td7L0DQMZCnCsvMw5AsL/MzXjRBUDQjedsLQL3P4gCON9U+Ps/v6llqP5SBkAAWhF+39XOP73QnCYnVgVA7AKvjN11BUDE/brV0O3qP3jPAiyogOA/UtbcZPov9D9cspmKCUf3P/5YJ0wNPwJARv4SFQwS/D/M9tUrwqAPQICo49SbH9o/fDMpOnm86j88v+xPyqXkP5LQU25D5gRAeqBQ++018D80LswjCdj9P7jl+XlWSe8/rHpohR1Z5D8okpeVi0HcP4jQROmmAAVAZBp0nPqv4T9ocTFfnCnpP+LaTHUxmfc/ueUNmJNFCkDoWu4TodvYP9TTsdZx0ApAYCwav+eZ2D8mRYPrJz8PQPC1E5xh/v0/RQ05eKBBD0Cu/M395FoDQKV3FBgMqAdA4P1EHGwQxD+QMdZfghnyP6iRgKszxd4/tN7YA/bz8j8ogwmW8GTeP/A2Cx/WWfQ/1otY70iD+j/4NPBm+GvQP97AQkq7KAZAct11X5khAkBQXhI0JPzwP2y5qrNyvgBAgB96PXwM2D9wG1VYJ24CQEFiHGHLvA1AmikTCG9j9D/sjl4DbVsFQETTWprA3uA/UpRdByfsBkDYKh4ioYXyP0h5XYbQcuc/1RY2xrbEAkDAxByVEpe0P/muej2thgpAAGr6SpA7kz8=\",\"dtype\":\"float64\",\"shape\":[100]},\"y\":{\"__ndarray__\":\"lo7v93QMIUAwIkl95+IjQB1n87ME+CFA2huYwkv7IEBkbsTI89MdQJMvbBhXtCJA8tUpWJ5NHkAkM5r86+UmQO/7enPQHyhAat8tHMl0HECehOMHFTElQJ94CYF8tSBAVt/67mxgIUCkDYomm3knQE6b5A2szBFA3tQQQDVZEkAPiXPK5hAQQEQWHymk4yVA/BOAwtb1JEDA0ZtI6IYmQD+OOGcdYShArulnB4pRJUAAuENeQh4fQMLKA5gyACVAykvjoy9pE0CH1DWIQpoiQNLscJwwRBRAhCgko+HMJ0CYWwEBuJYgQBweVNNrhR1A1F9RF5pmGEBctXCqteQkQO/RWhK57x5A8txKLiBiIUCFbmEYbQQQQOxqZ130OCJA6F32JsQgIkCvvx4/5DUiQIhXMVncyCdArM6fbjRRI0D8MF1iyKMbQESoUArFSB5A06rHbj2WI0C1ySh7RG4RQBvloe95DyNAVvZnAmEgI0CaoAKyh40WQIqbJmY0xhNAhkTve9oiGkC/ghcZfMgbQHKarp3SaSFAfulQ3XlWHkCXsl7WtYsoQOjsF5N12xJARq3QZWGAFkC+rTWb/uAUQBpiUPPW0yJAMg2a3jwEGEBuJ5I2c0gfQNTSvHzQthdAzu7Vko/MFEDtyzhrNCQTQHR6A5jn4SJAgykYFQoXFED9dtizBBUWQKXEEQZG9BtAdmIEPeCwJUAhLgUSSrASQIrPm1/k+iVApcO3HIinEkCsJIBEsFcoQMYb+lnjXB9AAST5aQFZKECo6F0RHAEiQJdYYwEFTCRAEaEsw422EEAm20LX+wUZQNHb86n4eRNAAqWr6Wp6GUAZtYX/JG0TQKIHR+wpORpAgs3U9u+BHUBaxetZhJARQAdxA8G2fyNAGAPx3R9aIUCQmy1E4m0YQDgXPZbUnCBARNktCLCUEkAmh4qB7YIhQPhnb2vCiSdAk0szckc+GkCIRTxoSRIjQGzvqupH3xNA3BGPVd/nI0BS2JiBnD8ZQKHBrn4UoBVA+0QnZBCxIUD1ZUf67g8QQBDrq/WS0yVATVIgJbESD0A=\",\"dtype\":\"float64\",\"shape\":[100]}},\"selected\":{\"id\":\"5888\",\"type\":\"Selection\"},\"selection_policy\":{\"id\":\"5887\",\"type\":\"UnionRenderers\"}},\"id\":\"5713\",\"type\":\"ColumnDataSource\"},{\"attributes\":{\"data_source\":{\"id\":\"4537\",\"type\":\"ColumnDataSource\"},\"glyph\":{\"id\":\"4538\",\"type\":\"Line\"},\"hover_glyph\":null,\"muted_glyph\":null,\"nonselection_glyph\":{\"id\":\"4539\",\"type\":\"Line\"},\"selection_glyph\":null,\"view\":{\"id\":\"4541\",\"type\":\"CDSView\"},\"visible\":false},\"id\":\"4540\",\"type\":\"GlyphRenderer\"},{\"attributes\":{\"line_color\":\"red\",\"line_width\":2,\"x\":{\"field\":\"x\"},\"y\":{\"field\":\"y\"}},\"id\":\"5108\",\"type\":\"Line\"},{\"attributes\":{\"below\":[{\"id\":\"3219\",\"type\":\"LinearAxis\"}],\"center\":[{\"id\":\"3223\",\"type\":\"Grid\"},{\"id\":\"3228\",\"type\":\"Grid\"}],\"left\":[{\"id\":\"3224\",\"type\":\"LinearAxis\"}],\"plot_height\":400,\"renderers\":[{\"id\":\"3245\",\"type\":\"GlyphRenderer\"},{\"id\":\"3670\",\"type\":\"GlyphRenderer\"},{\"id\":\"3836\",\"type\":\"GlyphRenderer\"},{\"id\":\"4006\",\"type\":\"GlyphRenderer\"},{\"id\":\"4180\",\"type\":\"GlyphRenderer\"},{\"id\":\"4358\",\"type\":\"GlyphRenderer\"},{\"id\":\"4540\",\"type\":\"GlyphRenderer\"},{\"id\":\"4726\",\"type\":\"GlyphRenderer\"},{\"id\":\"4916\",\"type\":\"GlyphRenderer\"},{\"id\":\"5110\",\"type\":\"GlyphRenderer\"},{\"id\":\"5308\",\"type\":\"GlyphRenderer\"},{\"id\":\"5510\",\"type\":\"GlyphRenderer\"},{\"id\":\"5716\",\"type\":\"GlyphRenderer\"},{\"id\":\"5926\",\"type\":\"GlyphRenderer\"},{\"id\":\"6140\",\"type\":\"GlyphRenderer\"},{\"id\":\"6358\",\"type\":\"GlyphRenderer\"},{\"id\":\"6580\",\"type\":\"GlyphRenderer\"},{\"id\":\"6806\",\"type\":\"GlyphRenderer\"},{\"id\":\"7036\",\"type\":\"GlyphRenderer\"},{\"id\":\"7270\",\"type\":\"GlyphRenderer\"},{\"id\":\"7508\",\"type\":\"GlyphRenderer\"},{\"id\":\"7750\",\"type\":\"GlyphRenderer\"}],\"title\":{\"id\":\"3391\",\"type\":\"Title\"},\"toolbar\":{\"id\":\"3235\",\"type\":\"Toolbar\"},\"x_range\":{\"id\":\"3211\",\"type\":\"DataRange1d\"},\"x_scale\":{\"id\":\"3215\",\"type\":\"LinearScale\"},\"y_range\":{\"id\":\"3213\",\"type\":\"DataRange1d\"},\"y_scale\":{\"id\":\"3217\",\"type\":\"LinearScale\"}},\"id\":\"3210\",\"subtype\":\"Figure\",\"type\":\"Plot\"},{\"attributes\":{\"callback\":null,\"data\":{\"x\":{\"__ndarray__\":\"qBJfVuGPAUAzh2DP1OIGQEuJbmvWSQNA9ZVj265vAUD2Dv0EKR37P1ubiSEqqwRA0llhym0B/D/3EjqIZ4kMQDYzF0lT1g5AFkLSS06K+D8oqT+/z1UJQCJ/6wm17ABALTaSyWstAkAIJVjXfJ4NQAjzy0prL9I/8NK9FBtO1j/giSKvIbS0P3sg1F/SpApAHbiP/KjmCEAn+Hq3I9cLQIH55GnXUA9A8iE0+7SSCUAY8Cm84Ij9PzIst1IY+ghAMGwPlztH3j///FOmO3oEQKgUmYhmWeI/iNIIT7o6DkALc2xA+7IAQATvyTvSifo/zpt9qXru8D+tmvK6hcYIQMB+uymRMf0/onaKZJwwAkDAc30poj2zP15EmYSrwwNAN6jjxEmWA0DEw4td7L0DQMZCnCsvMw5AsL/MzXjRBUDQjedsLQL3P4gCON9U+Ps/v6llqP5SBkAAWhF+39XOP73QnCYnVgVA7AKvjN11BUDE/brV0O3qP3jPAiyogOA/UtbcZPov9D9cspmKCUf3P/5YJ0wNPwJARv4SFQwS/D/M9tUrwqAPQICo49SbH9o/fDMpOnm86j88v+xPyqXkP5LQU25D5gRAeqBQ++018D80LswjCdj9P7jl+XlWSe8/rHpohR1Z5D8okpeVi0HcP4jQROmmAAVAZBp0nPqv4T9ocTFfnCnpP+LaTHUxmfc/ueUNmJNFCkDoWu4TodvYP9TTsdZx0ApAYCwav+eZ2D8mRYPrJz8PQPC1E5xh/v0/RQ05eKBBD0Cu/M395FoDQKV3FBgMqAdA4P1EHGwQxD+QMdZfghnyP6iRgKszxd4/tN7YA/bz8j8ogwmW8GTeP/A2Cx/WWfQ/1otY70iD+j/4NPBm+GvQP97AQkq7KAZAct11X5khAkBQXhI0JPzwP2y5qrNyvgBAgB96PXwM2D9wG1VYJ24CQEFiHGHLvA1AmikTCG9j9D/sjl4DbVsFQETTWprA3uA/UpRdByfsBkDYKh4ioYXyP0h5XYbQcuc/1RY2xrbEAkDAxByVEpe0P/muej2thgpAAGr6SpA7kz8=\",\"dtype\":\"float64\",\"shape\":[100]},\"y\":{\"__ndarray__\":\"SlU1nEcHIUDH1zuB//AjQIGKrRAX+SFAC6gq3Kn1IEBmjCypmqwdQP+Yjl5ouiJAHkXad38pHkBo4HgOeAgnQKsH0jGwSihApVYNLh9EHEA3Av56CkglQJI7MYUAriBAipJq0HldIUDCuH0oEqAnQGz7QT6jUxFA6m8G1ebjEUCfEh2VMBgPQMlA5jhW/yVAUvr/4TkLJUD+q98Z76YmQKIo/Zu4jShA4cK25VtpJUB4sCNkrP8eQHDKXxDcFSVA6NtZQBj7EkAwYSmxop8iQIMpgn/o2xNAhhb8LI71J0DibBcTa44gQGbi0WP9Wx1A/EaAwWUaGED1ZVh2pPkkQNZp4w/nzx5AzfuImzhfIUDBvpW/k/4OQIw0BLe/OyJABOepPOsiIkBhurXLmjgiQOxiCZVt8SdA9jcX/W5bI0A8xYAYk20bQAZbMDyFJB5AjKNK0EyiI0CMbDaPuvIQQLVVvx/2FyNAc4QX/E8pI0CkLAavxjQWQLrfWLWUWhNAqN+PGm/iGUA+BG0OQJMbQK/BVlAfZyFAhsrzI5cyHkCBtTJQcrkoQNcmkLSbaRJAkHL6FUcnFkAAV2xe33wUQKbg3CO+2iJA7qWwiGy1F0BchgXC+yofQGqXtFzyZRdAF3yakeVnFEAXUjeSSLQSQGqc4Ewu6SJADTEVWY+tE0Agjc1IEbkVQGv6FVszwBtA0f08jDnLJUDMvqkHSz0SQGaYb1U0FyZA3swBmU00EkDuwW51C4QoQMCvYbH2Px9AIq1/jGWFKEBe33MrbAIiQHjocd7mXCRASiYZOSQ2EEDSHwziAb4YQGec6kNTDBNAlFolq4c1GUDO7st9KP8SQJCx1Q1W+RlAqkyb3mlYHUDURWwF4xURQJyWdCgtiyNAl0fj9AFXIUCajSdi3yEYQEHUjimxlCBA4wuti/UgEkCVctOx5IAhQLyeZSCnsCdAPOfaUJb+GUATDFmu2BojQI7YbIVSdBNAdjC6Fhn2I0CWuCbnKfkYQNk6+u8GQRVAT2FL5UCwIUCnL+zOMxYPQDl4TujX7iVAmMEjAeMBDkA=\",\"dtype\":\"float64\",\"shape\":[100]}},\"selected\":{\"id\":\"5476\",\"type\":\"Selection\"},\"selection_policy\":{\"id\":\"5475\",\"type\":\"UnionRenderers\"}},\"id\":\"5305\",\"type\":\"ColumnDataSource\"},{\"attributes\":{},\"id\":\"4515\",\"type\":\"UnionRenderers\"},{\"attributes\":{\"line_alpha\":0.1,\"line_color\":\"#1f77b4\",\"line_width\":2,\"x\":{\"field\":\"x\"},\"y\":{\"field\":\"y\"}},\"id\":\"4915\",\"type\":\"Line\"},{\"attributes\":{\"callback\":null},\"id\":\"3211\",\"type\":\"DataRange1d\"},{\"attributes\":{\"formatter\":{\"id\":\"3395\",\"type\":\"BasicTickFormatter\"},\"ticker\":{\"id\":\"3220\",\"type\":\"BasicTicker\"}},\"id\":\"3219\",\"type\":\"LinearAxis\"},{\"attributes\":{},\"id\":\"4516\",\"type\":\"Selection\"},{\"attributes\":{\"callback\":null},\"id\":\"3213\",\"type\":\"DataRange1d\"},{\"attributes\":{\"source\":{\"id\":\"5107\",\"type\":\"ColumnDataSource\"}},\"id\":\"5111\",\"type\":\"CDSView\"},{\"attributes\":{\"args\":{\"lines\":{\"1\":{\"id\":\"3670\",\"type\":\"GlyphRenderer\"},\"101\":{\"id\":\"7750\",\"type\":\"GlyphRenderer\"},\"11\":{\"id\":\"4006\",\"type\":\"GlyphRenderer\"},\"16\":{\"id\":\"4180\",\"type\":\"GlyphRenderer\"},\"21\":{\"id\":\"4358\",\"type\":\"GlyphRenderer\"},\"26\":{\"id\":\"4540\",\"type\":\"GlyphRenderer\"},\"31\":{\"id\":\"4726\",\"type\":\"GlyphRenderer\"},\"36\":{\"id\":\"4916\",\"type\":\"GlyphRenderer\"},\"41\":{\"id\":\"5110\",\"type\":\"GlyphRenderer\"},\"46\":{\"id\":\"5308\",\"type\":\"GlyphRenderer\"},\"51\":{\"id\":\"5510\",\"type\":\"GlyphRenderer\"},\"56\":{\"id\":\"5716\",\"type\":\"GlyphRenderer\"},\"6\":{\"id\":\"3836\",\"type\":\"GlyphRenderer\"},\"61\":{\"id\":\"5926\",\"type\":\"GlyphRenderer\"},\"66\":{\"id\":\"6140\",\"type\":\"GlyphRenderer\"},\"71\":{\"id\":\"6358\",\"type\":\"GlyphRenderer\"},\"76\":{\"id\":\"6580\",\"type\":\"GlyphRenderer\"},\"81\":{\"id\":\"6806\",\"type\":\"GlyphRenderer\"},\"86\":{\"id\":\"7036\",\"type\":\"GlyphRenderer\"},\"91\":{\"id\":\"7270\",\"type\":\"GlyphRenderer\"},\"96\":{\"id\":\"7508\",\"type\":\"GlyphRenderer\"}}},\"code\":\"\\n        var f = cb_obj.value\\n        for (var key in lines){\\n            lines[key].visible = f == key\\n        }\\n    \"},\"id\":\"7993\",\"type\":\"CustomJS\"},{\"attributes\":{\"line_color\":\"red\",\"line_width\":2,\"x\":{\"field\":\"x\"},\"y\":{\"field\":\"y\"}},\"id\":\"7268\",\"type\":\"Line\"},{\"attributes\":{},\"id\":\"3215\",\"type\":\"LinearScale\"},{\"attributes\":{\"line_alpha\":0.1,\"line_color\":\"#1f77b4\",\"line_width\":2,\"x\":{\"field\":\"x\"},\"y\":{\"field\":\"y\"}},\"id\":\"5109\",\"type\":\"Line\"},{\"attributes\":{\"source\":{\"id\":\"3833\",\"type\":\"ColumnDataSource\"}},\"id\":\"3837\",\"type\":\"CDSView\"},{\"attributes\":{\"data_source\":{\"id\":\"3833\",\"type\":\"ColumnDataSource\"},\"glyph\":{\"id\":\"3834\",\"type\":\"Line\"},\"hover_glyph\":null,\"muted_glyph\":null,\"nonselection_glyph\":{\"id\":\"3835\",\"type\":\"Line\"},\"selection_glyph\":null,\"view\":{\"id\":\"3837\",\"type\":\"CDSView\"},\"visible\":false},\"id\":\"3836\",\"type\":\"GlyphRenderer\"},{\"attributes\":{\"ticker\":{\"id\":\"3220\",\"type\":\"BasicTicker\"}},\"id\":\"3223\",\"type\":\"Grid\"},{\"attributes\":{},\"id\":\"5080\",\"type\":\"Selection\"},{\"attributes\":{},\"id\":\"3217\",\"type\":\"LinearScale\"},{\"attributes\":{\"line_color\":\"red\",\"line_width\":2,\"x\":{\"field\":\"x\"},\"y\":{\"field\":\"y\"}},\"id\":\"5924\",\"type\":\"Line\"},{\"attributes\":{\"line_color\":\"red\",\"line_width\":2,\"x\":{\"field\":\"x\"},\"y\":{\"field\":\"y\"}},\"id\":\"4724\",\"type\":\"Line\"},{\"attributes\":{},\"id\":\"5079\",\"type\":\"UnionRenderers\"},{\"attributes\":{\"line_alpha\":0.1,\"line_color\":\"#1f77b4\",\"line_width\":2,\"x\":{\"field\":\"x\"},\"y\":{\"field\":\"y\"}},\"id\":\"3835\",\"type\":\"Line\"}],\"root_ids\":[\"7994\"]},\"title\":\"Bokeh Application\",\"version\":\"1.4.0\"}};\n",
       "  var render_items = [{\"docid\":\"df84252d-4f5c-4180-912b-c444df0c3ffa\",\"roots\":{\"7994\":\"7cd468f1-eb39-48d7-9cd4-c4e8b7b59b68\"}}];\n",
       "  root.Bokeh.embed.embed_items_notebook(docs_json, render_items);\n",
       "\n",
       "  }\n",
       "  if (root.Bokeh !== undefined) {\n",
       "    embed_document(root);\n",
       "  } else {\n",
       "    var attempts = 0;\n",
       "    var timer = setInterval(function(root) {\n",
       "      if (root.Bokeh !== undefined) {\n",
       "        clearInterval(timer);\n",
       "        embed_document(root);\n",
       "      } else {\n",
       "        attempts++;\n",
       "        if (attempts > 100) {\n",
       "          clearInterval(timer);\n",
       "          console.log(\"Bokeh: ERROR: Unable to run BokehJS code because BokehJS library is missing\");\n",
       "        }\n",
       "      }\n",
       "    }, 10, root)\n",
       "  }\n",
       "})(window);"
      ],
      "application/vnd.bokehjs_exec.v0+json": ""
     },
     "metadata": {
      "application/vnd.bokehjs_exec.v0+json": {
       "id": "7994"
      }
     },
     "output_type": "display_data"
    }
   ],
   "source": [
    "layout = column(iter_slider, p_2)\n",
    "show(layout)"
   ]
  },
  {
   "cell_type": "code",
   "execution_count": null,
   "metadata": {},
   "outputs": [],
   "source": []
  },
  {
   "cell_type": "code",
   "execution_count": null,
   "metadata": {},
   "outputs": [],
   "source": []
  },
  {
   "cell_type": "code",
   "execution_count": null,
   "metadata": {},
   "outputs": [],
   "source": []
  },
  {
   "cell_type": "code",
   "execution_count": null,
   "metadata": {},
   "outputs": [],
   "source": []
  },
  {
   "cell_type": "code",
   "execution_count": null,
   "metadata": {},
   "outputs": [],
   "source": []
  }
 ],
 "metadata": {
  "kernelspec": {
   "display_name": "Python 3",
   "language": "python",
   "name": "python3"
  },
  "language_info": {
   "codemirror_mode": {
    "name": "ipython",
    "version": 3
   },
   "file_extension": ".py",
   "mimetype": "text/x-python",
   "name": "python",
   "nbconvert_exporter": "python",
   "pygments_lexer": "ipython3",
   "version": "3.7.6"
  }
 },
 "nbformat": 4,
 "nbformat_minor": 4
}
